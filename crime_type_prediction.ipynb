{
 "cells": [
  {
   "cell_type": "code",
   "execution_count": 1,
   "id": "65b86626",
   "metadata": {
    "_cell_guid": "b1076dfc-b9ad-4769-8c92-a6c4dae69d19",
    "_uuid": "8f2839f25d086af736a60e9eeb907d3b93b6e0e5",
    "execution": {
     "iopub.execute_input": "2024-08-09T17:58:37.187009Z",
     "iopub.status.busy": "2024-08-09T17:58:37.186593Z",
     "iopub.status.idle": "2024-08-09T17:58:38.249276Z",
     "shell.execute_reply": "2024-08-09T17:58:38.247597Z"
    },
    "papermill": {
     "duration": 1.126157,
     "end_time": "2024-08-09T17:58:38.252355",
     "exception": false,
     "start_time": "2024-08-09T17:58:37.126198",
     "status": "completed"
    },
    "tags": []
   },
   "outputs": [
    {
     "name": "stdout",
     "output_type": "stream",
     "text": [
      "/kaggle/input/crime-cast-forecasting-crime-categories/sample.csv\n",
      "/kaggle/input/crime-cast-forecasting-crime-categories/train.csv\n",
      "/kaggle/input/crime-cast-forecasting-crime-categories/test.csv\n"
     ]
    }
   ],
   "source": [
    "# This Python 3 environment comes with many helpful analytics libraries installed\n",
    "# It is defined by the kaggle/python Docker image: https://github.com/kaggle/docker-python\n",
    "# For example, here's several helpful packages to load\n",
    "\n",
    "import numpy as np # linear algebra\n",
    "import pandas as pd # data processing, CSV file I/O (e.g. pd.read_csv)\n",
    "\n",
    "# Input data files are available in the read-only \"../input/\" directory\n",
    "# For example, running this (by clicking run or pressing Shift+Enter) will list all files under the input directory\n",
    "\n",
    "import os\n",
    "for dirname, _, filenames in os.walk('/kaggle/input'):\n",
    "    for filename in filenames:\n",
    "        print(os.path.join(dirname, filename))\n",
    "\n",
    "# You can write up to 20GB to the current directory (/kaggle/working/) that gets preserved as output when you create a version using \"Save & Run All\" \n",
    "# You can also write temporary files to /kaggle/temp/, but they won't be saved outside of the current session"
   ]
  },
  {
   "cell_type": "markdown",
   "id": "648d8171",
   "metadata": {
    "papermill": {
     "duration": 0.05354,
     "end_time": "2024-08-09T17:58:38.360053",
     "exception": false,
     "start_time": "2024-08-09T17:58:38.306513",
     "status": "completed"
    },
    "tags": []
   },
   "source": [
    "# CrimeCast: Forecasting Crime Categories"
   ]
  },
  {
   "cell_type": "markdown",
   "id": "714eda09",
   "metadata": {
    "papermill": {
     "duration": 0.054226,
     "end_time": "2024-08-09T17:58:38.469189",
     "exception": false,
     "start_time": "2024-08-09T17:58:38.414963",
     "status": "completed"
    },
    "tags": []
   },
   "source": [
    "Goal:Develop models capable of accurately predicting the crime categories based on this information.\n",
    "\n",
    "This dataset offers a comprehensive snapshot of criminal activities within the city. It encompasses various aspects of each incident, including date, time, location, victim demographics, and more."
   ]
  },
  {
   "cell_type": "markdown",
   "id": "4cf838fe",
   "metadata": {
    "papermill": {
     "duration": 0.054564,
     "end_time": "2024-08-09T17:58:38.580263",
     "exception": false,
     "start_time": "2024-08-09T17:58:38.525699",
     "status": "completed"
    },
    "tags": []
   },
   "source": [
    "# Data Wrangling"
   ]
  },
  {
   "cell_type": "code",
   "execution_count": 2,
   "id": "ef8ae366",
   "metadata": {
    "execution": {
     "iopub.execute_input": "2024-08-09T17:58:38.751289Z",
     "iopub.status.busy": "2024-08-09T17:58:38.750727Z",
     "iopub.status.idle": "2024-08-09T17:58:38.963399Z",
     "shell.execute_reply": "2024-08-09T17:58:38.962316Z"
    },
    "papermill": {
     "duration": 0.332824,
     "end_time": "2024-08-09T17:58:38.966420",
     "exception": false,
     "start_time": "2024-08-09T17:58:38.633596",
     "status": "completed"
    },
    "tags": []
   },
   "outputs": [],
   "source": [
    "train_df=pd.read_csv('/kaggle/input/crime-cast-forecasting-crime-categories/train.csv')"
   ]
  },
  {
   "cell_type": "markdown",
   "id": "f535b31f",
   "metadata": {
    "papermill": {
     "duration": 0.056401,
     "end_time": "2024-08-09T17:58:39.077370",
     "exception": false,
     "start_time": "2024-08-09T17:58:39.020969",
     "status": "completed"
    },
    "tags": []
   },
   "source": [
    "Columns Description:\n",
    "\n",
    "Location: Street address of the crime incident.\n",
    "\n",
    "Cross_Street: Cross street of the rounded address.\n",
    "\n",
    "Latitude: Latitude coordinates of the crime incident.\n",
    "\n",
    "Longitude: Longitude coordinates of the crime incident.\n",
    "\n",
    "Date_Reported: Date the incident was reported.\n",
    "\n",
    "Date_Occurred: Date the incident occurred.\n",
    "\n",
    "Time_Occurred: Time the incident occurred in 24-hour military time.\n",
    "\n",
    "Area_ID: LAPD's Geographic Area number.\n",
    "\n",
    "Area_Name: Name designation of the LAPD Geographic Area.\n",
    "\n",
    "Reporting_District_no: Reporting district number.\n",
    "\n",
    "Part 1-2: Crime classification.\n",
    "\n",
    "Modus_Operandi: Activities associated with the suspect.\n",
    "\n",
    "Victim_Age: Age of the victim.\n",
    "\n",
    "Victim_Sex: Gender of the victim.\n",
    "\n",
    "Victim_Descent: Descent code of the victim.\n",
    "\n",
    "Premise_Code: Premise code indicating the location of the crime.\n",
    "\n",
    "Premise_Description: Description of the premise code.\n",
    "\n",
    "Weapon_Used_Code: Weapon code indicating the type of weapon used.\n",
    "\n",
    "Weapon_Description: Description of the weapon code.\n",
    "\n",
    "Status: Status of the case.\n",
    "\n",
    "Status_Description: Description of the status code.\n",
    "\n",
    "Crime_Category: The category of the crime (Target Variable)"
   ]
  },
  {
   "cell_type": "code",
   "execution_count": 3,
   "id": "3f725dcf",
   "metadata": {
    "execution": {
     "iopub.execute_input": "2024-08-09T17:58:39.207201Z",
     "iopub.status.busy": "2024-08-09T17:58:39.206069Z",
     "iopub.status.idle": "2024-08-09T17:58:39.220897Z",
     "shell.execute_reply": "2024-08-09T17:58:39.219687Z"
    },
    "papermill": {
     "duration": 0.079292,
     "end_time": "2024-08-09T17:58:39.223557",
     "exception": false,
     "start_time": "2024-08-09T17:58:39.144265",
     "status": "completed"
    },
    "tags": []
   },
   "outputs": [
    {
     "data": {
      "text/plain": [
       "(20000,)"
      ]
     },
     "execution_count": 3,
     "metadata": {},
     "output_type": "execute_result"
    }
   ],
   "source": [
    "train_df['Crime_Category'].shape"
   ]
  },
  {
   "cell_type": "code",
   "execution_count": 4,
   "id": "96bfafb1",
   "metadata": {
    "execution": {
     "iopub.execute_input": "2024-08-09T17:58:39.375166Z",
     "iopub.status.busy": "2024-08-09T17:58:39.373946Z",
     "iopub.status.idle": "2024-08-09T17:58:39.442276Z",
     "shell.execute_reply": "2024-08-09T17:58:39.440933Z"
    },
    "papermill": {
     "duration": 0.153693,
     "end_time": "2024-08-09T17:58:39.446053",
     "exception": false,
     "start_time": "2024-08-09T17:58:39.292360",
     "status": "completed"
    },
    "tags": []
   },
   "outputs": [],
   "source": [
    "test_df=pd.read_csv('/kaggle/input/crime-cast-forecasting-crime-categories/test.csv')"
   ]
  },
  {
   "cell_type": "code",
   "execution_count": 5,
   "id": "cf37db59",
   "metadata": {
    "execution": {
     "iopub.execute_input": "2024-08-09T17:58:39.563512Z",
     "iopub.status.busy": "2024-08-09T17:58:39.563100Z",
     "iopub.status.idle": "2024-08-09T17:58:39.569217Z",
     "shell.execute_reply": "2024-08-09T17:58:39.567928Z"
    },
    "papermill": {
     "duration": 0.065499,
     "end_time": "2024-08-09T17:58:39.572295",
     "exception": false,
     "start_time": "2024-08-09T17:58:39.506796",
     "status": "completed"
    },
    "tags": []
   },
   "outputs": [],
   "source": [
    "pd.set_option('display.max_columns',40)"
   ]
  },
  {
   "cell_type": "code",
   "execution_count": 6,
   "id": "19814bac",
   "metadata": {
    "execution": {
     "iopub.execute_input": "2024-08-09T17:58:39.683432Z",
     "iopub.status.busy": "2024-08-09T17:58:39.683023Z",
     "iopub.status.idle": "2024-08-09T17:58:39.720925Z",
     "shell.execute_reply": "2024-08-09T17:58:39.719673Z"
    },
    "papermill": {
     "duration": 0.096769,
     "end_time": "2024-08-09T17:58:39.723622",
     "exception": false,
     "start_time": "2024-08-09T17:58:39.626853",
     "status": "completed"
    },
    "tags": []
   },
   "outputs": [
    {
     "data": {
      "text/html": [
       "<div>\n",
       "<style scoped>\n",
       "    .dataframe tbody tr th:only-of-type {\n",
       "        vertical-align: middle;\n",
       "    }\n",
       "\n",
       "    .dataframe tbody tr th {\n",
       "        vertical-align: top;\n",
       "    }\n",
       "\n",
       "    .dataframe thead th {\n",
       "        text-align: right;\n",
       "    }\n",
       "</style>\n",
       "<table border=\"1\" class=\"dataframe\">\n",
       "  <thead>\n",
       "    <tr style=\"text-align: right;\">\n",
       "      <th></th>\n",
       "      <th>Location</th>\n",
       "      <th>Cross_Street</th>\n",
       "      <th>Latitude</th>\n",
       "      <th>Longitude</th>\n",
       "      <th>Date_Reported</th>\n",
       "      <th>Date_Occurred</th>\n",
       "      <th>Time_Occurred</th>\n",
       "      <th>Area_ID</th>\n",
       "      <th>Area_Name</th>\n",
       "      <th>Reporting_District_no</th>\n",
       "      <th>Part 1-2</th>\n",
       "      <th>Modus_Operandi</th>\n",
       "      <th>Victim_Age</th>\n",
       "      <th>Victim_Sex</th>\n",
       "      <th>Victim_Descent</th>\n",
       "      <th>Premise_Code</th>\n",
       "      <th>Premise_Description</th>\n",
       "      <th>Weapon_Used_Code</th>\n",
       "      <th>Weapon_Description</th>\n",
       "      <th>Status</th>\n",
       "      <th>Status_Description</th>\n",
       "      <th>Crime_Category</th>\n",
       "    </tr>\n",
       "  </thead>\n",
       "  <tbody>\n",
       "    <tr>\n",
       "      <th>0</th>\n",
       "      <td>4500    CARPENTER                    AV</td>\n",
       "      <td>NaN</td>\n",
       "      <td>34.1522</td>\n",
       "      <td>-118.3910</td>\n",
       "      <td>03/09/2020 12:00:00 AM</td>\n",
       "      <td>03/06/2020 12:00:00 AM</td>\n",
       "      <td>1800.0</td>\n",
       "      <td>15.0</td>\n",
       "      <td>N Hollywood</td>\n",
       "      <td>1563.0</td>\n",
       "      <td>1.0</td>\n",
       "      <td>0385</td>\n",
       "      <td>75.0</td>\n",
       "      <td>M</td>\n",
       "      <td>W</td>\n",
       "      <td>101.0</td>\n",
       "      <td>STREET</td>\n",
       "      <td>NaN</td>\n",
       "      <td>NaN</td>\n",
       "      <td>IC</td>\n",
       "      <td>Invest Cont</td>\n",
       "      <td>Property Crimes</td>\n",
       "    </tr>\n",
       "    <tr>\n",
       "      <th>1</th>\n",
       "      <td>45TH                         ST</td>\n",
       "      <td>ALAMEDA                      ST</td>\n",
       "      <td>34.0028</td>\n",
       "      <td>-118.2391</td>\n",
       "      <td>02/27/2020 12:00:00 AM</td>\n",
       "      <td>02/27/2020 12:00:00 AM</td>\n",
       "      <td>1345.0</td>\n",
       "      <td>13.0</td>\n",
       "      <td>Newton</td>\n",
       "      <td>1367.0</td>\n",
       "      <td>1.0</td>\n",
       "      <td>0906 0352 0371 0446 1822 0344 0416 0417</td>\n",
       "      <td>41.0</td>\n",
       "      <td>M</td>\n",
       "      <td>H</td>\n",
       "      <td>216.0</td>\n",
       "      <td>SWAP MEET</td>\n",
       "      <td>400.0</td>\n",
       "      <td>STRONG-ARM (HANDS, FIST, FEET OR BODILY FORCE)</td>\n",
       "      <td>IC</td>\n",
       "      <td>Invest Cont</td>\n",
       "      <td>Property Crimes</td>\n",
       "    </tr>\n",
       "    <tr>\n",
       "      <th>2</th>\n",
       "      <td>600 E  MARTIN LUTHER KING JR        BL</td>\n",
       "      <td>NaN</td>\n",
       "      <td>34.0111</td>\n",
       "      <td>-118.2653</td>\n",
       "      <td>08/21/2020 12:00:00 AM</td>\n",
       "      <td>08/21/2020 12:00:00 AM</td>\n",
       "      <td>605.0</td>\n",
       "      <td>13.0</td>\n",
       "      <td>Newton</td>\n",
       "      <td>1343.0</td>\n",
       "      <td>2.0</td>\n",
       "      <td>0329 1202</td>\n",
       "      <td>67.0</td>\n",
       "      <td>M</td>\n",
       "      <td>B</td>\n",
       "      <td>501.0</td>\n",
       "      <td>SINGLE FAMILY DWELLING</td>\n",
       "      <td>NaN</td>\n",
       "      <td>NaN</td>\n",
       "      <td>IC</td>\n",
       "      <td>Invest Cont</td>\n",
       "      <td>Property Crimes</td>\n",
       "    </tr>\n",
       "    <tr>\n",
       "      <th>3</th>\n",
       "      <td>14900    ORO GRANDE                   ST</td>\n",
       "      <td>NaN</td>\n",
       "      <td>34.2953</td>\n",
       "      <td>-118.4590</td>\n",
       "      <td>11/08/2020 12:00:00 AM</td>\n",
       "      <td>11/06/2020 12:00:00 AM</td>\n",
       "      <td>1800.0</td>\n",
       "      <td>19.0</td>\n",
       "      <td>Mission</td>\n",
       "      <td>1924.0</td>\n",
       "      <td>1.0</td>\n",
       "      <td>0329 1300</td>\n",
       "      <td>61.0</td>\n",
       "      <td>M</td>\n",
       "      <td>H</td>\n",
       "      <td>101.0</td>\n",
       "      <td>STREET</td>\n",
       "      <td>NaN</td>\n",
       "      <td>NaN</td>\n",
       "      <td>IC</td>\n",
       "      <td>Invest Cont</td>\n",
       "      <td>Property Crimes</td>\n",
       "    </tr>\n",
       "    <tr>\n",
       "      <th>4</th>\n",
       "      <td>7100 S  VERMONT                      AV</td>\n",
       "      <td>NaN</td>\n",
       "      <td>33.9787</td>\n",
       "      <td>-118.2918</td>\n",
       "      <td>02/25/2020 12:00:00 AM</td>\n",
       "      <td>02/25/2020 12:00:00 AM</td>\n",
       "      <td>1130.0</td>\n",
       "      <td>12.0</td>\n",
       "      <td>77th Street</td>\n",
       "      <td>1245.0</td>\n",
       "      <td>1.0</td>\n",
       "      <td>0416 0945 1822 0400 0417 0344</td>\n",
       "      <td>0.0</td>\n",
       "      <td>X</td>\n",
       "      <td>X</td>\n",
       "      <td>401.0</td>\n",
       "      <td>MINI-MART</td>\n",
       "      <td>400.0</td>\n",
       "      <td>STRONG-ARM (HANDS, FIST, FEET OR BODILY FORCE)</td>\n",
       "      <td>IC</td>\n",
       "      <td>Invest Cont</td>\n",
       "      <td>Property Crimes</td>\n",
       "    </tr>\n",
       "  </tbody>\n",
       "</table>\n",
       "</div>"
      ],
      "text/plain": [
       "                                   Location                     Cross_Street  \\\n",
       "0   4500    CARPENTER                    AV                              NaN   \n",
       "1           45TH                         ST  ALAMEDA                      ST   \n",
       "2    600 E  MARTIN LUTHER KING JR        BL                              NaN   \n",
       "3  14900    ORO GRANDE                   ST                              NaN   \n",
       "4   7100 S  VERMONT                      AV                              NaN   \n",
       "\n",
       "   Latitude  Longitude           Date_Reported           Date_Occurred  \\\n",
       "0   34.1522  -118.3910  03/09/2020 12:00:00 AM  03/06/2020 12:00:00 AM   \n",
       "1   34.0028  -118.2391  02/27/2020 12:00:00 AM  02/27/2020 12:00:00 AM   \n",
       "2   34.0111  -118.2653  08/21/2020 12:00:00 AM  08/21/2020 12:00:00 AM   \n",
       "3   34.2953  -118.4590  11/08/2020 12:00:00 AM  11/06/2020 12:00:00 AM   \n",
       "4   33.9787  -118.2918  02/25/2020 12:00:00 AM  02/25/2020 12:00:00 AM   \n",
       "\n",
       "   Time_Occurred  Area_ID    Area_Name  Reporting_District_no  Part 1-2  \\\n",
       "0         1800.0     15.0  N Hollywood                 1563.0       1.0   \n",
       "1         1345.0     13.0       Newton                 1367.0       1.0   \n",
       "2          605.0     13.0       Newton                 1343.0       2.0   \n",
       "3         1800.0     19.0      Mission                 1924.0       1.0   \n",
       "4         1130.0     12.0  77th Street                 1245.0       1.0   \n",
       "\n",
       "                            Modus_Operandi  Victim_Age Victim_Sex  \\\n",
       "0                                     0385        75.0          M   \n",
       "1  0906 0352 0371 0446 1822 0344 0416 0417        41.0          M   \n",
       "2                                0329 1202        67.0          M   \n",
       "3                                0329 1300        61.0          M   \n",
       "4            0416 0945 1822 0400 0417 0344         0.0          X   \n",
       "\n",
       "  Victim_Descent  Premise_Code     Premise_Description  Weapon_Used_Code  \\\n",
       "0              W         101.0                  STREET               NaN   \n",
       "1              H         216.0               SWAP MEET             400.0   \n",
       "2              B         501.0  SINGLE FAMILY DWELLING               NaN   \n",
       "3              H         101.0                  STREET               NaN   \n",
       "4              X         401.0               MINI-MART             400.0   \n",
       "\n",
       "                               Weapon_Description Status Status_Description  \\\n",
       "0                                             NaN     IC        Invest Cont   \n",
       "1  STRONG-ARM (HANDS, FIST, FEET OR BODILY FORCE)     IC        Invest Cont   \n",
       "2                                             NaN     IC        Invest Cont   \n",
       "3                                             NaN     IC        Invest Cont   \n",
       "4  STRONG-ARM (HANDS, FIST, FEET OR BODILY FORCE)     IC        Invest Cont   \n",
       "\n",
       "    Crime_Category  \n",
       "0  Property Crimes  \n",
       "1  Property Crimes  \n",
       "2  Property Crimes  \n",
       "3  Property Crimes  \n",
       "4  Property Crimes  "
      ]
     },
     "execution_count": 6,
     "metadata": {},
     "output_type": "execute_result"
    }
   ],
   "source": [
    "train_df.head()"
   ]
  },
  {
   "cell_type": "code",
   "execution_count": 7,
   "id": "2002a076",
   "metadata": {
    "execution": {
     "iopub.execute_input": "2024-08-09T17:58:39.834769Z",
     "iopub.status.busy": "2024-08-09T17:58:39.834303Z",
     "iopub.status.idle": "2024-08-09T17:58:39.864896Z",
     "shell.execute_reply": "2024-08-09T17:58:39.863674Z"
    },
    "papermill": {
     "duration": 0.089716,
     "end_time": "2024-08-09T17:58:39.867708",
     "exception": false,
     "start_time": "2024-08-09T17:58:39.777992",
     "status": "completed"
    },
    "tags": []
   },
   "outputs": [
    {
     "data": {
      "text/html": [
       "<div>\n",
       "<style scoped>\n",
       "    .dataframe tbody tr th:only-of-type {\n",
       "        vertical-align: middle;\n",
       "    }\n",
       "\n",
       "    .dataframe tbody tr th {\n",
       "        vertical-align: top;\n",
       "    }\n",
       "\n",
       "    .dataframe thead th {\n",
       "        text-align: right;\n",
       "    }\n",
       "</style>\n",
       "<table border=\"1\" class=\"dataframe\">\n",
       "  <thead>\n",
       "    <tr style=\"text-align: right;\">\n",
       "      <th></th>\n",
       "      <th>Location</th>\n",
       "      <th>Cross_Street</th>\n",
       "      <th>Latitude</th>\n",
       "      <th>Longitude</th>\n",
       "      <th>Date_Reported</th>\n",
       "      <th>Date_Occurred</th>\n",
       "      <th>Time_Occurred</th>\n",
       "      <th>Area_ID</th>\n",
       "      <th>Area_Name</th>\n",
       "      <th>Reporting_District_no</th>\n",
       "      <th>Part 1-2</th>\n",
       "      <th>Modus_Operandi</th>\n",
       "      <th>Victim_Age</th>\n",
       "      <th>Victim_Sex</th>\n",
       "      <th>Victim_Descent</th>\n",
       "      <th>Premise_Code</th>\n",
       "      <th>Premise_Description</th>\n",
       "      <th>Weapon_Used_Code</th>\n",
       "      <th>Weapon_Description</th>\n",
       "      <th>Status</th>\n",
       "      <th>Status_Description</th>\n",
       "    </tr>\n",
       "  </thead>\n",
       "  <tbody>\n",
       "    <tr>\n",
       "      <th>0</th>\n",
       "      <td>1500    LEIGHTON                     AV</td>\n",
       "      <td>NaN</td>\n",
       "      <td>34.0128</td>\n",
       "      <td>-118.3045</td>\n",
       "      <td>03/03/2020 12:00:00 AM</td>\n",
       "      <td>03/03/2020 12:00:00 AM</td>\n",
       "      <td>2000.0</td>\n",
       "      <td>3.0</td>\n",
       "      <td>Southwest</td>\n",
       "      <td>376.0</td>\n",
       "      <td>2.0</td>\n",
       "      <td>0416 1241 1243 1813 1821 2000</td>\n",
       "      <td>28.0</td>\n",
       "      <td>F</td>\n",
       "      <td>H</td>\n",
       "      <td>501.0</td>\n",
       "      <td>SINGLE FAMILY DWELLING</td>\n",
       "      <td>400.0</td>\n",
       "      <td>STRONG-ARM (HANDS, FIST, FEET OR BODILY FORCE)</td>\n",
       "      <td>IC</td>\n",
       "      <td>Invest Cont</td>\n",
       "    </tr>\n",
       "    <tr>\n",
       "      <th>1</th>\n",
       "      <td>100 S  NORMANDIE                    AV</td>\n",
       "      <td>NaN</td>\n",
       "      <td>34.0726</td>\n",
       "      <td>-118.3029</td>\n",
       "      <td>06/01/2020 12:00:00 AM</td>\n",
       "      <td>04/25/2020 12:00:00 AM</td>\n",
       "      <td>1700.0</td>\n",
       "      <td>20.0</td>\n",
       "      <td>Olympic</td>\n",
       "      <td>2014.0</td>\n",
       "      <td>1.0</td>\n",
       "      <td>0344 0394</td>\n",
       "      <td>26.0</td>\n",
       "      <td>M</td>\n",
       "      <td>B</td>\n",
       "      <td>502.0</td>\n",
       "      <td>MULTI-UNIT DWELLING (APARTMENT, DUPLEX, ETC)</td>\n",
       "      <td>NaN</td>\n",
       "      <td>NaN</td>\n",
       "      <td>IC</td>\n",
       "      <td>Invest Cont</td>\n",
       "    </tr>\n",
       "    <tr>\n",
       "      <th>2</th>\n",
       "      <td>300 E  111TH                        ST</td>\n",
       "      <td>NaN</td>\n",
       "      <td>33.9348</td>\n",
       "      <td>-118.2695</td>\n",
       "      <td>08/28/2020 12:00:00 AM</td>\n",
       "      <td>08/27/2020 12:00:00 AM</td>\n",
       "      <td>900.0</td>\n",
       "      <td>18.0</td>\n",
       "      <td>Southeast</td>\n",
       "      <td>1844.0</td>\n",
       "      <td>2.0</td>\n",
       "      <td>1822 0701 1914 0355 1202 0100</td>\n",
       "      <td>62.0</td>\n",
       "      <td>F</td>\n",
       "      <td>B</td>\n",
       "      <td>721.0</td>\n",
       "      <td>HIGH SCHOOL</td>\n",
       "      <td>NaN</td>\n",
       "      <td>NaN</td>\n",
       "      <td>IC</td>\n",
       "      <td>Invest Cont</td>\n",
       "    </tr>\n",
       "    <tr>\n",
       "      <th>3</th>\n",
       "      <td>1300 S  LA BREA                      AV</td>\n",
       "      <td>NaN</td>\n",
       "      <td>34.0497</td>\n",
       "      <td>-118.3442</td>\n",
       "      <td>12/23/2020 12:00:00 AM</td>\n",
       "      <td>12/03/2020 12:00:00 AM</td>\n",
       "      <td>2200.0</td>\n",
       "      <td>7.0</td>\n",
       "      <td>Wilshire</td>\n",
       "      <td>765.0</td>\n",
       "      <td>1.0</td>\n",
       "      <td>NaN</td>\n",
       "      <td>0.0</td>\n",
       "      <td>NaN</td>\n",
       "      <td>NaN</td>\n",
       "      <td>108.0</td>\n",
       "      <td>PARKING LOT</td>\n",
       "      <td>NaN</td>\n",
       "      <td>NaN</td>\n",
       "      <td>IC</td>\n",
       "      <td>Invest Cont</td>\n",
       "    </tr>\n",
       "    <tr>\n",
       "      <th>4</th>\n",
       "      <td>11000    MORRISON                     ST</td>\n",
       "      <td>NaN</td>\n",
       "      <td>34.1611</td>\n",
       "      <td>-118.3704</td>\n",
       "      <td>08/30/2020 12:00:00 AM</td>\n",
       "      <td>08/29/2020 12:00:00 AM</td>\n",
       "      <td>130.0</td>\n",
       "      <td>15.0</td>\n",
       "      <td>N Hollywood</td>\n",
       "      <td>1555.0</td>\n",
       "      <td>2.0</td>\n",
       "      <td>1501</td>\n",
       "      <td>37.0</td>\n",
       "      <td>F</td>\n",
       "      <td>W</td>\n",
       "      <td>501.0</td>\n",
       "      <td>SINGLE FAMILY DWELLING</td>\n",
       "      <td>NaN</td>\n",
       "      <td>NaN</td>\n",
       "      <td>AO</td>\n",
       "      <td>Adult Other</td>\n",
       "    </tr>\n",
       "  </tbody>\n",
       "</table>\n",
       "</div>"
      ],
      "text/plain": [
       "                                   Location Cross_Street  Latitude  Longitude  \\\n",
       "0   1500    LEIGHTON                     AV          NaN   34.0128  -118.3045   \n",
       "1    100 S  NORMANDIE                    AV          NaN   34.0726  -118.3029   \n",
       "2    300 E  111TH                        ST          NaN   33.9348  -118.2695   \n",
       "3   1300 S  LA BREA                      AV          NaN   34.0497  -118.3442   \n",
       "4  11000    MORRISON                     ST          NaN   34.1611  -118.3704   \n",
       "\n",
       "            Date_Reported           Date_Occurred  Time_Occurred  Area_ID  \\\n",
       "0  03/03/2020 12:00:00 AM  03/03/2020 12:00:00 AM         2000.0      3.0   \n",
       "1  06/01/2020 12:00:00 AM  04/25/2020 12:00:00 AM         1700.0     20.0   \n",
       "2  08/28/2020 12:00:00 AM  08/27/2020 12:00:00 AM          900.0     18.0   \n",
       "3  12/23/2020 12:00:00 AM  12/03/2020 12:00:00 AM         2200.0      7.0   \n",
       "4  08/30/2020 12:00:00 AM  08/29/2020 12:00:00 AM          130.0     15.0   \n",
       "\n",
       "     Area_Name  Reporting_District_no  Part 1-2  \\\n",
       "0    Southwest                  376.0       2.0   \n",
       "1      Olympic                 2014.0       1.0   \n",
       "2    Southeast                 1844.0       2.0   \n",
       "3     Wilshire                  765.0       1.0   \n",
       "4  N Hollywood                 1555.0       2.0   \n",
       "\n",
       "                  Modus_Operandi  Victim_Age Victim_Sex Victim_Descent  \\\n",
       "0  0416 1241 1243 1813 1821 2000        28.0          F              H   \n",
       "1                      0344 0394        26.0          M              B   \n",
       "2  1822 0701 1914 0355 1202 0100        62.0          F              B   \n",
       "3                            NaN         0.0        NaN            NaN   \n",
       "4                           1501        37.0          F              W   \n",
       "\n",
       "   Premise_Code                           Premise_Description  \\\n",
       "0         501.0                        SINGLE FAMILY DWELLING   \n",
       "1         502.0  MULTI-UNIT DWELLING (APARTMENT, DUPLEX, ETC)   \n",
       "2         721.0                                   HIGH SCHOOL   \n",
       "3         108.0                                   PARKING LOT   \n",
       "4         501.0                        SINGLE FAMILY DWELLING   \n",
       "\n",
       "   Weapon_Used_Code                              Weapon_Description Status  \\\n",
       "0             400.0  STRONG-ARM (HANDS, FIST, FEET OR BODILY FORCE)     IC   \n",
       "1               NaN                                             NaN     IC   \n",
       "2               NaN                                             NaN     IC   \n",
       "3               NaN                                             NaN     IC   \n",
       "4               NaN                                             NaN     AO   \n",
       "\n",
       "  Status_Description  \n",
       "0        Invest Cont  \n",
       "1        Invest Cont  \n",
       "2        Invest Cont  \n",
       "3        Invest Cont  \n",
       "4        Adult Other  "
      ]
     },
     "execution_count": 7,
     "metadata": {},
     "output_type": "execute_result"
    }
   ],
   "source": [
    "test_df.head()"
   ]
  },
  {
   "cell_type": "code",
   "execution_count": 8,
   "id": "feab4cb2",
   "metadata": {
    "execution": {
     "iopub.execute_input": "2024-08-09T17:58:39.979671Z",
     "iopub.status.busy": "2024-08-09T17:58:39.979237Z",
     "iopub.status.idle": "2024-08-09T17:58:39.986709Z",
     "shell.execute_reply": "2024-08-09T17:58:39.985486Z"
    },
    "papermill": {
     "duration": 0.066648,
     "end_time": "2024-08-09T17:58:39.989245",
     "exception": false,
     "start_time": "2024-08-09T17:58:39.922597",
     "status": "completed"
    },
    "tags": []
   },
   "outputs": [
    {
     "data": {
      "text/plain": [
       "(20000, 22)"
      ]
     },
     "execution_count": 8,
     "metadata": {},
     "output_type": "execute_result"
    }
   ],
   "source": [
    "train_df.shape"
   ]
  },
  {
   "cell_type": "code",
   "execution_count": 9,
   "id": "cf1777be",
   "metadata": {
    "execution": {
     "iopub.execute_input": "2024-08-09T17:58:40.104639Z",
     "iopub.status.busy": "2024-08-09T17:58:40.104205Z",
     "iopub.status.idle": "2024-08-09T17:58:41.536599Z",
     "shell.execute_reply": "2024-08-09T17:58:41.535178Z"
    },
    "papermill": {
     "duration": 1.493556,
     "end_time": "2024-08-09T17:58:41.539485",
     "exception": false,
     "start_time": "2024-08-09T17:58:40.045929",
     "status": "completed"
    },
    "tags": []
   },
   "outputs": [],
   "source": [
    "from sklearn.model_selection import train_test_split\n",
    "import joblib"
   ]
  },
  {
   "cell_type": "code",
   "execution_count": 10,
   "id": "16c43174",
   "metadata": {
    "execution": {
     "iopub.execute_input": "2024-08-09T17:58:41.652431Z",
     "iopub.status.busy": "2024-08-09T17:58:41.652034Z",
     "iopub.status.idle": "2024-08-09T17:58:41.708000Z",
     "shell.execute_reply": "2024-08-09T17:58:41.706572Z"
    },
    "papermill": {
     "duration": 0.116387,
     "end_time": "2024-08-09T17:58:41.710956",
     "exception": false,
     "start_time": "2024-08-09T17:58:41.594569",
     "status": "completed"
    },
    "tags": []
   },
   "outputs": [
    {
     "name": "stdout",
     "output_type": "stream",
     "text": [
      "<class 'pandas.core.frame.DataFrame'>\n",
      "RangeIndex: 20000 entries, 0 to 19999\n",
      "Data columns (total 22 columns):\n",
      " #   Column                 Non-Null Count  Dtype  \n",
      "---  ------                 --------------  -----  \n",
      " 0   Location               20000 non-null  object \n",
      " 1   Cross_Street           3448 non-null   object \n",
      " 2   Latitude               20000 non-null  float64\n",
      " 3   Longitude              20000 non-null  float64\n",
      " 4   Date_Reported          20000 non-null  object \n",
      " 5   Date_Occurred          20000 non-null  object \n",
      " 6   Time_Occurred          20000 non-null  float64\n",
      " 7   Area_ID                20000 non-null  float64\n",
      " 8   Area_Name              20000 non-null  object \n",
      " 9   Reporting_District_no  20000 non-null  float64\n",
      " 10  Part 1-2               20000 non-null  float64\n",
      " 11  Modus_Operandi         17259 non-null  object \n",
      " 12  Victim_Age             20000 non-null  float64\n",
      " 13  Victim_Sex             17376 non-null  object \n",
      " 14  Victim_Descent         17376 non-null  object \n",
      " 15  Premise_Code           20000 non-null  float64\n",
      " 16  Premise_Description    19995 non-null  object \n",
      " 17  Weapon_Used_Code       7335 non-null   float64\n",
      " 18  Weapon_Description     7335 non-null   object \n",
      " 19  Status                 20000 non-null  object \n",
      " 20  Status_Description     20000 non-null  object \n",
      " 21  Crime_Category         20000 non-null  object \n",
      "dtypes: float64(9), object(13)\n",
      "memory usage: 3.4+ MB\n"
     ]
    }
   ],
   "source": [
    "train_df.info()"
   ]
  },
  {
   "cell_type": "code",
   "execution_count": 11,
   "id": "173ee65a",
   "metadata": {
    "execution": {
     "iopub.execute_input": "2024-08-09T17:58:41.823575Z",
     "iopub.status.busy": "2024-08-09T17:58:41.823152Z",
     "iopub.status.idle": "2024-08-09T17:58:41.875193Z",
     "shell.execute_reply": "2024-08-09T17:58:41.873903Z"
    },
    "papermill": {
     "duration": 0.111711,
     "end_time": "2024-08-09T17:58:41.878126",
     "exception": false,
     "start_time": "2024-08-09T17:58:41.766415",
     "status": "completed"
    },
    "tags": []
   },
   "outputs": [
    {
     "data": {
      "text/html": [
       "<div>\n",
       "<style scoped>\n",
       "    .dataframe tbody tr th:only-of-type {\n",
       "        vertical-align: middle;\n",
       "    }\n",
       "\n",
       "    .dataframe tbody tr th {\n",
       "        vertical-align: top;\n",
       "    }\n",
       "\n",
       "    .dataframe thead th {\n",
       "        text-align: right;\n",
       "    }\n",
       "</style>\n",
       "<table border=\"1\" class=\"dataframe\">\n",
       "  <thead>\n",
       "    <tr style=\"text-align: right;\">\n",
       "      <th></th>\n",
       "      <th>Latitude</th>\n",
       "      <th>Longitude</th>\n",
       "      <th>Time_Occurred</th>\n",
       "      <th>Area_ID</th>\n",
       "      <th>Reporting_District_no</th>\n",
       "      <th>Part 1-2</th>\n",
       "      <th>Victim_Age</th>\n",
       "      <th>Premise_Code</th>\n",
       "      <th>Weapon_Used_Code</th>\n",
       "    </tr>\n",
       "  </thead>\n",
       "  <tbody>\n",
       "    <tr>\n",
       "      <th>count</th>\n",
       "      <td>20000.000000</td>\n",
       "      <td>20000.000000</td>\n",
       "      <td>20000.000000</td>\n",
       "      <td>20000.000000</td>\n",
       "      <td>20000.000000</td>\n",
       "      <td>20000.000000</td>\n",
       "      <td>20000.000000</td>\n",
       "      <td>20000.000000</td>\n",
       "      <td>7335.000000</td>\n",
       "    </tr>\n",
       "    <tr>\n",
       "      <th>mean</th>\n",
       "      <td>33.940704</td>\n",
       "      <td>-117.893072</td>\n",
       "      <td>1352.380350</td>\n",
       "      <td>10.834250</td>\n",
       "      <td>1129.599200</td>\n",
       "      <td>1.418150</td>\n",
       "      <td>30.135000</td>\n",
       "      <td>297.176950</td>\n",
       "      <td>366.405044</td>\n",
       "    </tr>\n",
       "    <tr>\n",
       "      <th>std</th>\n",
       "      <td>2.126810</td>\n",
       "      <td>7.377726</td>\n",
       "      <td>646.100291</td>\n",
       "      <td>6.033166</td>\n",
       "      <td>603.330519</td>\n",
       "      <td>0.493267</td>\n",
       "      <td>21.863645</td>\n",
       "      <td>212.007298</td>\n",
       "      <td>120.485687</td>\n",
       "    </tr>\n",
       "    <tr>\n",
       "      <th>min</th>\n",
       "      <td>0.000000</td>\n",
       "      <td>-118.663400</td>\n",
       "      <td>1.000000</td>\n",
       "      <td>1.000000</td>\n",
       "      <td>101.000000</td>\n",
       "      <td>1.000000</td>\n",
       "      <td>-2.000000</td>\n",
       "      <td>101.000000</td>\n",
       "      <td>101.000000</td>\n",
       "    </tr>\n",
       "    <tr>\n",
       "      <th>25%</th>\n",
       "      <td>34.009200</td>\n",
       "      <td>-118.429700</td>\n",
       "      <td>930.000000</td>\n",
       "      <td>6.000000</td>\n",
       "      <td>632.000000</td>\n",
       "      <td>1.000000</td>\n",
       "      <td>12.000000</td>\n",
       "      <td>101.000000</td>\n",
       "      <td>312.000000</td>\n",
       "    </tr>\n",
       "    <tr>\n",
       "      <th>50%</th>\n",
       "      <td>34.058700</td>\n",
       "      <td>-118.323000</td>\n",
       "      <td>1430.000000</td>\n",
       "      <td>11.000000</td>\n",
       "      <td>1162.000000</td>\n",
       "      <td>1.000000</td>\n",
       "      <td>31.000000</td>\n",
       "      <td>203.000000</td>\n",
       "      <td>400.000000</td>\n",
       "    </tr>\n",
       "    <tr>\n",
       "      <th>75%</th>\n",
       "      <td>34.165025</td>\n",
       "      <td>-118.274400</td>\n",
       "      <td>1900.000000</td>\n",
       "      <td>16.000000</td>\n",
       "      <td>1622.000000</td>\n",
       "      <td>2.000000</td>\n",
       "      <td>46.000000</td>\n",
       "      <td>501.000000</td>\n",
       "      <td>400.000000</td>\n",
       "    </tr>\n",
       "    <tr>\n",
       "      <th>max</th>\n",
       "      <td>34.328100</td>\n",
       "      <td>0.000000</td>\n",
       "      <td>2359.000000</td>\n",
       "      <td>21.000000</td>\n",
       "      <td>2197.000000</td>\n",
       "      <td>2.000000</td>\n",
       "      <td>99.000000</td>\n",
       "      <td>969.000000</td>\n",
       "      <td>515.000000</td>\n",
       "    </tr>\n",
       "  </tbody>\n",
       "</table>\n",
       "</div>"
      ],
      "text/plain": [
       "           Latitude     Longitude  Time_Occurred       Area_ID  \\\n",
       "count  20000.000000  20000.000000   20000.000000  20000.000000   \n",
       "mean      33.940704   -117.893072    1352.380350     10.834250   \n",
       "std        2.126810      7.377726     646.100291      6.033166   \n",
       "min        0.000000   -118.663400       1.000000      1.000000   \n",
       "25%       34.009200   -118.429700     930.000000      6.000000   \n",
       "50%       34.058700   -118.323000    1430.000000     11.000000   \n",
       "75%       34.165025   -118.274400    1900.000000     16.000000   \n",
       "max       34.328100      0.000000    2359.000000     21.000000   \n",
       "\n",
       "       Reporting_District_no      Part 1-2    Victim_Age  Premise_Code  \\\n",
       "count           20000.000000  20000.000000  20000.000000  20000.000000   \n",
       "mean             1129.599200      1.418150     30.135000    297.176950   \n",
       "std               603.330519      0.493267     21.863645    212.007298   \n",
       "min               101.000000      1.000000     -2.000000    101.000000   \n",
       "25%               632.000000      1.000000     12.000000    101.000000   \n",
       "50%              1162.000000      1.000000     31.000000    203.000000   \n",
       "75%              1622.000000      2.000000     46.000000    501.000000   \n",
       "max              2197.000000      2.000000     99.000000    969.000000   \n",
       "\n",
       "       Weapon_Used_Code  \n",
       "count       7335.000000  \n",
       "mean         366.405044  \n",
       "std          120.485687  \n",
       "min          101.000000  \n",
       "25%          312.000000  \n",
       "50%          400.000000  \n",
       "75%          400.000000  \n",
       "max          515.000000  "
      ]
     },
     "execution_count": 11,
     "metadata": {},
     "output_type": "execute_result"
    }
   ],
   "source": [
    "train_df.describe()"
   ]
  },
  {
   "cell_type": "code",
   "execution_count": 12,
   "id": "f03d0b36",
   "metadata": {
    "execution": {
     "iopub.execute_input": "2024-08-09T17:58:41.992854Z",
     "iopub.status.busy": "2024-08-09T17:58:41.991779Z",
     "iopub.status.idle": "2024-08-09T17:58:42.005078Z",
     "shell.execute_reply": "2024-08-09T17:58:42.003742Z"
    },
    "papermill": {
     "duration": 0.073934,
     "end_time": "2024-08-09T17:58:42.007792",
     "exception": false,
     "start_time": "2024-08-09T17:58:41.933858",
     "status": "completed"
    },
    "tags": []
   },
   "outputs": [
    {
     "data": {
      "text/plain": [
       "Crime_Category\n",
       "Property Crimes                  11666\n",
       "Violent Crimes                    4767\n",
       "Crimes against Public Order       1808\n",
       "Fraud and White-Collar Crimes     1355\n",
       "Crimes against Persons             225\n",
       "Other Crimes                       179\n",
       "Name: count, dtype: int64"
      ]
     },
     "execution_count": 12,
     "metadata": {},
     "output_type": "execute_result"
    }
   ],
   "source": [
    "train_df['Crime_Category'].value_counts()"
   ]
  },
  {
   "cell_type": "markdown",
   "id": "be5bbfbd",
   "metadata": {
    "papermill": {
     "duration": 0.057209,
     "end_time": "2024-08-09T17:58:42.122065",
     "exception": false,
     "start_time": "2024-08-09T17:58:42.064856",
     "status": "completed"
    },
    "tags": []
   },
   "source": [
    " ****Important Insights From  The Data set****"
   ]
  },
  {
   "cell_type": "markdown",
   "id": "2033f370",
   "metadata": {
    "papermill": {
     "duration": 0.056753,
     "end_time": "2024-08-09T17:58:42.237972",
     "exception": false,
     "start_time": "2024-08-09T17:58:42.181219",
     "status": "completed"
    },
    "tags": []
   },
   "source": [
    "1. 21 input columns(features) and output column present in the dataset\n",
    "2. 20000 records are present\n",
    "3. In the Dataset most no of crimes are property crimes\n",
    "4. problem is single label single class classification "
   ]
  },
  {
   "cell_type": "code",
   "execution_count": 13,
   "id": "4db29759",
   "metadata": {
    "execution": {
     "iopub.execute_input": "2024-08-09T17:58:42.353635Z",
     "iopub.status.busy": "2024-08-09T17:58:42.353146Z",
     "iopub.status.idle": "2024-08-09T17:58:42.390310Z",
     "shell.execute_reply": "2024-08-09T17:58:42.389080Z"
    },
    "papermill": {
     "duration": 0.098735,
     "end_time": "2024-08-09T17:58:42.393618",
     "exception": false,
     "start_time": "2024-08-09T17:58:42.294883",
     "status": "completed"
    },
    "tags": []
   },
   "outputs": [
    {
     "data": {
      "text/plain": [
       "Location                     0\n",
       "Cross_Street             16552\n",
       "Latitude                     0\n",
       "Longitude                    0\n",
       "Date_Reported                0\n",
       "Date_Occurred                0\n",
       "Time_Occurred                0\n",
       "Area_ID                      0\n",
       "Area_Name                    0\n",
       "Reporting_District_no        0\n",
       "Part 1-2                     0\n",
       "Modus_Operandi            2741\n",
       "Victim_Age                   0\n",
       "Victim_Sex                2624\n",
       "Victim_Descent            2624\n",
       "Premise_Code                 0\n",
       "Premise_Description          5\n",
       "Weapon_Used_Code         12665\n",
       "Weapon_Description       12665\n",
       "Status                       0\n",
       "Status_Description           0\n",
       "Crime_Category               0\n",
       "dtype: int64"
      ]
     },
     "execution_count": 13,
     "metadata": {},
     "output_type": "execute_result"
    }
   ],
   "source": [
    "train_df.isna().sum()"
   ]
  },
  {
   "cell_type": "code",
   "execution_count": 14,
   "id": "08bb5029",
   "metadata": {
    "execution": {
     "iopub.execute_input": "2024-08-09T17:58:42.510203Z",
     "iopub.status.busy": "2024-08-09T17:58:42.509819Z",
     "iopub.status.idle": "2024-08-09T17:58:42.526302Z",
     "shell.execute_reply": "2024-08-09T17:58:42.525070Z"
    },
    "papermill": {
     "duration": 0.076994,
     "end_time": "2024-08-09T17:58:42.529004",
     "exception": false,
     "start_time": "2024-08-09T17:58:42.452010",
     "status": "completed"
    },
    "tags": []
   },
   "outputs": [
    {
     "data": {
      "text/plain": [
       "Location                    0\n",
       "Cross_Street             4190\n",
       "Latitude                    0\n",
       "Longitude                   0\n",
       "Date_Reported               0\n",
       "Date_Occurred               0\n",
       "Time_Occurred               0\n",
       "Area_ID                     0\n",
       "Area_Name                   0\n",
       "Reporting_District_no       0\n",
       "Part 1-2                    0\n",
       "Modus_Operandi            684\n",
       "Victim_Age                  0\n",
       "Victim_Sex                643\n",
       "Victim_Descent            643\n",
       "Premise_Code                0\n",
       "Premise_Description         1\n",
       "Weapon_Used_Code         3153\n",
       "Weapon_Description       3153\n",
       "Status                      0\n",
       "Status_Description          0\n",
       "dtype: int64"
      ]
     },
     "execution_count": 14,
     "metadata": {},
     "output_type": "execute_result"
    }
   ],
   "source": [
    "test_df.isna().sum()"
   ]
  },
  {
   "cell_type": "code",
   "execution_count": 15,
   "id": "3d4da2f1",
   "metadata": {
    "execution": {
     "iopub.execute_input": "2024-08-09T17:58:42.645184Z",
     "iopub.status.busy": "2024-08-09T17:58:42.644730Z",
     "iopub.status.idle": "2024-08-09T17:58:42.651903Z",
     "shell.execute_reply": "2024-08-09T17:58:42.650658Z"
    },
    "papermill": {
     "duration": 0.068575,
     "end_time": "2024-08-09T17:58:42.654597",
     "exception": false,
     "start_time": "2024-08-09T17:58:42.586022",
     "status": "completed"
    },
    "tags": []
   },
   "outputs": [],
   "source": [
    "def nullpercent(l,data):\n",
    "    i=0\n",
    "    for c in l:\n",
    "        print(\" In {} Column Null Values Percentage is {}\".format(c,round((data[l[i]].isna().sum()/data.shape[0])*100),2))\n",
    "        i+=1"
   ]
  },
  {
   "cell_type": "code",
   "execution_count": 16,
   "id": "e73285dc",
   "metadata": {
    "execution": {
     "iopub.execute_input": "2024-08-09T17:58:42.769895Z",
     "iopub.status.busy": "2024-08-09T17:58:42.769498Z",
     "iopub.status.idle": "2024-08-09T17:58:42.808017Z",
     "shell.execute_reply": "2024-08-09T17:58:42.806583Z"
    },
    "papermill": {
     "duration": 0.099611,
     "end_time": "2024-08-09T17:58:42.811122",
     "exception": false,
     "start_time": "2024-08-09T17:58:42.711511",
     "status": "completed"
    },
    "tags": []
   },
   "outputs": [
    {
     "name": "stdout",
     "output_type": "stream",
     "text": [
      " In Location Column Null Values Percentage is 0\n",
      " In Cross_Street Column Null Values Percentage is 83\n",
      " In Latitude Column Null Values Percentage is 0\n",
      " In Longitude Column Null Values Percentage is 0\n",
      " In Date_Reported Column Null Values Percentage is 0\n",
      " In Date_Occurred Column Null Values Percentage is 0\n",
      " In Time_Occurred Column Null Values Percentage is 0\n",
      " In Area_ID Column Null Values Percentage is 0\n",
      " In Area_Name Column Null Values Percentage is 0\n",
      " In Reporting_District_no Column Null Values Percentage is 0\n",
      " In Part 1-2 Column Null Values Percentage is 0\n",
      " In Modus_Operandi Column Null Values Percentage is 14\n",
      " In Victim_Age Column Null Values Percentage is 0\n",
      " In Victim_Sex Column Null Values Percentage is 13\n",
      " In Victim_Descent Column Null Values Percentage is 13\n",
      " In Premise_Code Column Null Values Percentage is 0\n",
      " In Premise_Description Column Null Values Percentage is 0\n",
      " In Weapon_Used_Code Column Null Values Percentage is 63\n",
      " In Weapon_Description Column Null Values Percentage is 63\n",
      " In Status Column Null Values Percentage is 0\n",
      " In Status_Description Column Null Values Percentage is 0\n",
      " In Crime_Category Column Null Values Percentage is 0\n"
     ]
    }
   ],
   "source": [
    "columns=list(train_df.columns)\n",
    "nullpercent(columns,train_df)"
   ]
  },
  {
   "cell_type": "code",
   "execution_count": 17,
   "id": "6a676395",
   "metadata": {
    "execution": {
     "iopub.execute_input": "2024-08-09T17:58:42.928360Z",
     "iopub.status.busy": "2024-08-09T17:58:42.927927Z",
     "iopub.status.idle": "2024-08-09T17:58:42.945880Z",
     "shell.execute_reply": "2024-08-09T17:58:42.944633Z"
    },
    "papermill": {
     "duration": 0.079735,
     "end_time": "2024-08-09T17:58:42.948631",
     "exception": false,
     "start_time": "2024-08-09T17:58:42.868896",
     "status": "completed"
    },
    "tags": []
   },
   "outputs": [
    {
     "name": "stdout",
     "output_type": "stream",
     "text": [
      " In Location Column Null Values Percentage is 0\n",
      " In Cross_Street Column Null Values Percentage is 84\n",
      " In Latitude Column Null Values Percentage is 0\n",
      " In Longitude Column Null Values Percentage is 0\n",
      " In Date_Reported Column Null Values Percentage is 0\n",
      " In Date_Occurred Column Null Values Percentage is 0\n",
      " In Time_Occurred Column Null Values Percentage is 0\n",
      " In Area_ID Column Null Values Percentage is 0\n",
      " In Area_Name Column Null Values Percentage is 0\n",
      " In Reporting_District_no Column Null Values Percentage is 0\n",
      " In Part 1-2 Column Null Values Percentage is 0\n",
      " In Modus_Operandi Column Null Values Percentage is 14\n",
      " In Victim_Age Column Null Values Percentage is 0\n",
      " In Victim_Sex Column Null Values Percentage is 13\n",
      " In Victim_Descent Column Null Values Percentage is 13\n",
      " In Premise_Code Column Null Values Percentage is 0\n",
      " In Premise_Description Column Null Values Percentage is 0\n",
      " In Weapon_Used_Code Column Null Values Percentage is 63\n",
      " In Weapon_Description Column Null Values Percentage is 63\n",
      " In Status Column Null Values Percentage is 0\n",
      " In Status_Description Column Null Values Percentage is 0\n"
     ]
    }
   ],
   "source": [
    "columns_te=list(test_df.columns)\n",
    "nullpercent(columns_te,test_df)"
   ]
  },
  {
   "cell_type": "markdown",
   "id": "1f2cbc7d",
   "metadata": {
    "papermill": {
     "duration": 0.056591,
     "end_time": "2024-08-09T17:58:43.062215",
     "exception": false,
     "start_time": "2024-08-09T17:58:43.005624",
     "status": "completed"
    },
    "tags": []
   },
   "source": [
    "***Data Imputation using fillna method***"
   ]
  },
  {
   "cell_type": "code",
   "execution_count": 18,
   "id": "f16c70a7",
   "metadata": {
    "execution": {
     "iopub.execute_input": "2024-08-09T17:58:43.181712Z",
     "iopub.status.busy": "2024-08-09T17:58:43.181202Z",
     "iopub.status.idle": "2024-08-09T17:58:43.205282Z",
     "shell.execute_reply": "2024-08-09T17:58:43.204031Z"
    },
    "papermill": {
     "duration": 0.08739,
     "end_time": "2024-08-09T17:58:43.208283",
     "exception": false,
     "start_time": "2024-08-09T17:58:43.120893",
     "status": "completed"
    },
    "tags": []
   },
   "outputs": [],
   "source": [
    "columns1=['Modus_Operandi','Victim_Sex','Cross_Street','Weapon_Description']\n",
    "for col in columns1:\n",
    "       train_df[col] = train_df[col].fillna('Unknown')\n",
    "       test_df[col] = test_df[col].fillna('Unknown')\n"
   ]
  },
  {
   "cell_type": "code",
   "execution_count": 19,
   "id": "8db2de1c",
   "metadata": {
    "execution": {
     "iopub.execute_input": "2024-08-09T17:58:43.322923Z",
     "iopub.status.busy": "2024-08-09T17:58:43.322442Z",
     "iopub.status.idle": "2024-08-09T17:58:43.332125Z",
     "shell.execute_reply": "2024-08-09T17:58:43.330770Z"
    },
    "papermill": {
     "duration": 0.070544,
     "end_time": "2024-08-09T17:58:43.335039",
     "exception": false,
     "start_time": "2024-08-09T17:58:43.264495",
     "status": "completed"
    },
    "tags": []
   },
   "outputs": [],
   "source": [
    "train_df['Weapon_Used_Code'] = train_df['Weapon_Used_Code'].fillna(train_df['Weapon_Used_Code'].median())\n",
    "test_df['Weapon_Used_Code'] = test_df['Weapon_Used_Code'].fillna(test_df['Weapon_Used_Code'].median())"
   ]
  },
  {
   "cell_type": "markdown",
   "id": "efa9e893",
   "metadata": {
    "papermill": {
     "duration": 0.056763,
     "end_time": "2024-08-09T17:58:43.448581",
     "exception": false,
     "start_time": "2024-08-09T17:58:43.391818",
     "status": "completed"
    },
    "tags": []
   },
   "source": [
    "***Data Imputation using Simple Imputer method***"
   ]
  },
  {
   "cell_type": "code",
   "execution_count": 20,
   "id": "7a65af32",
   "metadata": {
    "execution": {
     "iopub.execute_input": "2024-08-09T17:58:43.567477Z",
     "iopub.status.busy": "2024-08-09T17:58:43.566995Z",
     "iopub.status.idle": "2024-08-09T17:58:43.575324Z",
     "shell.execute_reply": "2024-08-09T17:58:43.574221Z"
    },
    "papermill": {
     "duration": 0.070665,
     "end_time": "2024-08-09T17:58:43.577889",
     "exception": false,
     "start_time": "2024-08-09T17:58:43.507224",
     "status": "completed"
    },
    "tags": []
   },
   "outputs": [
    {
     "data": {
      "text/plain": [
       "\"from sklearn.impute import SimpleImputer\\nsi=SimpleImputer(strategy='most_frequent')\\ncolumns1=['Modus_Operandi','Victim_Sex','Victim_Descent','Premise_Description','Cross_Street','Weapon_Description']\\nfor col in columns1:\\n         train_df[col]=si.fit_transform(train_df[col].values.reshape(-1,1)).ravel()\\n         test_df[col]=si.fit_transform(test_df[col].values.reshape(-1,1)).ravel()\""
      ]
     },
     "execution_count": 20,
     "metadata": {},
     "output_type": "execute_result"
    }
   ],
   "source": [
    "'''from sklearn.impute import SimpleImputer\n",
    "si=SimpleImputer(strategy='most_frequent')\n",
    "columns1=['Modus_Operandi','Victim_Sex','Victim_Descent','Premise_Description','Cross_Street','Weapon_Description']\n",
    "for col in columns1:\n",
    "         train_df[col]=si.fit_transform(train_df[col].values.reshape(-1,1)).ravel()\n",
    "         test_df[col]=si.fit_transform(test_df[col].values.reshape(-1,1)).ravel()'''\n",
    "\n"
   ]
  },
  {
   "cell_type": "code",
   "execution_count": 21,
   "id": "972f73be",
   "metadata": {
    "execution": {
     "iopub.execute_input": "2024-08-09T17:58:43.695578Z",
     "iopub.status.busy": "2024-08-09T17:58:43.694389Z",
     "iopub.status.idle": "2024-08-09T17:58:43.702372Z",
     "shell.execute_reply": "2024-08-09T17:58:43.701281Z"
    },
    "papermill": {
     "duration": 0.069503,
     "end_time": "2024-08-09T17:58:43.705056",
     "exception": false,
     "start_time": "2024-08-09T17:58:43.635553",
     "status": "completed"
    },
    "tags": []
   },
   "outputs": [
    {
     "data": {
      "text/plain": [
       "(20000,)"
      ]
     },
     "execution_count": 21,
     "metadata": {},
     "output_type": "execute_result"
    }
   ],
   "source": [
    "train_df['Crime_Category'].shape"
   ]
  },
  {
   "cell_type": "code",
   "execution_count": 22,
   "id": "9db083a2",
   "metadata": {
    "execution": {
     "iopub.execute_input": "2024-08-09T17:58:43.820803Z",
     "iopub.status.busy": "2024-08-09T17:58:43.820369Z",
     "iopub.status.idle": "2024-08-09T17:58:43.868761Z",
     "shell.execute_reply": "2024-08-09T17:58:43.867313Z"
    },
    "papermill": {
     "duration": 0.109512,
     "end_time": "2024-08-09T17:58:43.871585",
     "exception": false,
     "start_time": "2024-08-09T17:58:43.762073",
     "status": "completed"
    },
    "tags": []
   },
   "outputs": [
    {
     "data": {
      "text/plain": [
       "Location                   0\n",
       "Cross_Street               0\n",
       "Latitude                   0\n",
       "Longitude                  0\n",
       "Date_Reported              0\n",
       "Date_Occurred              0\n",
       "Time_Occurred              0\n",
       "Area_ID                    0\n",
       "Area_Name                  0\n",
       "Reporting_District_no      0\n",
       "Part 1-2                   0\n",
       "Modus_Operandi             0\n",
       "Victim_Age                 0\n",
       "Victim_Sex                 0\n",
       "Victim_Descent           643\n",
       "Premise_Code               0\n",
       "Premise_Description        1\n",
       "Weapon_Used_Code           0\n",
       "Weapon_Description         0\n",
       "Status                     0\n",
       "Status_Description         0\n",
       "dtype: int64"
      ]
     },
     "execution_count": 22,
     "metadata": {},
     "output_type": "execute_result"
    }
   ],
   "source": [
    "train_df.isna().sum()\n",
    "test_df.isna().sum()"
   ]
  },
  {
   "cell_type": "markdown",
   "id": "ef183a5b",
   "metadata": {
    "papermill": {
     "duration": 0.057717,
     "end_time": "2024-08-09T17:58:43.986657",
     "exception": false,
     "start_time": "2024-08-09T17:58:43.928940",
     "status": "completed"
    },
    "tags": []
   },
   "source": [
    "****Dropping Duplicates****"
   ]
  },
  {
   "cell_type": "code",
   "execution_count": 23,
   "id": "1ccae3cd",
   "metadata": {
    "execution": {
     "iopub.execute_input": "2024-08-09T17:58:44.104572Z",
     "iopub.status.busy": "2024-08-09T17:58:44.104154Z",
     "iopub.status.idle": "2024-08-09T17:58:44.173711Z",
     "shell.execute_reply": "2024-08-09T17:58:44.172470Z"
    },
    "papermill": {
     "duration": 0.132943,
     "end_time": "2024-08-09T17:58:44.176532",
     "exception": false,
     "start_time": "2024-08-09T17:58:44.043589",
     "status": "completed"
    },
    "tags": []
   },
   "outputs": [
    {
     "data": {
      "text/plain": [
       "3"
      ]
     },
     "execution_count": 23,
     "metadata": {},
     "output_type": "execute_result"
    }
   ],
   "source": [
    "train_df.duplicated().sum()\n",
    "test_df.duplicated().sum()"
   ]
  },
  {
   "cell_type": "code",
   "execution_count": 24,
   "id": "1c867058",
   "metadata": {
    "execution": {
     "iopub.execute_input": "2024-08-09T17:58:44.293305Z",
     "iopub.status.busy": "2024-08-09T17:58:44.292868Z",
     "iopub.status.idle": "2024-08-09T17:58:44.300785Z",
     "shell.execute_reply": "2024-08-09T17:58:44.299287Z"
    },
    "papermill": {
     "duration": 0.06956,
     "end_time": "2024-08-09T17:58:44.303414",
     "exception": false,
     "start_time": "2024-08-09T17:58:44.233854",
     "status": "completed"
    },
    "tags": []
   },
   "outputs": [
    {
     "data": {
      "text/plain": [
       "(20000,)"
      ]
     },
     "execution_count": 24,
     "metadata": {},
     "output_type": "execute_result"
    }
   ],
   "source": [
    "train_df['Crime_Category'].shape"
   ]
  },
  {
   "cell_type": "code",
   "execution_count": 25,
   "id": "df0f3f41",
   "metadata": {
    "execution": {
     "iopub.execute_input": "2024-08-09T17:58:44.420581Z",
     "iopub.status.busy": "2024-08-09T17:58:44.419822Z",
     "iopub.status.idle": "2024-08-09T17:58:44.424815Z",
     "shell.execute_reply": "2024-08-09T17:58:44.423727Z"
    },
    "papermill": {
     "duration": 0.066079,
     "end_time": "2024-08-09T17:58:44.427182",
     "exception": false,
     "start_time": "2024-08-09T17:58:44.361103",
     "status": "completed"
    },
    "tags": []
   },
   "outputs": [],
   "source": [
    "#train_df.drop_duplicates(inplace=True)\n",
    "#test_df.drop_duplicates(inplace=True)"
   ]
  },
  {
   "cell_type": "code",
   "execution_count": 26,
   "id": "bad08488",
   "metadata": {
    "execution": {
     "iopub.execute_input": "2024-08-09T17:58:44.544731Z",
     "iopub.status.busy": "2024-08-09T17:58:44.544303Z",
     "iopub.status.idle": "2024-08-09T17:58:44.607961Z",
     "shell.execute_reply": "2024-08-09T17:58:44.606709Z"
    },
    "papermill": {
     "duration": 0.125886,
     "end_time": "2024-08-09T17:58:44.610924",
     "exception": false,
     "start_time": "2024-08-09T17:58:44.485038",
     "status": "completed"
    },
    "tags": []
   },
   "outputs": [
    {
     "data": {
      "text/plain": [
       "3"
      ]
     },
     "execution_count": 26,
     "metadata": {},
     "output_type": "execute_result"
    }
   ],
   "source": [
    "train_df.duplicated().sum()\n",
    "test_df.duplicated().sum()"
   ]
  },
  {
   "cell_type": "code",
   "execution_count": 27,
   "id": "e38b0edc",
   "metadata": {
    "execution": {
     "iopub.execute_input": "2024-08-09T17:58:44.729672Z",
     "iopub.status.busy": "2024-08-09T17:58:44.728602Z",
     "iopub.status.idle": "2024-08-09T17:58:44.767590Z",
     "shell.execute_reply": "2024-08-09T17:58:44.766478Z"
    },
    "papermill": {
     "duration": 0.101295,
     "end_time": "2024-08-09T17:58:44.770270",
     "exception": false,
     "start_time": "2024-08-09T17:58:44.668975",
     "status": "completed"
    },
    "tags": []
   },
   "outputs": [
    {
     "data": {
      "text/plain": [
       "Location                    0\n",
       "Cross_Street                0\n",
       "Latitude                    0\n",
       "Longitude                   0\n",
       "Date_Reported               0\n",
       "Date_Occurred               0\n",
       "Time_Occurred               0\n",
       "Area_ID                     0\n",
       "Area_Name                   0\n",
       "Reporting_District_no       0\n",
       "Part 1-2                    0\n",
       "Modus_Operandi              0\n",
       "Victim_Age                  0\n",
       "Victim_Sex                  0\n",
       "Victim_Descent           2624\n",
       "Premise_Code                0\n",
       "Premise_Description         5\n",
       "Weapon_Used_Code            0\n",
       "Weapon_Description          0\n",
       "Status                      0\n",
       "Status_Description          0\n",
       "Crime_Category              0\n",
       "dtype: int64"
      ]
     },
     "execution_count": 27,
     "metadata": {},
     "output_type": "execute_result"
    }
   ],
   "source": [
    "train_df.isna().sum()"
   ]
  },
  {
   "cell_type": "markdown",
   "id": "2ce935d7",
   "metadata": {
    "papermill": {
     "duration": 0.060008,
     "end_time": "2024-08-09T17:58:44.888296",
     "exception": false,
     "start_time": "2024-08-09T17:58:44.828288",
     "status": "completed"
    },
    "tags": []
   },
   "source": [
    "****Correcting Datatype****"
   ]
  },
  {
   "cell_type": "code",
   "execution_count": 28,
   "id": "5403ee91",
   "metadata": {
    "execution": {
     "iopub.execute_input": "2024-08-09T17:58:45.007278Z",
     "iopub.status.busy": "2024-08-09T17:58:45.006422Z",
     "iopub.status.idle": "2024-08-09T17:58:45.018924Z",
     "shell.execute_reply": "2024-08-09T17:58:45.017783Z"
    },
    "papermill": {
     "duration": 0.074852,
     "end_time": "2024-08-09T17:58:45.021626",
     "exception": false,
     "start_time": "2024-08-09T17:58:44.946774",
     "status": "completed"
    },
    "tags": []
   },
   "outputs": [
    {
     "data": {
      "text/plain": [
       "12399"
      ]
     },
     "execution_count": 28,
     "metadata": {},
     "output_type": "execute_result"
    }
   ],
   "source": [
    "train_df['Location'].nunique()"
   ]
  },
  {
   "cell_type": "code",
   "execution_count": 29,
   "id": "b98abbf0",
   "metadata": {
    "execution": {
     "iopub.execute_input": "2024-08-09T17:58:45.142191Z",
     "iopub.status.busy": "2024-08-09T17:58:45.141127Z",
     "iopub.status.idle": "2024-08-09T17:58:45.185724Z",
     "shell.execute_reply": "2024-08-09T17:58:45.184400Z"
    },
    "papermill": {
     "duration": 0.10857,
     "end_time": "2024-08-09T17:58:45.189289",
     "exception": false,
     "start_time": "2024-08-09T17:58:45.080719",
     "status": "completed"
    },
    "tags": []
   },
   "outputs": [
    {
     "name": "stdout",
     "output_type": "stream",
     "text": [
      "<class 'pandas.core.frame.DataFrame'>\n",
      "RangeIndex: 20000 entries, 0 to 19999\n",
      "Data columns (total 22 columns):\n",
      " #   Column                 Non-Null Count  Dtype  \n",
      "---  ------                 --------------  -----  \n",
      " 0   Location               20000 non-null  object \n",
      " 1   Cross_Street           20000 non-null  object \n",
      " 2   Latitude               20000 non-null  float64\n",
      " 3   Longitude              20000 non-null  float64\n",
      " 4   Date_Reported          20000 non-null  object \n",
      " 5   Date_Occurred          20000 non-null  object \n",
      " 6   Time_Occurred          20000 non-null  float64\n",
      " 7   Area_ID                20000 non-null  float64\n",
      " 8   Area_Name              20000 non-null  object \n",
      " 9   Reporting_District_no  20000 non-null  float64\n",
      " 10  Part 1-2               20000 non-null  float64\n",
      " 11  Modus_Operandi         20000 non-null  object \n",
      " 12  Victim_Age             20000 non-null  float64\n",
      " 13  Victim_Sex             20000 non-null  object \n",
      " 14  Victim_Descent         17376 non-null  object \n",
      " 15  Premise_Code           20000 non-null  float64\n",
      " 16  Premise_Description    19995 non-null  object \n",
      " 17  Weapon_Used_Code       20000 non-null  float64\n",
      " 18  Weapon_Description     20000 non-null  object \n",
      " 19  Status                 20000 non-null  object \n",
      " 20  Status_Description     20000 non-null  object \n",
      " 21  Crime_Category         20000 non-null  object \n",
      "dtypes: float64(9), object(13)\n",
      "memory usage: 3.4+ MB\n"
     ]
    }
   ],
   "source": [
    "train_df.info()"
   ]
  },
  {
   "cell_type": "code",
   "execution_count": 30,
   "id": "15726f97",
   "metadata": {
    "execution": {
     "iopub.execute_input": "2024-08-09T17:58:45.308478Z",
     "iopub.status.busy": "2024-08-09T17:58:45.308066Z",
     "iopub.status.idle": "2024-08-09T17:58:45.314110Z",
     "shell.execute_reply": "2024-08-09T17:58:45.312901Z"
    },
    "papermill": {
     "duration": 0.068545,
     "end_time": "2024-08-09T17:58:45.316690",
     "exception": false,
     "start_time": "2024-08-09T17:58:45.248145",
     "status": "completed"
    },
    "tags": []
   },
   "outputs": [],
   "source": [
    "def timetransform_hours(x):\n",
    "  return int(x//100)\n",
    "\n",
    "\n",
    "def timetransform_minutes(x):\n",
    "  return int(x%100)"
   ]
  },
  {
   "cell_type": "code",
   "execution_count": 31,
   "id": "3ff32b93",
   "metadata": {
    "execution": {
     "iopub.execute_input": "2024-08-09T17:58:45.435240Z",
     "iopub.status.busy": "2024-08-09T17:58:45.434234Z",
     "iopub.status.idle": "2024-08-09T17:58:45.492464Z",
     "shell.execute_reply": "2024-08-09T17:58:45.491040Z"
    },
    "papermill": {
     "duration": 0.121652,
     "end_time": "2024-08-09T17:58:45.496499",
     "exception": false,
     "start_time": "2024-08-09T17:58:45.374847",
     "status": "completed"
    },
    "tags": []
   },
   "outputs": [],
   "source": [
    "train_df['Time_hours']=train_df['Time_Occurred'].apply(timetransform_hours)\n",
    "train_df['Time_minutes']=train_df['Time_Occurred'].apply(timetransform_minutes)\n",
    "test_df['Time_hours']=test_df['Time_Occurred'].apply(timetransform_hours)\n",
    "test_df['Time_minutes']=test_df['Time_Occurred'].apply(timetransform_minutes)\n"
   ]
  },
  {
   "cell_type": "code",
   "execution_count": 32,
   "id": "95736b1a",
   "metadata": {
    "execution": {
     "iopub.execute_input": "2024-08-09T17:58:45.617080Z",
     "iopub.status.busy": "2024-08-09T17:58:45.616652Z",
     "iopub.status.idle": "2024-08-09T17:58:45.659475Z",
     "shell.execute_reply": "2024-08-09T17:58:45.658276Z"
    },
    "papermill": {
     "duration": 0.107196,
     "end_time": "2024-08-09T17:58:45.662888",
     "exception": false,
     "start_time": "2024-08-09T17:58:45.555692",
     "status": "completed"
    },
    "tags": []
   },
   "outputs": [],
   "source": [
    "columns2=['Date_Reported','Date_Occurred']\n",
    "for col in columns2:\n",
    "              train_df[col]=train_df[col].apply(lambda x:x.split(' ')[0])\n",
    "              test_df[col]=test_df[col].apply(lambda x:x.split(' ')[0])\n",
    "\n"
   ]
  },
  {
   "cell_type": "code",
   "execution_count": 33,
   "id": "15bccaf2",
   "metadata": {
    "execution": {
     "iopub.execute_input": "2024-08-09T17:58:45.782332Z",
     "iopub.status.busy": "2024-08-09T17:58:45.781926Z",
     "iopub.status.idle": "2024-08-09T17:58:45.937120Z",
     "shell.execute_reply": "2024-08-09T17:58:45.935850Z"
    },
    "papermill": {
     "duration": 0.218506,
     "end_time": "2024-08-09T17:58:45.940284",
     "exception": false,
     "start_time": "2024-08-09T17:58:45.721778",
     "status": "completed"
    },
    "tags": []
   },
   "outputs": [],
   "source": [
    "columns2=['Date_Reported','Date_Occurred']\n",
    "for col in columns2:\n",
    "              train_df[col]=pd.to_datetime(train_df[col])\n",
    "              test_df[col]=pd.to_datetime(train_df[col])\n"
   ]
  },
  {
   "cell_type": "code",
   "execution_count": 34,
   "id": "912b4019",
   "metadata": {
    "execution": {
     "iopub.execute_input": "2024-08-09T17:58:46.061701Z",
     "iopub.status.busy": "2024-08-09T17:58:46.060839Z",
     "iopub.status.idle": "2024-08-09T17:58:46.067616Z",
     "shell.execute_reply": "2024-08-09T17:58:46.066370Z"
    },
    "papermill": {
     "duration": 0.070536,
     "end_time": "2024-08-09T17:58:46.070370",
     "exception": false,
     "start_time": "2024-08-09T17:58:45.999834",
     "status": "completed"
    },
    "tags": []
   },
   "outputs": [],
   "source": [
    "def date(x):\n",
    "  return int(x.day)\n",
    "\n",
    "def year(x):\n",
    "  return int(x.year)\n",
    "\n",
    "def month(x):\n",
    "  return int(x.month)"
   ]
  },
  {
   "cell_type": "code",
   "execution_count": 35,
   "id": "dfa724e7",
   "metadata": {
    "execution": {
     "iopub.execute_input": "2024-08-09T17:58:46.192793Z",
     "iopub.status.busy": "2024-08-09T17:58:46.191883Z",
     "iopub.status.idle": "2024-08-09T17:58:46.535606Z",
     "shell.execute_reply": "2024-08-09T17:58:46.534220Z"
    },
    "papermill": {
     "duration": 0.408331,
     "end_time": "2024-08-09T17:58:46.538536",
     "exception": false,
     "start_time": "2024-08-09T17:58:46.130205",
     "status": "completed"
    },
    "tags": []
   },
   "outputs": [],
   "source": [
    "train_df['Day_Occurred']=train_df['Date_Occurred'].apply(date)\n",
    "train_df['Month_Occurred']=train_df['Date_Occurred'].apply(month)\n",
    "train_df['Year_Occurred']=train_df['Date_Occurred'].apply(year)\n",
    "train_df['Day_Reported']=train_df['Date_Reported'].apply(date)\n",
    "train_df['Month_Reported']=train_df['Date_Reported'].apply(month)\n",
    "train_df['Year_Reported']=train_df['Date_Reported'].apply(year)\n"
   ]
  },
  {
   "cell_type": "code",
   "execution_count": 36,
   "id": "0ce6965c",
   "metadata": {
    "execution": {
     "iopub.execute_input": "2024-08-09T17:58:46.657485Z",
     "iopub.status.busy": "2024-08-09T17:58:46.656566Z",
     "iopub.status.idle": "2024-08-09T17:58:46.733123Z",
     "shell.execute_reply": "2024-08-09T17:58:46.731932Z"
    },
    "papermill": {
     "duration": 0.139369,
     "end_time": "2024-08-09T17:58:46.736062",
     "exception": false,
     "start_time": "2024-08-09T17:58:46.596693",
     "status": "completed"
    },
    "tags": []
   },
   "outputs": [],
   "source": [
    "test_df['Day_Occurred']=test_df['Date_Occurred'].apply(date)\n",
    "test_df['Month_Occurred']=test_df['Date_Occurred'].apply(month)\n",
    "test_df['Year_Occurred']=test_df['Date_Occurred'].apply(year)\n",
    "test_df['Day_Reported']=test_df['Date_Reported'].apply(date)\n",
    "test_df['Month_Reported']=test_df['Date_Reported'].apply(month)\n",
    "test_df['Year_Reported']=test_df['Date_Reported'].apply(year)\n"
   ]
  },
  {
   "cell_type": "code",
   "execution_count": 37,
   "id": "b9c49351",
   "metadata": {
    "execution": {
     "iopub.execute_input": "2024-08-09T17:58:46.857926Z",
     "iopub.status.busy": "2024-08-09T17:58:46.856624Z",
     "iopub.status.idle": "2024-08-09T17:58:46.876399Z",
     "shell.execute_reply": "2024-08-09T17:58:46.875203Z"
    },
    "papermill": {
     "duration": 0.0841,
     "end_time": "2024-08-09T17:58:46.879443",
     "exception": false,
     "start_time": "2024-08-09T17:58:46.795343",
     "status": "completed"
    },
    "tags": []
   },
   "outputs": [],
   "source": [
    "train_df.drop(columns=['Time_Occurred','Date_Occurred','Date_Reported','Cross_Street'],inplace=True)\n",
    "test_df.drop(columns=['Time_Occurred','Date_Occurred','Date_Reported','Cross_Street'],inplace=True)\n"
   ]
  },
  {
   "cell_type": "code",
   "execution_count": 38,
   "id": "ba1e0398",
   "metadata": {
    "execution": {
     "iopub.execute_input": "2024-08-09T17:58:46.999000Z",
     "iopub.status.busy": "2024-08-09T17:58:46.998270Z",
     "iopub.status.idle": "2024-08-09T17:58:47.010941Z",
     "shell.execute_reply": "2024-08-09T17:58:47.009626Z"
    },
    "papermill": {
     "duration": 0.075844,
     "end_time": "2024-08-09T17:58:47.013949",
     "exception": false,
     "start_time": "2024-08-09T17:58:46.938105",
     "status": "completed"
    },
    "tags": []
   },
   "outputs": [],
   "source": [
    "train_df['Area_ID']=train_df['Area_ID'].astype('int32')\n",
    "train_df['Reporting_District_no']=train_df['Reporting_District_no'].astype('int32')\n",
    "train_df['Part 1-2']=train_df['Part 1-2'].astype('int32')\n",
    "train_df['Victim_Age']=train_df['Victim_Age'].astype('int32')\n",
    "train_df['Premise_Code']=train_df['Premise_Code'].astype('int32')\n",
    "train_df['Modus_Operandi']=train_df['Modus_Operandi'].astype('str')"
   ]
  },
  {
   "cell_type": "code",
   "execution_count": 39,
   "id": "e6c11992",
   "metadata": {
    "execution": {
     "iopub.execute_input": "2024-08-09T17:58:47.133248Z",
     "iopub.status.busy": "2024-08-09T17:58:47.132273Z",
     "iopub.status.idle": "2024-08-09T17:58:47.144638Z",
     "shell.execute_reply": "2024-08-09T17:58:47.143360Z"
    },
    "papermill": {
     "duration": 0.075221,
     "end_time": "2024-08-09T17:58:47.147389",
     "exception": false,
     "start_time": "2024-08-09T17:58:47.072168",
     "status": "completed"
    },
    "tags": []
   },
   "outputs": [],
   "source": [
    "test_df['Area_ID']=test_df['Area_ID'].astype('int32')\n",
    "test_df['Reporting_District_no']=test_df['Reporting_District_no'].astype('int32')\n",
    "test_df['Part 1-2']=test_df['Part 1-2'].astype('int32')\n",
    "test_df['Victim_Age']=test_df['Victim_Age'].astype('int32')\n",
    "test_df['Premise_Code']=test_df['Premise_Code'].astype('int32')\n",
    "test_df['Modus_Operandi']=test_df['Modus_Operandi'].astype('str')"
   ]
  },
  {
   "cell_type": "code",
   "execution_count": 40,
   "id": "cc0e5c86",
   "metadata": {
    "execution": {
     "iopub.execute_input": "2024-08-09T17:58:47.269495Z",
     "iopub.status.busy": "2024-08-09T17:58:47.269021Z",
     "iopub.status.idle": "2024-08-09T17:58:47.279151Z",
     "shell.execute_reply": "2024-08-09T17:58:47.277822Z"
    },
    "papermill": {
     "duration": 0.074054,
     "end_time": "2024-08-09T17:58:47.281831",
     "exception": false,
     "start_time": "2024-08-09T17:58:47.207777",
     "status": "completed"
    },
    "tags": []
   },
   "outputs": [
    {
     "data": {
      "text/plain": [
       "21"
      ]
     },
     "execution_count": 40,
     "metadata": {},
     "output_type": "execute_result"
    }
   ],
   "source": [
    "train_df['Area_Name'].nunique()"
   ]
  },
  {
   "cell_type": "code",
   "execution_count": 41,
   "id": "d69a3d04",
   "metadata": {
    "execution": {
     "iopub.execute_input": "2024-08-09T17:58:47.400675Z",
     "iopub.status.busy": "2024-08-09T17:58:47.399646Z",
     "iopub.status.idle": "2024-08-09T17:58:47.434221Z",
     "shell.execute_reply": "2024-08-09T17:58:47.432982Z"
    },
    "papermill": {
     "duration": 0.096573,
     "end_time": "2024-08-09T17:58:47.436781",
     "exception": false,
     "start_time": "2024-08-09T17:58:47.340208",
     "status": "completed"
    },
    "tags": []
   },
   "outputs": [],
   "source": [
    "train_df['Victim_Age'] = train_df['Victim_Age'].apply(lambda x : 0 if x <= 0 else x)\n",
    "train_df['Victim_Sex']=train_df['Victim_Sex'].apply(lambda x:x if x=='M' or x=='F' else 'others')\n",
    "test_df['Victim_Sex']=test_df['Victim_Sex'].apply(lambda x:x if x=='M' or x=='F' else 'others')"
   ]
  },
  {
   "cell_type": "code",
   "execution_count": 42,
   "id": "6148bab3",
   "metadata": {
    "execution": {
     "iopub.execute_input": "2024-08-09T17:58:47.555078Z",
     "iopub.status.busy": "2024-08-09T17:58:47.554643Z",
     "iopub.status.idle": "2024-08-09T17:58:47.565849Z",
     "shell.execute_reply": "2024-08-09T17:58:47.564273Z"
    },
    "papermill": {
     "duration": 0.073705,
     "end_time": "2024-08-09T17:58:47.568740",
     "exception": false,
     "start_time": "2024-08-09T17:58:47.495035",
     "status": "completed"
    },
    "tags": []
   },
   "outputs": [],
   "source": [
    "train_df['Victim_Sex']=train_df['Victim_Sex'].astype('category')\n",
    "test_df['Victim_Sex']=test_df['Victim_Sex'].astype('category')\n",
    "#train_df['Victim_Descent']=train_df['Victim_Descent'].astype('category')\n",
    "#test_df['Victim_Descent']=test_df['Victim_Descent'].astype('category')"
   ]
  },
  {
   "cell_type": "code",
   "execution_count": 43,
   "id": "2cf9f241",
   "metadata": {
    "execution": {
     "iopub.execute_input": "2024-08-09T17:58:47.688332Z",
     "iopub.status.busy": "2024-08-09T17:58:47.687363Z",
     "iopub.status.idle": "2024-08-09T17:58:47.692925Z",
     "shell.execute_reply": "2024-08-09T17:58:47.691407Z"
    },
    "papermill": {
     "duration": 0.067703,
     "end_time": "2024-08-09T17:58:47.695335",
     "exception": false,
     "start_time": "2024-08-09T17:58:47.627632",
     "status": "completed"
    },
    "tags": []
   },
   "outputs": [],
   "source": [
    "#counts=train_df['Victim_Descent'].value_counts()\n",
    "#ind=counts[counts<1000].index\n",
    "#train_df['Victim_Descent']=train_df['Victim_Descent'].replace(ind,'others')\n"
   ]
  },
  {
   "cell_type": "code",
   "execution_count": 44,
   "id": "bf6a3f0c",
   "metadata": {
    "execution": {
     "iopub.execute_input": "2024-08-09T17:58:47.813290Z",
     "iopub.status.busy": "2024-08-09T17:58:47.812893Z",
     "iopub.status.idle": "2024-08-09T17:58:47.821596Z",
     "shell.execute_reply": "2024-08-09T17:58:47.820362Z"
    },
    "papermill": {
     "duration": 0.070865,
     "end_time": "2024-08-09T17:58:47.824214",
     "exception": false,
     "start_time": "2024-08-09T17:58:47.753349",
     "status": "completed"
    },
    "tags": []
   },
   "outputs": [],
   "source": [
    "train_df['Victim_Sex']=train_df['Victim_Sex'].apply(lambda x:x if x=='M' or x=='F' else 'others')\n",
    "test_df['Victim_Sex']=test_df['Victim_Sex'].apply(lambda x:x if x=='M' or x=='F' else 'others')"
   ]
  },
  {
   "cell_type": "code",
   "execution_count": 45,
   "id": "75e037e4",
   "metadata": {
    "execution": {
     "iopub.execute_input": "2024-08-09T17:58:47.943478Z",
     "iopub.status.busy": "2024-08-09T17:58:47.942433Z",
     "iopub.status.idle": "2024-08-09T17:58:47.958306Z",
     "shell.execute_reply": "2024-08-09T17:58:47.957004Z"
    },
    "papermill": {
     "duration": 0.078467,
     "end_time": "2024-08-09T17:58:47.961316",
     "exception": false,
     "start_time": "2024-08-09T17:58:47.882849",
     "status": "completed"
    },
    "tags": []
   },
   "outputs": [],
   "source": [
    "train_df.drop(columns=['Location','Area_Name','Status','Status_Description','Victim_Descent','Premise_Description'],inplace=True)\n",
    "test_df.drop(columns=['Location','Area_Name','Status','Status_Description','Victim_Descent','Premise_Description'],inplace=True)"
   ]
  },
  {
   "cell_type": "code",
   "execution_count": 46,
   "id": "77400273",
   "metadata": {
    "execution": {
     "iopub.execute_input": "2024-08-09T17:58:48.080767Z",
     "iopub.status.busy": "2024-08-09T17:58:48.080019Z",
     "iopub.status.idle": "2024-08-09T17:58:48.088535Z",
     "shell.execute_reply": "2024-08-09T17:58:48.087558Z"
    },
    "papermill": {
     "duration": 0.070662,
     "end_time": "2024-08-09T17:58:48.090981",
     "exception": false,
     "start_time": "2024-08-09T17:58:48.020319",
     "status": "completed"
    },
    "tags": []
   },
   "outputs": [],
   "source": [
    "train_df['Crime_Category']=train_df['Crime_Category'].astype('category')"
   ]
  },
  {
   "cell_type": "markdown",
   "id": "5bcb518d",
   "metadata": {
    "papermill": {
     "duration": 0.059915,
     "end_time": "2024-08-09T17:58:48.210231",
     "exception": false,
     "start_time": "2024-08-09T17:58:48.150316",
     "status": "completed"
    },
    "tags": []
   },
   "source": [
    "# EDA(Exploratory Data Analysis)"
   ]
  },
  {
   "cell_type": "markdown",
   "id": "895916b2",
   "metadata": {
    "papermill": {
     "duration": 0.058729,
     "end_time": "2024-08-09T17:58:48.327720",
     "exception": false,
     "start_time": "2024-08-09T17:58:48.268991",
     "status": "completed"
    },
    "tags": []
   },
   "source": [
    "UNIVARIATE ANALYSIS"
   ]
  },
  {
   "cell_type": "code",
   "execution_count": 47,
   "id": "96363849",
   "metadata": {
    "execution": {
     "iopub.execute_input": "2024-08-09T17:58:48.448950Z",
     "iopub.status.busy": "2024-08-09T17:58:48.448396Z",
     "iopub.status.idle": "2024-08-09T17:58:48.826410Z",
     "shell.execute_reply": "2024-08-09T17:58:48.825114Z"
    },
    "papermill": {
     "duration": 0.441753,
     "end_time": "2024-08-09T17:58:48.829491",
     "exception": false,
     "start_time": "2024-08-09T17:58:48.387738",
     "status": "completed"
    },
    "tags": []
   },
   "outputs": [],
   "source": [
    "import matplotlib as plt\n",
    "import seaborn as sns"
   ]
  },
  {
   "cell_type": "code",
   "execution_count": 48,
   "id": "3abde03f",
   "metadata": {
    "execution": {
     "iopub.execute_input": "2024-08-09T17:58:48.962841Z",
     "iopub.status.busy": "2024-08-09T17:58:48.962405Z",
     "iopub.status.idle": "2024-08-09T17:58:49.273150Z",
     "shell.execute_reply": "2024-08-09T17:58:49.271828Z"
    },
    "papermill": {
     "duration": 0.376395,
     "end_time": "2024-08-09T17:58:49.276995",
     "exception": false,
     "start_time": "2024-08-09T17:58:48.900600",
     "status": "completed"
    },
    "tags": []
   },
   "outputs": [
    {
     "name": "stderr",
     "output_type": "stream",
     "text": [
      "/opt/conda/lib/python3.10/site-packages/seaborn/categorical.py:641: FutureWarning: The default of observed=False is deprecated and will be changed to True in a future version of pandas. Pass observed=False to retain current behavior or observed=True to adopt the future default and silence this warning.\n",
      "  grouped_vals = vals.groupby(grouper)\n"
     ]
    },
    {
     "data": {
      "text/plain": [
       "<Axes: xlabel='Victim_Sex', ylabel='count'>"
      ]
     },
     "execution_count": 48,
     "metadata": {},
     "output_type": "execute_result"
    },
    {
     "data": {
      "image/png": "[encoded data removed]",
      "text/plain": [
       "<Figure size 640x480 with 1 Axes>"
      ]
     },
     "metadata": {},
     "output_type": "display_data"
    }
   ],
   "source": [
    "sns.countplot(data=train_df,x='Victim_Sex')"
   ]
  },
  {
   "cell_type": "code",
   "execution_count": 49,
   "id": "014932e6",
   "metadata": {
    "execution": {
     "iopub.execute_input": "2024-08-09T17:58:49.429107Z",
     "iopub.status.busy": "2024-08-09T17:58:49.428649Z",
     "iopub.status.idle": "2024-08-09T17:58:50.029979Z",
     "shell.execute_reply": "2024-08-09T17:58:50.028578Z"
    },
    "papermill": {
     "duration": 0.670642,
     "end_time": "2024-08-09T17:58:50.032960",
     "exception": false,
     "start_time": "2024-08-09T17:58:49.362318",
     "status": "completed"
    },
    "tags": []
   },
   "outputs": [
    {
     "data": {
      "text/plain": [
       "<Axes: xlabel='Crime_Category', ylabel='count'>"
      ]
     },
     "execution_count": 49,
     "metadata": {},
     "output_type": "execute_result"
    },
    {
     "data": {
      "image/png": "[encoded data removed]",
      "text/plain": [
       "<Figure size 640x480 with 1 Axes>"
      ]
     },
     "metadata": {},
     "output_type": "display_data"
    }
   ],
   "source": [
    "sns.countplot(data=train_df,x='Crime_Category',hue='Crime_Category')\n"
   ]
  },
  {
   "cell_type": "code",
   "execution_count": 50,
   "id": "8c9e35f4",
   "metadata": {
    "execution": {
     "iopub.execute_input": "2024-08-09T17:58:50.156403Z",
     "iopub.status.busy": "2024-08-09T17:58:50.155963Z",
     "iopub.status.idle": "2024-08-09T17:58:53.098482Z",
     "shell.execute_reply": "2024-08-09T17:58:53.096923Z"
    },
    "papermill": {
     "duration": 3.007439,
     "end_time": "2024-08-09T17:58:53.101308",
     "exception": false,
     "start_time": "2024-08-09T17:58:50.093869",
     "status": "completed"
    },
    "tags": []
   },
   "outputs": [
    {
     "name": "stderr",
     "output_type": "stream",
     "text": [
      "/opt/conda/lib/python3.10/site-packages/seaborn/_oldcore.py:1119: FutureWarning: use_inf_as_na option is deprecated and will be removed in a future version. Convert inf values to NaN before operating instead.\n",
      "  with pd.option_context('mode.use_inf_as_na', True):\n",
      "/opt/conda/lib/python3.10/site-packages/seaborn/_oldcore.py:1057: FutureWarning: The default of observed=False is deprecated and will be changed to True in a future version of pandas. Pass observed=False to retain current behavior or observed=True to adopt the future default and silence this warning.\n",
      "  grouped_data = data.groupby(\n",
      "/opt/conda/lib/python3.10/site-packages/seaborn/_oldcore.py:1075: FutureWarning: When grouping with a length-1 list-like, you will need to pass a length-1 tuple to get_group in a future version of pandas. Pass `(name,)` instead of `name` to silence this warning.\n",
      "  data_subset = grouped_data.get_group(pd_key)\n",
      "/opt/conda/lib/python3.10/site-packages/seaborn/_oldcore.py:1075: FutureWarning: When grouping with a length-1 list-like, you will need to pass a length-1 tuple to get_group in a future version of pandas. Pass `(name,)` instead of `name` to silence this warning.\n",
      "  data_subset = grouped_data.get_group(pd_key)\n",
      "/opt/conda/lib/python3.10/site-packages/seaborn/_oldcore.py:1075: FutureWarning: When grouping with a length-1 list-like, you will need to pass a length-1 tuple to get_group in a future version of pandas. Pass `(name,)` instead of `name` to silence this warning.\n",
      "  data_subset = grouped_data.get_group(pd_key)\n",
      "/opt/conda/lib/python3.10/site-packages/seaborn/_oldcore.py:1075: FutureWarning: When grouping with a length-1 list-like, you will need to pass a length-1 tuple to get_group in a future version of pandas. Pass `(name,)` instead of `name` to silence this warning.\n",
      "  data_subset = grouped_data.get_group(pd_key)\n",
      "/opt/conda/lib/python3.10/site-packages/seaborn/_oldcore.py:1075: FutureWarning: When grouping with a length-1 list-like, you will need to pass a length-1 tuple to get_group in a future version of pandas. Pass `(name,)` instead of `name` to silence this warning.\n",
      "  data_subset = grouped_data.get_group(pd_key)\n",
      "/opt/conda/lib/python3.10/site-packages/seaborn/_oldcore.py:1075: FutureWarning: When grouping with a length-1 list-like, you will need to pass a length-1 tuple to get_group in a future version of pandas. Pass `(name,)` instead of `name` to silence this warning.\n",
      "  data_subset = grouped_data.get_group(pd_key)\n",
      "/opt/conda/lib/python3.10/site-packages/seaborn/_oldcore.py:1057: FutureWarning: The default of observed=False is deprecated and will be changed to True in a future version of pandas. Pass observed=False to retain current behavior or observed=True to adopt the future default and silence this warning.\n",
      "  grouped_data = data.groupby(\n",
      "/opt/conda/lib/python3.10/site-packages/seaborn/_oldcore.py:1075: FutureWarning: When grouping with a length-1 list-like, you will need to pass a length-1 tuple to get_group in a future version of pandas. Pass `(name,)` instead of `name` to silence this warning.\n",
      "  data_subset = grouped_data.get_group(pd_key)\n"
     ]
    },
    {
     "data": {
      "text/plain": [
       "<seaborn.axisgrid.FacetGrid at 0x790af24060e0>"
      ]
     },
     "execution_count": 50,
     "metadata": {},
     "output_type": "execute_result"
    },
    {
     "data": {
      "image/png": "[encoded data removed]",
      "text/plain": [
       "<Figure size 1000x1500 with 6 Axes>"
      ]
     },
     "metadata": {},
     "output_type": "display_data"
    }
   ],
   "source": [
    "sns.displot(data=train_df,x='Area_ID',col='Crime_Category',kind='hist',color='green',col_wrap=2)"
   ]
  },
  {
   "cell_type": "code",
   "execution_count": 51,
   "id": "f2daba4d",
   "metadata": {
    "execution": {
     "iopub.execute_input": "2024-08-09T17:58:53.229596Z",
     "iopub.status.busy": "2024-08-09T17:58:53.229138Z",
     "iopub.status.idle": "2024-08-09T17:58:55.996631Z",
     "shell.execute_reply": "2024-08-09T17:58:55.995317Z"
    },
    "papermill": {
     "duration": 2.835606,
     "end_time": "2024-08-09T17:58:55.999586",
     "exception": false,
     "start_time": "2024-08-09T17:58:53.163980",
     "status": "completed"
    },
    "tags": []
   },
   "outputs": [
    {
     "name": "stderr",
     "output_type": "stream",
     "text": [
      "/opt/conda/lib/python3.10/site-packages/seaborn/_oldcore.py:1119: FutureWarning: use_inf_as_na option is deprecated and will be removed in a future version. Convert inf values to NaN before operating instead.\n",
      "  with pd.option_context('mode.use_inf_as_na', True):\n",
      "/opt/conda/lib/python3.10/site-packages/seaborn/_oldcore.py:1057: FutureWarning: The default of observed=False is deprecated and will be changed to True in a future version of pandas. Pass observed=False to retain current behavior or observed=True to adopt the future default and silence this warning.\n",
      "  grouped_data = data.groupby(\n",
      "/opt/conda/lib/python3.10/site-packages/seaborn/_oldcore.py:1075: FutureWarning: When grouping with a length-1 list-like, you will need to pass a length-1 tuple to get_group in a future version of pandas. Pass `(name,)` instead of `name` to silence this warning.\n",
      "  data_subset = grouped_data.get_group(pd_key)\n",
      "/opt/conda/lib/python3.10/site-packages/seaborn/_oldcore.py:1075: FutureWarning: When grouping with a length-1 list-like, you will need to pass a length-1 tuple to get_group in a future version of pandas. Pass `(name,)` instead of `name` to silence this warning.\n",
      "  data_subset = grouped_data.get_group(pd_key)\n",
      "/opt/conda/lib/python3.10/site-packages/seaborn/_oldcore.py:1075: FutureWarning: When grouping with a length-1 list-like, you will need to pass a length-1 tuple to get_group in a future version of pandas. Pass `(name,)` instead of `name` to silence this warning.\n",
      "  data_subset = grouped_data.get_group(pd_key)\n",
      "/opt/conda/lib/python3.10/site-packages/seaborn/_oldcore.py:1075: FutureWarning: When grouping with a length-1 list-like, you will need to pass a length-1 tuple to get_group in a future version of pandas. Pass `(name,)` instead of `name` to silence this warning.\n",
      "  data_subset = grouped_data.get_group(pd_key)\n",
      "/opt/conda/lib/python3.10/site-packages/seaborn/_oldcore.py:1075: FutureWarning: When grouping with a length-1 list-like, you will need to pass a length-1 tuple to get_group in a future version of pandas. Pass `(name,)` instead of `name` to silence this warning.\n",
      "  data_subset = grouped_data.get_group(pd_key)\n",
      "/opt/conda/lib/python3.10/site-packages/seaborn/_oldcore.py:1075: FutureWarning: When grouping with a length-1 list-like, you will need to pass a length-1 tuple to get_group in a future version of pandas. Pass `(name,)` instead of `name` to silence this warning.\n",
      "  data_subset = grouped_data.get_group(pd_key)\n",
      "/opt/conda/lib/python3.10/site-packages/seaborn/_oldcore.py:1057: FutureWarning: The default of observed=False is deprecated and will be changed to True in a future version of pandas. Pass observed=False to retain current behavior or observed=True to adopt the future default and silence this warning.\n",
      "  grouped_data = data.groupby(\n",
      "/opt/conda/lib/python3.10/site-packages/seaborn/_oldcore.py:1075: FutureWarning: When grouping with a length-1 list-like, you will need to pass a length-1 tuple to get_group in a future version of pandas. Pass `(name,)` instead of `name` to silence this warning.\n",
      "  data_subset = grouped_data.get_group(pd_key)\n"
     ]
    },
    {
     "data": {
      "text/plain": [
       "<seaborn.axisgrid.FacetGrid at 0x790af1ca0be0>"
      ]
     },
     "execution_count": 51,
     "metadata": {},
     "output_type": "execute_result"
    },
    {
     "data": {
      "image/png": "[encoded data removed]",
      "text/plain": [
       "<Figure size 1000x1500 with 6 Axes>"
      ]
     },
     "metadata": {},
     "output_type": "display_data"
    }
   ],
   "source": [
    "sns.displot(data=train_df,col='Crime_Category',x='Reporting_District_no',kind='hist',col_wrap=2)"
   ]
  },
  {
   "cell_type": "code",
   "execution_count": 52,
   "id": "5b48af39",
   "metadata": {
    "execution": {
     "iopub.execute_input": "2024-08-09T17:58:56.129228Z",
     "iopub.status.busy": "2024-08-09T17:58:56.128776Z",
     "iopub.status.idle": "2024-08-09T17:58:59.086658Z",
     "shell.execute_reply": "2024-08-09T17:58:59.085243Z"
    },
    "papermill": {
     "duration": 3.02635,
     "end_time": "2024-08-09T17:58:59.089599",
     "exception": false,
     "start_time": "2024-08-09T17:58:56.063249",
     "status": "completed"
    },
    "tags": []
   },
   "outputs": [
    {
     "name": "stderr",
     "output_type": "stream",
     "text": [
      "/opt/conda/lib/python3.10/site-packages/seaborn/_oldcore.py:1119: FutureWarning: use_inf_as_na option is deprecated and will be removed in a future version. Convert inf values to NaN before operating instead.\n",
      "  with pd.option_context('mode.use_inf_as_na', True):\n",
      "/opt/conda/lib/python3.10/site-packages/seaborn/_oldcore.py:1057: FutureWarning: The default of observed=False is deprecated and will be changed to True in a future version of pandas. Pass observed=False to retain current behavior or observed=True to adopt the future default and silence this warning.\n",
      "  grouped_data = data.groupby(\n",
      "/opt/conda/lib/python3.10/site-packages/seaborn/_oldcore.py:1075: FutureWarning: When grouping with a length-1 list-like, you will need to pass a length-1 tuple to get_group in a future version of pandas. Pass `(name,)` instead of `name` to silence this warning.\n",
      "  data_subset = grouped_data.get_group(pd_key)\n",
      "/opt/conda/lib/python3.10/site-packages/seaborn/_oldcore.py:1075: FutureWarning: When grouping with a length-1 list-like, you will need to pass a length-1 tuple to get_group in a future version of pandas. Pass `(name,)` instead of `name` to silence this warning.\n",
      "  data_subset = grouped_data.get_group(pd_key)\n",
      "/opt/conda/lib/python3.10/site-packages/seaborn/_oldcore.py:1075: FutureWarning: When grouping with a length-1 list-like, you will need to pass a length-1 tuple to get_group in a future version of pandas. Pass `(name,)` instead of `name` to silence this warning.\n",
      "  data_subset = grouped_data.get_group(pd_key)\n",
      "/opt/conda/lib/python3.10/site-packages/seaborn/_oldcore.py:1075: FutureWarning: When grouping with a length-1 list-like, you will need to pass a length-1 tuple to get_group in a future version of pandas. Pass `(name,)` instead of `name` to silence this warning.\n",
      "  data_subset = grouped_data.get_group(pd_key)\n",
      "/opt/conda/lib/python3.10/site-packages/seaborn/_oldcore.py:1075: FutureWarning: When grouping with a length-1 list-like, you will need to pass a length-1 tuple to get_group in a future version of pandas. Pass `(name,)` instead of `name` to silence this warning.\n",
      "  data_subset = grouped_data.get_group(pd_key)\n",
      "/opt/conda/lib/python3.10/site-packages/seaborn/_oldcore.py:1075: FutureWarning: When grouping with a length-1 list-like, you will need to pass a length-1 tuple to get_group in a future version of pandas. Pass `(name,)` instead of `name` to silence this warning.\n",
      "  data_subset = grouped_data.get_group(pd_key)\n",
      "/opt/conda/lib/python3.10/site-packages/seaborn/_oldcore.py:1057: FutureWarning: The default of observed=False is deprecated and will be changed to True in a future version of pandas. Pass observed=False to retain current behavior or observed=True to adopt the future default and silence this warning.\n",
      "  grouped_data = data.groupby(\n",
      "/opt/conda/lib/python3.10/site-packages/seaborn/_oldcore.py:1075: FutureWarning: When grouping with a length-1 list-like, you will need to pass a length-1 tuple to get_group in a future version of pandas. Pass `(name,)` instead of `name` to silence this warning.\n",
      "  data_subset = grouped_data.get_group(pd_key)\n"
     ]
    },
    {
     "data": {
      "text/plain": [
       "<seaborn.axisgrid.FacetGrid at 0x790af1cd42b0>"
      ]
     },
     "execution_count": 52,
     "metadata": {},
     "output_type": "execute_result"
    },
    {
     "data": {
      "image/png": "[encoded data removed]",
      "text/plain": [
       "<Figure size 1000x1500 with 6 Axes>"
      ]
     },
     "metadata": {},
     "output_type": "display_data"
    }
   ],
   "source": [
    "sns.displot(data=train_df,x='Victim_Age',kind='hist',col='Crime_Category',col_wrap=2)"
   ]
  },
  {
   "cell_type": "code",
   "execution_count": 53,
   "id": "68864c4c",
   "metadata": {
    "execution": {
     "iopub.execute_input": "2024-08-09T17:58:59.236699Z",
     "iopub.status.busy": "2024-08-09T17:58:59.236237Z",
     "iopub.status.idle": "2024-08-09T17:58:59.775852Z",
     "shell.execute_reply": "2024-08-09T17:58:59.774598Z"
    },
    "papermill": {
     "duration": 0.612058,
     "end_time": "2024-08-09T17:58:59.779074",
     "exception": false,
     "start_time": "2024-08-09T17:58:59.167016",
     "status": "completed"
    },
    "tags": []
   },
   "outputs": [
    {
     "data": {
      "text/plain": [
       "<seaborn.axisgrid.FacetGrid at 0x790af1c75420>"
      ]
     },
     "execution_count": 53,
     "metadata": {},
     "output_type": "execute_result"
    },
    {
     "data": {
      "image/png": "[encoded data removed]",
      "text/plain": [
       "<Figure size 500x500 with 1 Axes>"
      ]
     },
     "metadata": {},
     "output_type": "display_data"
    }
   ],
   "source": [
    "sns.catplot(data=train_df,x='Month_Occurred',kind='count')"
   ]
  },
  {
   "cell_type": "code",
   "execution_count": 54,
   "id": "12392591",
   "metadata": {
    "execution": {
     "iopub.execute_input": "2024-08-09T17:58:59.919499Z",
     "iopub.status.busy": "2024-08-09T17:58:59.918966Z",
     "iopub.status.idle": "2024-08-09T17:59:00.614645Z",
     "shell.execute_reply": "2024-08-09T17:59:00.613044Z"
    },
    "papermill": {
     "duration": 0.767641,
     "end_time": "2024-08-09T17:59:00.617657",
     "exception": false,
     "start_time": "2024-08-09T17:58:59.850016",
     "status": "completed"
    },
    "tags": []
   },
   "outputs": [
    {
     "data": {
      "text/plain": [
       "<seaborn.axisgrid.FacetGrid at 0x790aec7b1c00>"
      ]
     },
     "execution_count": 54,
     "metadata": {},
     "output_type": "execute_result"
    },
    {
     "data": {
      "image/png": "[encoded data removed]",
      "text/plain": [
       "<Figure size 500x500 with 1 Axes>"
      ]
     },
     "metadata": {},
     "output_type": "display_data"
    }
   ],
   "source": [
    "sns.catplot(data=train_df,x='Day_Occurred',kind='count')"
   ]
  },
  {
   "cell_type": "code",
   "execution_count": 55,
   "id": "836d87fd",
   "metadata": {
    "execution": {
     "iopub.execute_input": "2024-08-09T17:59:00.753325Z",
     "iopub.status.busy": "2024-08-09T17:59:00.752815Z",
     "iopub.status.idle": "2024-08-09T17:59:01.387529Z",
     "shell.execute_reply": "2024-08-09T17:59:01.385936Z"
    },
    "papermill": {
     "duration": 0.704885,
     "end_time": "2024-08-09T17:59:01.390553",
     "exception": false,
     "start_time": "2024-08-09T17:59:00.685668",
     "status": "completed"
    },
    "tags": []
   },
   "outputs": [
    {
     "data": {
      "text/plain": [
       "<seaborn.axisgrid.FacetGrid at 0x790aec84f700>"
      ]
     },
     "execution_count": 55,
     "metadata": {},
     "output_type": "execute_result"
    },
    {
     "data": {
      "image/png": "[encoded data removed]",
      "text/plain": [
       "<Figure size 500x500 with 1 Axes>"
      ]
     },
     "metadata": {},
     "output_type": "display_data"
    }
   ],
   "source": [
    "sns.catplot(data=train_df,x='Time_hours',kind='count')"
   ]
  },
  {
   "cell_type": "markdown",
   "id": "f2303000",
   "metadata": {
    "papermill": {
     "duration": 0.068306,
     "end_time": "2024-08-09T17:59:01.525688",
     "exception": false,
     "start_time": "2024-08-09T17:59:01.457382",
     "status": "completed"
    },
    "tags": []
   },
   "source": [
    "1.Most of the Victims are Male\n",
    "\n",
    "2.Most of the Victims are of Descent Code 'H'\n",
    "\n",
    "3.Most of the Crimes are Property Crimes\n",
    "\n",
    "4.Crimes against persons are less Ocurred"
   ]
  },
  {
   "cell_type": "code",
   "execution_count": 56,
   "id": "d980de18",
   "metadata": {
    "execution": {
     "iopub.execute_input": "2024-08-09T17:59:01.661645Z",
     "iopub.status.busy": "2024-08-09T17:59:01.661098Z",
     "iopub.status.idle": "2024-08-09T17:59:02.221240Z",
     "shell.execute_reply": "2024-08-09T17:59:02.219903Z"
    },
    "papermill": {
     "duration": 0.630743,
     "end_time": "2024-08-09T17:59:02.224086",
     "exception": false,
     "start_time": "2024-08-09T17:59:01.593343",
     "status": "completed"
    },
    "tags": []
   },
   "outputs": [
    {
     "data": {
      "text/plain": [
       "<seaborn.axisgrid.FacetGrid at 0x790aec944a00>"
      ]
     },
     "execution_count": 56,
     "metadata": {},
     "output_type": "execute_result"
    },
    {
     "data": {
      "image/png": "[encoded data removed]",
      "text/plain": [
       "<Figure size 500x500 with 1 Axes>"
      ]
     },
     "metadata": {},
     "output_type": "display_data"
    }
   ],
   "source": [
    "sns.relplot(data=train_df,x='Longitude',y='Latitude',kind='scatter')"
   ]
  },
  {
   "cell_type": "markdown",
   "id": "f0e93cfa",
   "metadata": {
    "papermill": {
     "duration": 0.067083,
     "end_time": "2024-08-09T17:59:02.359249",
     "exception": false,
     "start_time": "2024-08-09T17:59:02.292166",
     "status": "completed"
    },
    "tags": []
   },
   "source": [
    "# Observations"
   ]
  },
  {
   "cell_type": "markdown",
   "id": "e7761326",
   "metadata": {
    "papermill": {
     "duration": 0.068172,
     "end_time": "2024-08-09T17:59:02.493596",
     "exception": false,
     "start_time": "2024-08-09T17:59:02.425424",
     "status": "completed"
    },
    "tags": []
   },
   "source": [
    "1.Most of the Victims are Male \n",
    "\n",
    "2.Most of the Crimes are 'Property Crimes' followed by 'Crimes against Persons'\n",
    "\n",
    "3.Most of the Crimes are Occured in January Month\n",
    "\n",
    "4.Less Crimes are Happened in April Month\n",
    "\n",
    "5.More Crimes occured in the First day of every Month\n",
    "\n",
    "6.More Crimes occured at 12PM\n",
    "\n",
    "7.Less Crimes are at 4:00AM\n",
    "\n",
    "8.Crime Rate Decreased After Evening  6PM\n",
    "\n",
    "9.Crimes are relatively evenly distributed across the days of the month.\n",
    "\n"
   ]
  },
  {
   "cell_type": "markdown",
   "id": "9a61e981",
   "metadata": {
    "papermill": {
     "duration": 0.066517,
     "end_time": "2024-08-09T17:59:02.627124",
     "exception": false,
     "start_time": "2024-08-09T17:59:02.560607",
     "status": "completed"
    },
    "tags": []
   },
   "source": [
    "# Data Preprocessing"
   ]
  },
  {
   "cell_type": "markdown",
   "id": "e10be18e",
   "metadata": {
    "papermill": {
     "duration": 0.066211,
     "end_time": "2024-08-09T17:59:02.759926",
     "exception": false,
     "start_time": "2024-08-09T17:59:02.693715",
     "status": "completed"
    },
    "tags": []
   },
   "source": [
    "****converting categorical columns into numerical columns****"
   ]
  },
  {
   "cell_type": "code",
   "execution_count": 57,
   "id": "84ccadd9",
   "metadata": {
    "execution": {
     "iopub.execute_input": "2024-08-09T17:59:02.897585Z",
     "iopub.status.busy": "2024-08-09T17:59:02.897122Z",
     "iopub.status.idle": "2024-08-09T17:59:02.904680Z",
     "shell.execute_reply": "2024-08-09T17:59:02.903392Z"
    },
    "papermill": {
     "duration": 0.080491,
     "end_time": "2024-08-09T17:59:02.907591",
     "exception": false,
     "start_time": "2024-08-09T17:59:02.827100",
     "status": "completed"
    },
    "tags": []
   },
   "outputs": [
    {
     "data": {
      "text/plain": [
       "\"from sklearn.preprocessing import OneHotEncoder\\nohe=OneHotEncoder(sparse=False,drop='first',dtype=np.int32)\""
      ]
     },
     "execution_count": 57,
     "metadata": {},
     "output_type": "execute_result"
    }
   ],
   "source": [
    "'''from sklearn.preprocessing import OneHotEncoder\n",
    "ohe=OneHotEncoder(sparse=False,drop='first',dtype=np.int32)'''"
   ]
  },
  {
   "cell_type": "code",
   "execution_count": 58,
   "id": "704ae423",
   "metadata": {
    "execution": {
     "iopub.execute_input": "2024-08-09T17:59:03.044151Z",
     "iopub.status.busy": "2024-08-09T17:59:03.043699Z",
     "iopub.status.idle": "2024-08-09T17:59:03.051275Z",
     "shell.execute_reply": "2024-08-09T17:59:03.050008Z"
    },
    "papermill": {
     "duration": 0.079138,
     "end_time": "2024-08-09T17:59:03.053861",
     "exception": false,
     "start_time": "2024-08-09T17:59:02.974723",
     "status": "completed"
    },
    "tags": []
   },
   "outputs": [
    {
     "data": {
      "text/plain": [
       "\"encoded_data_train=ohe.fit_transform(train_df['Victim_Sex'].values.reshape(-1,1))\\nencoded_data_test=ohe.fit_transform(test_df['Victim_Sex'].values.reshape(-1,1))\""
      ]
     },
     "execution_count": 58,
     "metadata": {},
     "output_type": "execute_result"
    }
   ],
   "source": [
    "'''encoded_data_train=ohe.fit_transform(train_df['Victim_Sex'].values.reshape(-1,1))\n",
    "encoded_data_test=ohe.fit_transform(test_df['Victim_Sex'].values.reshape(-1,1))'''"
   ]
  },
  {
   "cell_type": "code",
   "execution_count": 59,
   "id": "352284bc",
   "metadata": {
    "execution": {
     "iopub.execute_input": "2024-08-09T17:59:03.191838Z",
     "iopub.status.busy": "2024-08-09T17:59:03.191359Z",
     "iopub.status.idle": "2024-08-09T17:59:03.196822Z",
     "shell.execute_reply": "2024-08-09T17:59:03.195580Z"
    },
    "papermill": {
     "duration": 0.078746,
     "end_time": "2024-08-09T17:59:03.199585",
     "exception": false,
     "start_time": "2024-08-09T17:59:03.120839",
     "status": "completed"
    },
    "tags": []
   },
   "outputs": [],
   "source": [
    "#ohe.get_feature_names_out()"
   ]
  },
  {
   "cell_type": "code",
   "execution_count": 60,
   "id": "df3b9dcc",
   "metadata": {
    "execution": {
     "iopub.execute_input": "2024-08-09T17:59:03.339612Z",
     "iopub.status.busy": "2024-08-09T17:59:03.339128Z",
     "iopub.status.idle": "2024-08-09T17:59:03.346576Z",
     "shell.execute_reply": "2024-08-09T17:59:03.345346Z"
    },
    "papermill": {
     "duration": 0.079615,
     "end_time": "2024-08-09T17:59:03.349207",
     "exception": false,
     "start_time": "2024-08-09T17:59:03.269592",
     "status": "completed"
    },
    "tags": []
   },
   "outputs": [
    {
     "data": {
      "text/plain": [
       "\"train_df['Victim_M']=encoded_data_train[:,0]\\ntrain_df['Victim_Oth']=encoded_data_train[:,1]\\n\\ntest_df['Victim_M']=encoded_data_test[:,0]\\ntest_df['Victim_Oth']=encoded_data_test[:,1]\""
      ]
     },
     "execution_count": 60,
     "metadata": {},
     "output_type": "execute_result"
    }
   ],
   "source": [
    "'''train_df['Victim_M']=encoded_data_train[:,0]\n",
    "train_df['Victim_Oth']=encoded_data_train[:,1]\n",
    "\n",
    "test_df['Victim_M']=encoded_data_test[:,0]\n",
    "test_df['Victim_Oth']=encoded_data_test[:,1]'''"
   ]
  },
  {
   "cell_type": "code",
   "execution_count": 61,
   "id": "c89b3d72",
   "metadata": {
    "execution": {
     "iopub.execute_input": "2024-08-09T17:59:03.488719Z",
     "iopub.status.busy": "2024-08-09T17:59:03.487547Z",
     "iopub.status.idle": "2024-08-09T17:59:03.495440Z",
     "shell.execute_reply": "2024-08-09T17:59:03.494214Z"
    },
    "papermill": {
     "duration": 0.08102,
     "end_time": "2024-08-09T17:59:03.498086",
     "exception": false,
     "start_time": "2024-08-09T17:59:03.417066",
     "status": "completed"
    },
    "tags": []
   },
   "outputs": [
    {
     "data": {
      "text/plain": [
       "\"train_df.drop(columns=['Victim_Sex'],inplace=True)\\ntest_df.drop(columns=['Victim_Sex'],inplace=True)\""
      ]
     },
     "execution_count": 61,
     "metadata": {},
     "output_type": "execute_result"
    }
   ],
   "source": [
    "'''train_df.drop(columns=['Victim_Sex'],inplace=True)\n",
    "test_df.drop(columns=['Victim_Sex'],inplace=True)'''"
   ]
  },
  {
   "cell_type": "code",
   "execution_count": 62,
   "id": "2c6c6576",
   "metadata": {
    "execution": {
     "iopub.execute_input": "2024-08-09T17:59:03.637823Z",
     "iopub.status.busy": "2024-08-09T17:59:03.636506Z",
     "iopub.status.idle": "2024-08-09T17:59:03.661179Z",
     "shell.execute_reply": "2024-08-09T17:59:03.659689Z"
    },
    "papermill": {
     "duration": 0.097273,
     "end_time": "2024-08-09T17:59:03.663942",
     "exception": false,
     "start_time": "2024-08-09T17:59:03.566669",
     "status": "completed"
    },
    "tags": []
   },
   "outputs": [
    {
     "data": {
      "text/html": [
       "<div>\n",
       "<style scoped>\n",
       "    .dataframe tbody tr th:only-of-type {\n",
       "        vertical-align: middle;\n",
       "    }\n",
       "\n",
       "    .dataframe tbody tr th {\n",
       "        vertical-align: top;\n",
       "    }\n",
       "\n",
       "    .dataframe thead th {\n",
       "        text-align: right;\n",
       "    }\n",
       "</style>\n",
       "<table border=\"1\" class=\"dataframe\">\n",
       "  <thead>\n",
       "    <tr style=\"text-align: right;\">\n",
       "      <th></th>\n",
       "      <th>Latitude</th>\n",
       "      <th>Longitude</th>\n",
       "      <th>Area_ID</th>\n",
       "      <th>Reporting_District_no</th>\n",
       "      <th>Part 1-2</th>\n",
       "      <th>Modus_Operandi</th>\n",
       "      <th>Victim_Age</th>\n",
       "      <th>Victim_Sex</th>\n",
       "      <th>Premise_Code</th>\n",
       "      <th>Weapon_Used_Code</th>\n",
       "      <th>Weapon_Description</th>\n",
       "      <th>Crime_Category</th>\n",
       "      <th>Time_hours</th>\n",
       "      <th>Time_minutes</th>\n",
       "      <th>Day_Occurred</th>\n",
       "      <th>Month_Occurred</th>\n",
       "      <th>Year_Occurred</th>\n",
       "      <th>Day_Reported</th>\n",
       "      <th>Month_Reported</th>\n",
       "      <th>Year_Reported</th>\n",
       "    </tr>\n",
       "  </thead>\n",
       "  <tbody>\n",
       "    <tr>\n",
       "      <th>19995</th>\n",
       "      <td>34.0334</td>\n",
       "      <td>-118.3523</td>\n",
       "      <td>3</td>\n",
       "      <td>303</td>\n",
       "      <td>2</td>\n",
       "      <td>0416 0446 2004 0913</td>\n",
       "      <td>51</td>\n",
       "      <td>M</td>\n",
       "      <td>501</td>\n",
       "      <td>400.0</td>\n",
       "      <td>STRONG-ARM (HANDS, FIST, FEET OR BODILY FORCE)</td>\n",
       "      <td>Violent Crimes</td>\n",
       "      <td>7</td>\n",
       "      <td>0</td>\n",
       "      <td>24</td>\n",
       "      <td>5</td>\n",
       "      <td>2020</td>\n",
       "      <td>24</td>\n",
       "      <td>5</td>\n",
       "      <td>2020</td>\n",
       "    </tr>\n",
       "    <tr>\n",
       "      <th>19996</th>\n",
       "      <td>34.2212</td>\n",
       "      <td>-118.5011</td>\n",
       "      <td>10</td>\n",
       "      <td>1008</td>\n",
       "      <td>1</td>\n",
       "      <td>1822 0209 0344 1414 1420</td>\n",
       "      <td>0</td>\n",
       "      <td>M</td>\n",
       "      <td>301</td>\n",
       "      <td>400.0</td>\n",
       "      <td>Unknown</td>\n",
       "      <td>Property Crimes</td>\n",
       "      <td>2</td>\n",
       "      <td>59</td>\n",
       "      <td>25</td>\n",
       "      <td>12</td>\n",
       "      <td>2020</td>\n",
       "      <td>25</td>\n",
       "      <td>12</td>\n",
       "      <td>2020</td>\n",
       "    </tr>\n",
       "    <tr>\n",
       "      <th>19997</th>\n",
       "      <td>34.0571</td>\n",
       "      <td>-118.3815</td>\n",
       "      <td>8</td>\n",
       "      <td>849</td>\n",
       "      <td>1</td>\n",
       "      <td>0344 1822 1420</td>\n",
       "      <td>42</td>\n",
       "      <td>M</td>\n",
       "      <td>102</td>\n",
       "      <td>400.0</td>\n",
       "      <td>Unknown</td>\n",
       "      <td>Property Crimes</td>\n",
       "      <td>14</td>\n",
       "      <td>0</td>\n",
       "      <td>25</td>\n",
       "      <td>9</td>\n",
       "      <td>2020</td>\n",
       "      <td>25</td>\n",
       "      <td>9</td>\n",
       "      <td>2020</td>\n",
       "    </tr>\n",
       "    <tr>\n",
       "      <th>19998</th>\n",
       "      <td>33.7451</td>\n",
       "      <td>-118.2835</td>\n",
       "      <td>5</td>\n",
       "      <td>558</td>\n",
       "      <td>2</td>\n",
       "      <td>1202 2038 0913 0602 1242 0553</td>\n",
       "      <td>76</td>\n",
       "      <td>F</td>\n",
       "      <td>501</td>\n",
       "      <td>400.0</td>\n",
       "      <td>Unknown</td>\n",
       "      <td>Crimes against Public Order</td>\n",
       "      <td>6</td>\n",
       "      <td>0</td>\n",
       "      <td>10</td>\n",
       "      <td>6</td>\n",
       "      <td>2020</td>\n",
       "      <td>10</td>\n",
       "      <td>6</td>\n",
       "      <td>2020</td>\n",
       "    </tr>\n",
       "    <tr>\n",
       "      <th>19999</th>\n",
       "      <td>34.0037</td>\n",
       "      <td>-118.3034</td>\n",
       "      <td>3</td>\n",
       "      <td>397</td>\n",
       "      <td>1</td>\n",
       "      <td>Unknown</td>\n",
       "      <td>0</td>\n",
       "      <td>others</td>\n",
       "      <td>101</td>\n",
       "      <td>400.0</td>\n",
       "      <td>Unknown</td>\n",
       "      <td>Property Crimes</td>\n",
       "      <td>18</td>\n",
       "      <td>0</td>\n",
       "      <td>17</td>\n",
       "      <td>2</td>\n",
       "      <td>2020</td>\n",
       "      <td>18</td>\n",
       "      <td>2</td>\n",
       "      <td>2020</td>\n",
       "    </tr>\n",
       "  </tbody>\n",
       "</table>\n",
       "</div>"
      ],
      "text/plain": [
       "       Latitude  Longitude  Area_ID  Reporting_District_no  Part 1-2  \\\n",
       "19995   34.0334  -118.3523        3                    303         2   \n",
       "19996   34.2212  -118.5011       10                   1008         1   \n",
       "19997   34.0571  -118.3815        8                    849         1   \n",
       "19998   33.7451  -118.2835        5                    558         2   \n",
       "19999   34.0037  -118.3034        3                    397         1   \n",
       "\n",
       "                      Modus_Operandi  Victim_Age Victim_Sex  Premise_Code  \\\n",
       "19995            0416 0446 2004 0913          51          M           501   \n",
       "19996       1822 0209 0344 1414 1420           0          M           301   \n",
       "19997                 0344 1822 1420          42          M           102   \n",
       "19998  1202 2038 0913 0602 1242 0553          76          F           501   \n",
       "19999                        Unknown           0     others           101   \n",
       "\n",
       "       Weapon_Used_Code                              Weapon_Description  \\\n",
       "19995             400.0  STRONG-ARM (HANDS, FIST, FEET OR BODILY FORCE)   \n",
       "19996             400.0                                         Unknown   \n",
       "19997             400.0                                         Unknown   \n",
       "19998             400.0                                         Unknown   \n",
       "19999             400.0                                         Unknown   \n",
       "\n",
       "                    Crime_Category  Time_hours  Time_minutes  Day_Occurred  \\\n",
       "19995               Violent Crimes           7             0            24   \n",
       "19996              Property Crimes           2            59            25   \n",
       "19997              Property Crimes          14             0            25   \n",
       "19998  Crimes against Public Order           6             0            10   \n",
       "19999              Property Crimes          18             0            17   \n",
       "\n",
       "       Month_Occurred  Year_Occurred  Day_Reported  Month_Reported  \\\n",
       "19995               5           2020            24               5   \n",
       "19996              12           2020            25              12   \n",
       "19997               9           2020            25               9   \n",
       "19998               6           2020            10               6   \n",
       "19999               2           2020            18               2   \n",
       "\n",
       "       Year_Reported  \n",
       "19995           2020  \n",
       "19996           2020  \n",
       "19997           2020  \n",
       "19998           2020  \n",
       "19999           2020  "
      ]
     },
     "execution_count": 62,
     "metadata": {},
     "output_type": "execute_result"
    }
   ],
   "source": [
    "train_df.tail()"
   ]
  },
  {
   "cell_type": "code",
   "execution_count": 63,
   "id": "cf5581db",
   "metadata": {
    "execution": {
     "iopub.execute_input": "2024-08-09T17:59:03.804319Z",
     "iopub.status.busy": "2024-08-09T17:59:03.803789Z",
     "iopub.status.idle": "2024-08-09T17:59:03.822741Z",
     "shell.execute_reply": "2024-08-09T17:59:03.821335Z"
    },
    "papermill": {
     "duration": 0.0924,
     "end_time": "2024-08-09T17:59:03.825743",
     "exception": false,
     "start_time": "2024-08-09T17:59:03.733343",
     "status": "completed"
    },
    "tags": []
   },
   "outputs": [],
   "source": [
    "from sklearn.preprocessing import OrdinalEncoder\n",
    "le=OrdinalEncoder()\n",
    "train_df['Victim_Sex']=le.fit_transform(train_df['Victim_Sex'].values.reshape(-1,1)).ravel()\n",
    "test_df['Victim_Sex']=le.fit_transform(test_df['Victim_Sex'].values.reshape(-1,1)).ravel()"
   ]
  },
  {
   "cell_type": "code",
   "execution_count": 64,
   "id": "5b65e422",
   "metadata": {
    "execution": {
     "iopub.execute_input": "2024-08-09T17:59:03.965485Z",
     "iopub.status.busy": "2024-08-09T17:59:03.965008Z",
     "iopub.status.idle": "2024-08-09T17:59:03.982625Z",
     "shell.execute_reply": "2024-08-09T17:59:03.981523Z"
    },
    "papermill": {
     "duration": 0.091661,
     "end_time": "2024-08-09T17:59:03.985481",
     "exception": false,
     "start_time": "2024-08-09T17:59:03.893820",
     "status": "completed"
    },
    "tags": []
   },
   "outputs": [],
   "source": [
    "#train_df['Cross_Street']=le.fit_transform(train_df['Cross_Street'].values.reshape(-1,1)).ravel()\n",
    "#test_df['Cross_Street']=le.fit_transform(test_df['Cross_Street'].values.reshape(-1,1)).ravel()\n",
    "train_df['Weapon_Description']=le.fit_transform(train_df['Weapon_Description'].values.reshape(-1,1)).ravel()\n",
    "test_df['Weapon_Description']=le.fit_transform(test_df['Weapon_Description'].values.reshape(-1,1)).ravel()\n",
    "#train_df['Status']=le.fit_transform(train_df['Status'].values.reshape(-1,1)).ravel()\n",
    "#test_df['Status']=le.fit_transform(test_df['Status'].values.reshape(-1,1)).ravel()\n"
   ]
  },
  {
   "cell_type": "code",
   "execution_count": 65,
   "id": "b132da3b",
   "metadata": {
    "execution": {
     "iopub.execute_input": "2024-08-09T17:59:04.125317Z",
     "iopub.status.busy": "2024-08-09T17:59:04.124879Z",
     "iopub.status.idle": "2024-08-09T17:59:04.130427Z",
     "shell.execute_reply": "2024-08-09T17:59:04.129154Z"
    },
    "papermill": {
     "duration": 0.077611,
     "end_time": "2024-08-09T17:59:04.132959",
     "exception": false,
     "start_time": "2024-08-09T17:59:04.055348",
     "status": "completed"
    },
    "tags": []
   },
   "outputs": [],
   "source": [
    "#train_df['Area_Name']=le.fit_transform(train_df['Area_Name'].values.reshape(-1,1)).ravel()\n",
    "#test_df['Area_Name']=le.fit_transform(test_df['Area_Name'].values.reshape(-1,1)).ravel()\n"
   ]
  },
  {
   "cell_type": "code",
   "execution_count": 66,
   "id": "07ef059a",
   "metadata": {
    "execution": {
     "iopub.execute_input": "2024-08-09T17:59:04.276479Z",
     "iopub.status.busy": "2024-08-09T17:59:04.276035Z",
     "iopub.status.idle": "2024-08-09T17:59:04.300340Z",
     "shell.execute_reply": "2024-08-09T17:59:04.299223Z"
    },
    "papermill": {
     "duration": 0.10017,
     "end_time": "2024-08-09T17:59:04.303201",
     "exception": false,
     "start_time": "2024-08-09T17:59:04.203031",
     "status": "completed"
    },
    "tags": []
   },
   "outputs": [
    {
     "data": {
      "text/html": [
       "<div>\n",
       "<style scoped>\n",
       "    .dataframe tbody tr th:only-of-type {\n",
       "        vertical-align: middle;\n",
       "    }\n",
       "\n",
       "    .dataframe tbody tr th {\n",
       "        vertical-align: top;\n",
       "    }\n",
       "\n",
       "    .dataframe thead th {\n",
       "        text-align: right;\n",
       "    }\n",
       "</style>\n",
       "<table border=\"1\" class=\"dataframe\">\n",
       "  <thead>\n",
       "    <tr style=\"text-align: right;\">\n",
       "      <th></th>\n",
       "      <th>Latitude</th>\n",
       "      <th>Longitude</th>\n",
       "      <th>Area_ID</th>\n",
       "      <th>Reporting_District_no</th>\n",
       "      <th>Part 1-2</th>\n",
       "      <th>Modus_Operandi</th>\n",
       "      <th>Victim_Age</th>\n",
       "      <th>Victim_Sex</th>\n",
       "      <th>Premise_Code</th>\n",
       "      <th>Weapon_Used_Code</th>\n",
       "      <th>Weapon_Description</th>\n",
       "      <th>Crime_Category</th>\n",
       "      <th>Time_hours</th>\n",
       "      <th>Time_minutes</th>\n",
       "      <th>Day_Occurred</th>\n",
       "      <th>Month_Occurred</th>\n",
       "      <th>Year_Occurred</th>\n",
       "      <th>Day_Reported</th>\n",
       "      <th>Month_Reported</th>\n",
       "      <th>Year_Reported</th>\n",
       "    </tr>\n",
       "  </thead>\n",
       "  <tbody>\n",
       "    <tr>\n",
       "      <th>19995</th>\n",
       "      <td>34.0334</td>\n",
       "      <td>-118.3523</td>\n",
       "      <td>3</td>\n",
       "      <td>303</td>\n",
       "      <td>2</td>\n",
       "      <td>0416 0446 2004 0913</td>\n",
       "      <td>51</td>\n",
       "      <td>1.0</td>\n",
       "      <td>501</td>\n",
       "      <td>400.0</td>\n",
       "      <td>47.0</td>\n",
       "      <td>Violent Crimes</td>\n",
       "      <td>7</td>\n",
       "      <td>0</td>\n",
       "      <td>24</td>\n",
       "      <td>5</td>\n",
       "      <td>2020</td>\n",
       "      <td>24</td>\n",
       "      <td>5</td>\n",
       "      <td>2020</td>\n",
       "    </tr>\n",
       "    <tr>\n",
       "      <th>19996</th>\n",
       "      <td>34.2212</td>\n",
       "      <td>-118.5011</td>\n",
       "      <td>10</td>\n",
       "      <td>1008</td>\n",
       "      <td>1</td>\n",
       "      <td>1822 0209 0344 1414 1420</td>\n",
       "      <td>0</td>\n",
       "      <td>1.0</td>\n",
       "      <td>301</td>\n",
       "      <td>400.0</td>\n",
       "      <td>55.0</td>\n",
       "      <td>Property Crimes</td>\n",
       "      <td>2</td>\n",
       "      <td>59</td>\n",
       "      <td>25</td>\n",
       "      <td>12</td>\n",
       "      <td>2020</td>\n",
       "      <td>25</td>\n",
       "      <td>12</td>\n",
       "      <td>2020</td>\n",
       "    </tr>\n",
       "    <tr>\n",
       "      <th>19997</th>\n",
       "      <td>34.0571</td>\n",
       "      <td>-118.3815</td>\n",
       "      <td>8</td>\n",
       "      <td>849</td>\n",
       "      <td>1</td>\n",
       "      <td>0344 1822 1420</td>\n",
       "      <td>42</td>\n",
       "      <td>1.0</td>\n",
       "      <td>102</td>\n",
       "      <td>400.0</td>\n",
       "      <td>55.0</td>\n",
       "      <td>Property Crimes</td>\n",
       "      <td>14</td>\n",
       "      <td>0</td>\n",
       "      <td>25</td>\n",
       "      <td>9</td>\n",
       "      <td>2020</td>\n",
       "      <td>25</td>\n",
       "      <td>9</td>\n",
       "      <td>2020</td>\n",
       "    </tr>\n",
       "    <tr>\n",
       "      <th>19998</th>\n",
       "      <td>33.7451</td>\n",
       "      <td>-118.2835</td>\n",
       "      <td>5</td>\n",
       "      <td>558</td>\n",
       "      <td>2</td>\n",
       "      <td>1202 2038 0913 0602 1242 0553</td>\n",
       "      <td>76</td>\n",
       "      <td>0.0</td>\n",
       "      <td>501</td>\n",
       "      <td>400.0</td>\n",
       "      <td>55.0</td>\n",
       "      <td>Crimes against Public Order</td>\n",
       "      <td>6</td>\n",
       "      <td>0</td>\n",
       "      <td>10</td>\n",
       "      <td>6</td>\n",
       "      <td>2020</td>\n",
       "      <td>10</td>\n",
       "      <td>6</td>\n",
       "      <td>2020</td>\n",
       "    </tr>\n",
       "    <tr>\n",
       "      <th>19999</th>\n",
       "      <td>34.0037</td>\n",
       "      <td>-118.3034</td>\n",
       "      <td>3</td>\n",
       "      <td>397</td>\n",
       "      <td>1</td>\n",
       "      <td>Unknown</td>\n",
       "      <td>0</td>\n",
       "      <td>2.0</td>\n",
       "      <td>101</td>\n",
       "      <td>400.0</td>\n",
       "      <td>55.0</td>\n",
       "      <td>Property Crimes</td>\n",
       "      <td>18</td>\n",
       "      <td>0</td>\n",
       "      <td>17</td>\n",
       "      <td>2</td>\n",
       "      <td>2020</td>\n",
       "      <td>18</td>\n",
       "      <td>2</td>\n",
       "      <td>2020</td>\n",
       "    </tr>\n",
       "  </tbody>\n",
       "</table>\n",
       "</div>"
      ],
      "text/plain": [
       "       Latitude  Longitude  Area_ID  Reporting_District_no  Part 1-2  \\\n",
       "19995   34.0334  -118.3523        3                    303         2   \n",
       "19996   34.2212  -118.5011       10                   1008         1   \n",
       "19997   34.0571  -118.3815        8                    849         1   \n",
       "19998   33.7451  -118.2835        5                    558         2   \n",
       "19999   34.0037  -118.3034        3                    397         1   \n",
       "\n",
       "                      Modus_Operandi  Victim_Age  Victim_Sex  Premise_Code  \\\n",
       "19995            0416 0446 2004 0913          51         1.0           501   \n",
       "19996       1822 0209 0344 1414 1420           0         1.0           301   \n",
       "19997                 0344 1822 1420          42         1.0           102   \n",
       "19998  1202 2038 0913 0602 1242 0553          76         0.0           501   \n",
       "19999                        Unknown           0         2.0           101   \n",
       "\n",
       "       Weapon_Used_Code  Weapon_Description               Crime_Category  \\\n",
       "19995             400.0                47.0               Violent Crimes   \n",
       "19996             400.0                55.0              Property Crimes   \n",
       "19997             400.0                55.0              Property Crimes   \n",
       "19998             400.0                55.0  Crimes against Public Order   \n",
       "19999             400.0                55.0              Property Crimes   \n",
       "\n",
       "       Time_hours  Time_minutes  Day_Occurred  Month_Occurred  Year_Occurred  \\\n",
       "19995           7             0            24               5           2020   \n",
       "19996           2            59            25              12           2020   \n",
       "19997          14             0            25               9           2020   \n",
       "19998           6             0            10               6           2020   \n",
       "19999          18             0            17               2           2020   \n",
       "\n",
       "       Day_Reported  Month_Reported  Year_Reported  \n",
       "19995            24               5           2020  \n",
       "19996            25              12           2020  \n",
       "19997            25               9           2020  \n",
       "19998            10               6           2020  \n",
       "19999            18               2           2020  "
      ]
     },
     "execution_count": 66,
     "metadata": {},
     "output_type": "execute_result"
    }
   ],
   "source": [
    "train_df.tail()"
   ]
  },
  {
   "cell_type": "code",
   "execution_count": 67,
   "id": "728fcdf9",
   "metadata": {
    "execution": {
     "iopub.execute_input": "2024-08-09T17:59:04.443359Z",
     "iopub.status.busy": "2024-08-09T17:59:04.442912Z",
     "iopub.status.idle": "2024-08-09T17:59:04.457368Z",
     "shell.execute_reply": "2024-08-09T17:59:04.456168Z"
    },
    "papermill": {
     "duration": 0.087274,
     "end_time": "2024-08-09T17:59:04.460229",
     "exception": false,
     "start_time": "2024-08-09T17:59:04.372955",
     "status": "completed"
    },
    "tags": []
   },
   "outputs": [
    {
     "data": {
      "text/plain": [
       "Latitude                 0\n",
       "Longitude                0\n",
       "Area_ID                  0\n",
       "Reporting_District_no    0\n",
       "Part 1-2                 0\n",
       "Modus_Operandi           0\n",
       "Victim_Age               0\n",
       "Victim_Sex               0\n",
       "Premise_Code             0\n",
       "Weapon_Used_Code         0\n",
       "Weapon_Description       0\n",
       "Crime_Category           0\n",
       "Time_hours               0\n",
       "Time_minutes             0\n",
       "Day_Occurred             0\n",
       "Month_Occurred           0\n",
       "Year_Occurred            0\n",
       "Day_Reported             0\n",
       "Month_Reported           0\n",
       "Year_Reported            0\n",
       "dtype: int64"
      ]
     },
     "execution_count": 67,
     "metadata": {},
     "output_type": "execute_result"
    }
   ],
   "source": [
    "train_df.isna().sum()"
   ]
  },
  {
   "cell_type": "code",
   "execution_count": 68,
   "id": "5276dc88",
   "metadata": {
    "execution": {
     "iopub.execute_input": "2024-08-09T17:59:04.598855Z",
     "iopub.status.busy": "2024-08-09T17:59:04.598346Z",
     "iopub.status.idle": "2024-08-09T17:59:04.606240Z",
     "shell.execute_reply": "2024-08-09T17:59:04.605032Z"
    },
    "papermill": {
     "duration": 0.080111,
     "end_time": "2024-08-09T17:59:04.609009",
     "exception": false,
     "start_time": "2024-08-09T17:59:04.528898",
     "status": "completed"
    },
    "tags": []
   },
   "outputs": [
    {
     "data": {
      "text/plain": [
       "\"counts_train=train_df['Victim_Descent'].value_counts()\\nindex_train=counts_train[counts_train<1000].index\\n\\n\\ncounts_test=test_df['Victim_Descent'].value_counts()\\nindex_test=counts_test[counts_test<1000].index\\nindex_test\""
      ]
     },
     "execution_count": 68,
     "metadata": {},
     "output_type": "execute_result"
    }
   ],
   "source": [
    "'''counts_train=train_df['Victim_Descent'].value_counts()\n",
    "index_train=counts_train[counts_train<1000].index\n",
    "\n",
    "\n",
    "counts_test=test_df['Victim_Descent'].value_counts()\n",
    "index_test=counts_test[counts_test<1000].index\n",
    "index_test'''"
   ]
  },
  {
   "cell_type": "code",
   "execution_count": 69,
   "id": "49ada704",
   "metadata": {
    "execution": {
     "iopub.execute_input": "2024-08-09T17:59:04.749088Z",
     "iopub.status.busy": "2024-08-09T17:59:04.748639Z",
     "iopub.status.idle": "2024-08-09T17:59:04.753849Z",
     "shell.execute_reply": "2024-08-09T17:59:04.752524Z"
    },
    "papermill": {
     "duration": 0.079015,
     "end_time": "2024-08-09T17:59:04.756784",
     "exception": false,
     "start_time": "2024-08-09T17:59:04.677769",
     "status": "completed"
    },
    "tags": []
   },
   "outputs": [],
   "source": [
    "#train_df['Victim_Descent'].nunique()"
   ]
  },
  {
   "cell_type": "code",
   "execution_count": 70,
   "id": "7f97ab57",
   "metadata": {
    "execution": {
     "iopub.execute_input": "2024-08-09T17:59:04.896485Z",
     "iopub.status.busy": "2024-08-09T17:59:04.896062Z",
     "iopub.status.idle": "2024-08-09T17:59:04.903657Z",
     "shell.execute_reply": "2024-08-09T17:59:04.902343Z"
    },
    "papermill": {
     "duration": 0.080648,
     "end_time": "2024-08-09T17:59:04.906291",
     "exception": false,
     "start_time": "2024-08-09T17:59:04.825643",
     "status": "completed"
    },
    "tags": []
   },
   "outputs": [
    {
     "data": {
      "text/plain": [
       "\"train_df['Victim_Descent']=train_df['Victim_Descent'].replace(index_train,'Others')\\ntest_df['Victim_Descent']=test_df['Victim_Descent'].replace(index_test,'Others')\""
      ]
     },
     "execution_count": 70,
     "metadata": {},
     "output_type": "execute_result"
    }
   ],
   "source": [
    "'''train_df['Victim_Descent']=train_df['Victim_Descent'].replace(index_train,'Others')\n",
    "test_df['Victim_Descent']=test_df['Victim_Descent'].replace(index_test,'Others')'''"
   ]
  },
  {
   "cell_type": "code",
   "execution_count": 71,
   "id": "8b1d12a3",
   "metadata": {
    "execution": {
     "iopub.execute_input": "2024-08-09T17:59:05.045818Z",
     "iopub.status.busy": "2024-08-09T17:59:05.045341Z",
     "iopub.status.idle": "2024-08-09T17:59:05.050576Z",
     "shell.execute_reply": "2024-08-09T17:59:05.049189Z"
    },
    "papermill": {
     "duration": 0.077959,
     "end_time": "2024-08-09T17:59:05.053286",
     "exception": false,
     "start_time": "2024-08-09T17:59:04.975327",
     "status": "completed"
    },
    "tags": []
   },
   "outputs": [],
   "source": [
    "#test_df['Victim_Descent'].value_counts()"
   ]
  },
  {
   "cell_type": "code",
   "execution_count": 72,
   "id": "433c3c3b",
   "metadata": {
    "execution": {
     "iopub.execute_input": "2024-08-09T17:59:05.193556Z",
     "iopub.status.busy": "2024-08-09T17:59:05.193044Z",
     "iopub.status.idle": "2024-08-09T17:59:05.200805Z",
     "shell.execute_reply": "2024-08-09T17:59:05.199433Z"
    },
    "papermill": {
     "duration": 0.081275,
     "end_time": "2024-08-09T17:59:05.203390",
     "exception": false,
     "start_time": "2024-08-09T17:59:05.122115",
     "status": "completed"
    },
    "tags": []
   },
   "outputs": [
    {
     "data": {
      "text/plain": [
       "\"encoded_data2_train=ohe.fit_transform(train_df['Victim_Descent'].values.reshape(-1,1))\\nencoded_data2_test=ohe.fit_transform(test_df['Victim_Descent'].values.reshape(-1,1))\""
      ]
     },
     "execution_count": 72,
     "metadata": {},
     "output_type": "execute_result"
    }
   ],
   "source": [
    "'''encoded_data2_train=ohe.fit_transform(train_df['Victim_Descent'].values.reshape(-1,1))\n",
    "encoded_data2_test=ohe.fit_transform(test_df['Victim_Descent'].values.reshape(-1,1))'''"
   ]
  },
  {
   "cell_type": "code",
   "execution_count": 73,
   "id": "4b0956dd",
   "metadata": {
    "execution": {
     "iopub.execute_input": "2024-08-09T17:59:05.347886Z",
     "iopub.status.busy": "2024-08-09T17:59:05.347425Z",
     "iopub.status.idle": "2024-08-09T17:59:05.353150Z",
     "shell.execute_reply": "2024-08-09T17:59:05.351769Z"
    },
    "papermill": {
     "duration": 0.081749,
     "end_time": "2024-08-09T17:59:05.355797",
     "exception": false,
     "start_time": "2024-08-09T17:59:05.274048",
     "status": "completed"
    },
    "tags": []
   },
   "outputs": [],
   "source": [
    "from sklearn.preprocessing import OrdinalEncoder\n",
    "le=OrdinalEncoder()"
   ]
  },
  {
   "cell_type": "code",
   "execution_count": 74,
   "id": "3d23dbf5",
   "metadata": {
    "execution": {
     "iopub.execute_input": "2024-08-09T17:59:05.497616Z",
     "iopub.status.busy": "2024-08-09T17:59:05.497167Z",
     "iopub.status.idle": "2024-08-09T17:59:05.505184Z",
     "shell.execute_reply": "2024-08-09T17:59:05.503993Z"
    },
    "papermill": {
     "duration": 0.081508,
     "end_time": "2024-08-09T17:59:05.507772",
     "exception": false,
     "start_time": "2024-08-09T17:59:05.426264",
     "status": "completed"
    },
    "tags": []
   },
   "outputs": [
    {
     "data": {
      "text/plain": [
       "\"train_df['Descent_H']=encoded_data2_train[:,0]\\ntrain_df['Descent_O']=encoded_data2_train[:,1]\\ntrain_df['Descent_Oth']=encoded_data2_train[:,2]\\ntrain_df['Descent_W']=encoded_data2_train[:,3]\\ntrain_df['Descent_X']=encoded_data2_train[:,4]\\n\\n\\ntest_df['Descent_Oth']=encoded_data2_test[:,0]\\ntest_df['Descent_W']=encoded_data2_test[:,1]\""
      ]
     },
     "execution_count": 74,
     "metadata": {},
     "output_type": "execute_result"
    }
   ],
   "source": [
    "'''train_df['Descent_H']=encoded_data2_train[:,0]\n",
    "train_df['Descent_O']=encoded_data2_train[:,1]\n",
    "train_df['Descent_Oth']=encoded_data2_train[:,2]\n",
    "train_df['Descent_W']=encoded_data2_train[:,3]\n",
    "train_df['Descent_X']=encoded_data2_train[:,4]\n",
    "\n",
    "\n",
    "test_df['Descent_Oth']=encoded_data2_test[:,0]\n",
    "test_df['Descent_W']=encoded_data2_test[:,1]'''\n"
   ]
  },
  {
   "cell_type": "code",
   "execution_count": 75,
   "id": "6b3144af",
   "metadata": {
    "execution": {
     "iopub.execute_input": "2024-08-09T17:59:05.648997Z",
     "iopub.status.busy": "2024-08-09T17:59:05.648535Z",
     "iopub.status.idle": "2024-08-09T17:59:05.653529Z",
     "shell.execute_reply": "2024-08-09T17:59:05.652388Z"
    },
    "papermill": {
     "duration": 0.079609,
     "end_time": "2024-08-09T17:59:05.656206",
     "exception": false,
     "start_time": "2024-08-09T17:59:05.576597",
     "status": "completed"
    },
    "tags": []
   },
   "outputs": [],
   "source": [
    "#train_df['Victim_Descent_n']=le.fit_transform(train_df['Victim_Descent'].values.reshape(-1,1)).ravel()\n",
    "#test_df['Victim_Descent_n']=le.fit_transform(test_df['Victim_Descent'].values.reshape(-1,1)).ravel()"
   ]
  },
  {
   "cell_type": "code",
   "execution_count": 76,
   "id": "9a9d6581",
   "metadata": {
    "execution": {
     "iopub.execute_input": "2024-08-09T17:59:05.858890Z",
     "iopub.status.busy": "2024-08-09T17:59:05.858405Z",
     "iopub.status.idle": "2024-08-09T17:59:05.863999Z",
     "shell.execute_reply": "2024-08-09T17:59:05.862602Z"
    },
    "papermill": {
     "duration": 0.078433,
     "end_time": "2024-08-09T17:59:05.866807",
     "exception": false,
     "start_time": "2024-08-09T17:59:05.788374",
     "status": "completed"
    },
    "tags": []
   },
   "outputs": [],
   "source": [
    "#train_df.drop(columns=['Victim_Descent','Premise_Description'],inplace=True)\n",
    "#test_df.drop(columns=['Victim_Descent','Premise_Description'],inplace=True)\n"
   ]
  },
  {
   "cell_type": "code",
   "execution_count": 77,
   "id": "ae0823af",
   "metadata": {
    "execution": {
     "iopub.execute_input": "2024-08-09T17:59:06.007835Z",
     "iopub.status.busy": "2024-08-09T17:59:06.007369Z",
     "iopub.status.idle": "2024-08-09T17:59:06.013036Z",
     "shell.execute_reply": "2024-08-09T17:59:06.011789Z"
    },
    "papermill": {
     "duration": 0.079533,
     "end_time": "2024-08-09T17:59:06.015669",
     "exception": false,
     "start_time": "2024-08-09T17:59:05.936136",
     "status": "completed"
    },
    "tags": []
   },
   "outputs": [],
   "source": [
    "from sklearn.preprocessing import LabelEncoder\n",
    "le_label_encoder=LabelEncoder()"
   ]
  },
  {
   "cell_type": "code",
   "execution_count": 78,
   "id": "e082dcbf",
   "metadata": {
    "execution": {
     "iopub.execute_input": "2024-08-09T17:59:06.155321Z",
     "iopub.status.busy": "2024-08-09T17:59:06.154883Z",
     "iopub.status.idle": "2024-08-09T17:59:06.167782Z",
     "shell.execute_reply": "2024-08-09T17:59:06.166479Z"
    },
    "papermill": {
     "duration": 0.087312,
     "end_time": "2024-08-09T17:59:06.171869",
     "exception": false,
     "start_time": "2024-08-09T17:59:06.084557",
     "status": "completed"
    },
    "tags": []
   },
   "outputs": [],
   "source": [
    "train_df['Crime_Category']=le_label_encoder.fit_transform(train_df['Crime_Category'])"
   ]
  },
  {
   "cell_type": "code",
   "execution_count": 79,
   "id": "57d57896",
   "metadata": {
    "execution": {
     "iopub.execute_input": "2024-08-09T17:59:06.317851Z",
     "iopub.status.busy": "2024-08-09T17:59:06.316725Z",
     "iopub.status.idle": "2024-08-09T17:59:06.326102Z",
     "shell.execute_reply": "2024-08-09T17:59:06.324953Z"
    },
    "papermill": {
     "duration": 0.08536,
     "end_time": "2024-08-09T17:59:06.329326",
     "exception": false,
     "start_time": "2024-08-09T17:59:06.243966",
     "status": "completed"
    },
    "tags": []
   },
   "outputs": [
    {
     "data": {
      "text/plain": [
       "['le_label_encoder.pkl']"
      ]
     },
     "execution_count": 79,
     "metadata": {},
     "output_type": "execute_result"
    }
   ],
   "source": [
    "joblib.dump(le_label_encoder, 'le_label_encoder.pkl')"
   ]
  },
  {
   "cell_type": "code",
   "execution_count": 80,
   "id": "e76ddc2a",
   "metadata": {
    "execution": {
     "iopub.execute_input": "2024-08-09T17:59:06.469333Z",
     "iopub.status.busy": "2024-08-09T17:59:06.468905Z",
     "iopub.status.idle": "2024-08-09T17:59:06.477091Z",
     "shell.execute_reply": "2024-08-09T17:59:06.475415Z"
    },
    "papermill": {
     "duration": 0.082356,
     "end_time": "2024-08-09T17:59:06.480483",
     "exception": false,
     "start_time": "2024-08-09T17:59:06.398127",
     "status": "completed"
    },
    "tags": []
   },
   "outputs": [
    {
     "data": {
      "text/plain": [
       "\"counts_m_tr=train_df['Modus_Operandi'].value_counts()\\nn=counts_m_tr[counts_m_tr<100].index\\ntrain_df['Modus_Operandi']=train_df['Modus_Operandi'].replace(n,'Others')\""
      ]
     },
     "execution_count": 80,
     "metadata": {},
     "output_type": "execute_result"
    }
   ],
   "source": [
    "'''counts_m_tr=train_df['Modus_Operandi'].value_counts()\n",
    "n=counts_m_tr[counts_m_tr<100].index\n",
    "train_df['Modus_Operandi']=train_df['Modus_Operandi'].replace(n,'Others')'''"
   ]
  },
  {
   "cell_type": "code",
   "execution_count": 81,
   "id": "7cdf49f1",
   "metadata": {
    "execution": {
     "iopub.execute_input": "2024-08-09T17:59:06.625287Z",
     "iopub.status.busy": "2024-08-09T17:59:06.624852Z",
     "iopub.status.idle": "2024-08-09T17:59:06.632563Z",
     "shell.execute_reply": "2024-08-09T17:59:06.631164Z"
    },
    "papermill": {
     "duration": 0.082208,
     "end_time": "2024-08-09T17:59:06.635895",
     "exception": false,
     "start_time": "2024-08-09T17:59:06.553687",
     "status": "completed"
    },
    "tags": []
   },
   "outputs": [
    {
     "data": {
      "text/plain": [
       "\"'counts_m_te=test_df['Modus_Operandi'].value_counts()\\nn_te=counts_m_te[counts_m_te<100].index\\ntest_df['Modus_Operandi']=test_df['Modus_Operandi'].replace(n_te,'Others')\""
      ]
     },
     "execution_count": 81,
     "metadata": {},
     "output_type": "execute_result"
    }
   ],
   "source": [
    "''''counts_m_te=test_df['Modus_Operandi'].value_counts()\n",
    "n_te=counts_m_te[counts_m_te<100].index\n",
    "test_df['Modus_Operandi']=test_df['Modus_Operandi'].replace(n_te,'Others')'''"
   ]
  },
  {
   "cell_type": "code",
   "execution_count": 82,
   "id": "47673d84",
   "metadata": {
    "execution": {
     "iopub.execute_input": "2024-08-09T17:59:06.778024Z",
     "iopub.status.busy": "2024-08-09T17:59:06.777618Z",
     "iopub.status.idle": "2024-08-09T17:59:06.783100Z",
     "shell.execute_reply": "2024-08-09T17:59:06.781850Z"
    },
    "papermill": {
     "duration": 0.079387,
     "end_time": "2024-08-09T17:59:06.785984",
     "exception": false,
     "start_time": "2024-08-09T17:59:06.706597",
     "status": "completed"
    },
    "tags": []
   },
   "outputs": [],
   "source": [
    "from sklearn.preprocessing import LabelEncoder\n",
    "le=LabelEncoder()"
   ]
  },
  {
   "cell_type": "code",
   "execution_count": 83,
   "id": "95eec372",
   "metadata": {
    "execution": {
     "iopub.execute_input": "2024-08-09T17:59:06.930134Z",
     "iopub.status.busy": "2024-08-09T17:59:06.929092Z",
     "iopub.status.idle": "2024-08-09T17:59:06.934542Z",
     "shell.execute_reply": "2024-08-09T17:59:06.933268Z"
    },
    "papermill": {
     "duration": 0.080116,
     "end_time": "2024-08-09T17:59:06.937237",
     "exception": false,
     "start_time": "2024-08-09T17:59:06.857121",
     "status": "completed"
    },
    "tags": []
   },
   "outputs": [],
   "source": [
    "#train_df['Modus_Operandi_n']=le.fit_transform(train_df['Modus_Operandi'].values.reshape(-1,1)).ravel()\n",
    "#test_df['Modus_Operandi_n']=le.fit_transform(test_df['Modus_Operandi'].values.reshape(-1,1)).ravel()\n"
   ]
  },
  {
   "cell_type": "markdown",
   "id": "fca3246d",
   "metadata": {
    "papermill": {
     "duration": 0.069658,
     "end_time": "2024-08-09T17:59:07.076245",
     "exception": false,
     "start_time": "2024-08-09T17:59:07.006587",
     "status": "completed"
    },
    "tags": []
   },
   "source": [
    " ****Working with Modus operandi column****"
   ]
  },
  {
   "cell_type": "code",
   "execution_count": 84,
   "id": "05e33ad9",
   "metadata": {
    "execution": {
     "iopub.execute_input": "2024-08-09T17:59:07.218604Z",
     "iopub.status.busy": "2024-08-09T17:59:07.218173Z",
     "iopub.status.idle": "2024-08-09T18:00:17.021095Z",
     "shell.execute_reply": "2024-08-09T18:00:17.019597Z"
    },
    "papermill": {
     "duration": 69.87898,
     "end_time": "2024-08-09T18:00:17.024671",
     "exception": false,
     "start_time": "2024-08-09T17:59:07.145691",
     "status": "completed"
    },
    "tags": []
   },
   "outputs": [],
   "source": [
    "ml=[]\n",
    "for x in train_df['Modus_Operandi'].unique():\n",
    "         s=str(x).split(' ')\n",
    "         for n in s:\n",
    "                ml.append(n)\n",
    "                    \n",
    "nl=list(set(ml))\n",
    "datam=np.zeros(shape=(train_df.shape[0],len(nl)))\n",
    "condata=pd.DataFrame(datam,columns=nl,dtype='int8')\n",
    "train_df=pd.concat([train_df,condata],axis=1)\n",
    "\n",
    "for x in train_df['Modus_Operandi'].unique():\n",
    "                 ind = train_df.index[train_df['Modus_Operandi'] == x]  \n",
    "                 s=str(x).split(' ')\n",
    "                 for n in s:\n",
    "                        train_df.loc[ind,n]=1    \n",
    "    \n",
    "\n",
    "      "
   ]
  },
  {
   "cell_type": "code",
   "execution_count": 85,
   "id": "cb0c5477",
   "metadata": {
    "execution": {
     "iopub.execute_input": "2024-08-09T18:00:17.168128Z",
     "iopub.status.busy": "2024-08-09T18:00:17.167651Z",
     "iopub.status.idle": "2024-08-09T18:00:27.557679Z",
     "shell.execute_reply": "2024-08-09T18:00:27.556338Z"
    },
    "papermill": {
     "duration": 10.465,
     "end_time": "2024-08-09T18:00:27.560728",
     "exception": false,
     "start_time": "2024-08-09T18:00:17.095728",
     "status": "completed"
    },
    "tags": []
   },
   "outputs": [],
   "source": [
    "ml_te=[]\n",
    "for x in test_df['Modus_Operandi'].unique():\n",
    "         s=str(x).split(' ')\n",
    "         for n in s:\n",
    "                ml_te.append(n)\n",
    "                    \n",
    "nl=list(set(ml_te))\n",
    "datam=np.zeros(shape=(test_df.shape[0],len(nl)))\n",
    "condata=pd.DataFrame(datam,columns=nl,dtype='int8')\n",
    "test_df=pd.concat([test_df,condata],axis=1)\n",
    "\n",
    "for x in test_df['Modus_Operandi'].unique():\n",
    "                 ind = test_df.index[test_df['Modus_Operandi'] == x]  \n",
    "                 s=str(x).split(' ')\n",
    "                 for n in s:\n",
    "                        test_df.loc[ind,n]=1"
   ]
  },
  {
   "cell_type": "code",
   "execution_count": 86,
   "id": "ee8bd8e1",
   "metadata": {
    "execution": {
     "iopub.execute_input": "2024-08-09T18:00:27.705615Z",
     "iopub.status.busy": "2024-08-09T18:00:27.705120Z",
     "iopub.status.idle": "2024-08-09T18:00:27.713191Z",
     "shell.execute_reply": "2024-08-09T18:00:27.711973Z"
    },
    "papermill": {
     "duration": 0.082344,
     "end_time": "2024-08-09T18:00:27.716104",
     "exception": false,
     "start_time": "2024-08-09T18:00:27.633760",
     "status": "completed"
    },
    "tags": []
   },
   "outputs": [
    {
     "data": {
      "text/plain": [
       "\"from sklearn.preprocessing import MultiLabelBinarizer\\ncv=MultiLabelBinarizer()\\nmotr=train_df[['Modus_Operandi']]\\nmotest=test_df[['Modus_Operandi']]\\nmo=cv.fit_transform(motr['Modus_Operandi'])\\nmodus_df=pd.DataFrame(mo)\\nmo_te=cv.fit_transform(motest['Modus_Operandi'])\\nmodus_dfte=pd.DataFrame(mo_te)\""
      ]
     },
     "execution_count": 86,
     "metadata": {},
     "output_type": "execute_result"
    }
   ],
   "source": [
    "#from sklearn.feature_extraction.text import TfidfVectorizer\n",
    "#cv=TfidfVectorizer()\n",
    "'''from sklearn.preprocessing import MultiLabelBinarizer\n",
    "cv=MultiLabelBinarizer()\n",
    "motr=train_df[['Modus_Operandi']]\n",
    "motest=test_df[['Modus_Operandi']]\n",
    "mo=cv.fit_transform(motr['Modus_Operandi'])\n",
    "modus_df=pd.DataFrame(mo)\n",
    "mo_te=cv.fit_transform(motest['Modus_Operandi'])\n",
    "modus_dfte=pd.DataFrame(mo_te)'''\n"
   ]
  },
  {
   "cell_type": "code",
   "execution_count": 87,
   "id": "e4c93770",
   "metadata": {
    "execution": {
     "iopub.execute_input": "2024-08-09T18:00:27.857566Z",
     "iopub.status.busy": "2024-08-09T18:00:27.857138Z",
     "iopub.status.idle": "2024-08-09T18:00:27.862437Z",
     "shell.execute_reply": "2024-08-09T18:00:27.861219Z"
    },
    "papermill": {
     "duration": 0.07834,
     "end_time": "2024-08-09T18:00:27.864992",
     "exception": false,
     "start_time": "2024-08-09T18:00:27.786652",
     "status": "completed"
    },
    "tags": []
   },
   "outputs": [],
   "source": [
    "#train_df=pd.concat([train_df,modus_df],axis=1)\n",
    "#test_df=pd.concat([test_df,modus_dfte],axis=1)"
   ]
  },
  {
   "cell_type": "code",
   "execution_count": 88,
   "id": "821bf09b",
   "metadata": {
    "execution": {
     "iopub.execute_input": "2024-08-09T18:00:28.006599Z",
     "iopub.status.busy": "2024-08-09T18:00:28.006173Z",
     "iopub.status.idle": "2024-08-09T18:00:28.020877Z",
     "shell.execute_reply": "2024-08-09T18:00:28.019590Z"
    },
    "papermill": {
     "duration": 0.08946,
     "end_time": "2024-08-09T18:00:28.024332",
     "exception": false,
     "start_time": "2024-08-09T18:00:27.934872",
     "status": "completed"
    },
    "tags": []
   },
   "outputs": [],
   "source": [
    "train_df.drop(columns=['Modus_Operandi'],inplace=True)\n",
    "test_df.drop(columns=['Modus_Operandi'],inplace=True)"
   ]
  },
  {
   "cell_type": "code",
   "execution_count": 89,
   "id": "525cbbb0",
   "metadata": {
    "execution": {
     "iopub.execute_input": "2024-08-09T18:00:28.165891Z",
     "iopub.status.busy": "2024-08-09T18:00:28.165446Z",
     "iopub.status.idle": "2024-08-09T18:00:28.200279Z",
     "shell.execute_reply": "2024-08-09T18:00:28.198793Z"
    },
    "papermill": {
     "duration": 0.108846,
     "end_time": "2024-08-09T18:00:28.203069",
     "exception": false,
     "start_time": "2024-08-09T18:00:28.094223",
     "status": "completed"
    },
    "tags": []
   },
   "outputs": [
    {
     "data": {
      "text/html": [
       "<div>\n",
       "<style scoped>\n",
       "    .dataframe tbody tr th:only-of-type {\n",
       "        vertical-align: middle;\n",
       "    }\n",
       "\n",
       "    .dataframe tbody tr th {\n",
       "        vertical-align: top;\n",
       "    }\n",
       "\n",
       "    .dataframe thead th {\n",
       "        text-align: right;\n",
       "    }\n",
       "</style>\n",
       "<table border=\"1\" class=\"dataframe\">\n",
       "  <thead>\n",
       "    <tr style=\"text-align: right;\">\n",
       "      <th></th>\n",
       "      <th>Latitude</th>\n",
       "      <th>Longitude</th>\n",
       "      <th>Area_ID</th>\n",
       "      <th>Reporting_District_no</th>\n",
       "      <th>Part 1-2</th>\n",
       "      <th>Victim_Age</th>\n",
       "      <th>Victim_Sex</th>\n",
       "      <th>Premise_Code</th>\n",
       "      <th>Weapon_Used_Code</th>\n",
       "      <th>Weapon_Description</th>\n",
       "      <th>Crime_Category</th>\n",
       "      <th>Time_hours</th>\n",
       "      <th>Time_minutes</th>\n",
       "      <th>Day_Occurred</th>\n",
       "      <th>Month_Occurred</th>\n",
       "      <th>Year_Occurred</th>\n",
       "      <th>Day_Reported</th>\n",
       "      <th>Month_Reported</th>\n",
       "      <th>Year_Reported</th>\n",
       "      <th>1229</th>\n",
       "      <th>...</th>\n",
       "      <th>3003</th>\n",
       "      <th>1602</th>\n",
       "      <th>2108</th>\n",
       "      <th>1607</th>\n",
       "      <th>2047</th>\n",
       "      <th>1522</th>\n",
       "      <th>0410</th>\n",
       "      <th>0121</th>\n",
       "      <th>0902</th>\n",
       "      <th>0419</th>\n",
       "      <th>1238</th>\n",
       "      <th>1414</th>\n",
       "      <th>0604</th>\n",
       "      <th>0304</th>\n",
       "      <th>0538</th>\n",
       "      <th>0944</th>\n",
       "      <th>0853</th>\n",
       "      <th>0402</th>\n",
       "      <th>1303</th>\n",
       "      <th>2104</th>\n",
       "    </tr>\n",
       "  </thead>\n",
       "  <tbody>\n",
       "    <tr>\n",
       "      <th>0</th>\n",
       "      <td>34.1522</td>\n",
       "      <td>-118.3910</td>\n",
       "      <td>15</td>\n",
       "      <td>1563</td>\n",
       "      <td>1</td>\n",
       "      <td>75</td>\n",
       "      <td>1.0</td>\n",
       "      <td>101</td>\n",
       "      <td>400.0</td>\n",
       "      <td>55.0</td>\n",
       "      <td>4</td>\n",
       "      <td>18</td>\n",
       "      <td>0</td>\n",
       "      <td>6</td>\n",
       "      <td>3</td>\n",
       "      <td>2020</td>\n",
       "      <td>9</td>\n",
       "      <td>3</td>\n",
       "      <td>2020</td>\n",
       "      <td>0</td>\n",
       "      <td>...</td>\n",
       "      <td>0</td>\n",
       "      <td>0</td>\n",
       "      <td>0</td>\n",
       "      <td>0</td>\n",
       "      <td>0</td>\n",
       "      <td>0</td>\n",
       "      <td>0</td>\n",
       "      <td>0</td>\n",
       "      <td>0</td>\n",
       "      <td>0</td>\n",
       "      <td>0</td>\n",
       "      <td>0</td>\n",
       "      <td>0</td>\n",
       "      <td>0</td>\n",
       "      <td>0</td>\n",
       "      <td>0</td>\n",
       "      <td>0</td>\n",
       "      <td>0</td>\n",
       "      <td>0</td>\n",
       "      <td>0</td>\n",
       "    </tr>\n",
       "    <tr>\n",
       "      <th>1</th>\n",
       "      <td>34.0028</td>\n",
       "      <td>-118.2391</td>\n",
       "      <td>13</td>\n",
       "      <td>1367</td>\n",
       "      <td>1</td>\n",
       "      <td>41</td>\n",
       "      <td>1.0</td>\n",
       "      <td>216</td>\n",
       "      <td>400.0</td>\n",
       "      <td>47.0</td>\n",
       "      <td>4</td>\n",
       "      <td>13</td>\n",
       "      <td>45</td>\n",
       "      <td>27</td>\n",
       "      <td>2</td>\n",
       "      <td>2020</td>\n",
       "      <td>27</td>\n",
       "      <td>2</td>\n",
       "      <td>2020</td>\n",
       "      <td>0</td>\n",
       "      <td>...</td>\n",
       "      <td>0</td>\n",
       "      <td>0</td>\n",
       "      <td>0</td>\n",
       "      <td>0</td>\n",
       "      <td>0</td>\n",
       "      <td>0</td>\n",
       "      <td>0</td>\n",
       "      <td>0</td>\n",
       "      <td>0</td>\n",
       "      <td>0</td>\n",
       "      <td>0</td>\n",
       "      <td>0</td>\n",
       "      <td>0</td>\n",
       "      <td>0</td>\n",
       "      <td>0</td>\n",
       "      <td>0</td>\n",
       "      <td>0</td>\n",
       "      <td>0</td>\n",
       "      <td>0</td>\n",
       "      <td>0</td>\n",
       "    </tr>\n",
       "    <tr>\n",
       "      <th>2</th>\n",
       "      <td>34.0111</td>\n",
       "      <td>-118.2653</td>\n",
       "      <td>13</td>\n",
       "      <td>1343</td>\n",
       "      <td>2</td>\n",
       "      <td>67</td>\n",
       "      <td>1.0</td>\n",
       "      <td>501</td>\n",
       "      <td>400.0</td>\n",
       "      <td>55.0</td>\n",
       "      <td>4</td>\n",
       "      <td>6</td>\n",
       "      <td>5</td>\n",
       "      <td>21</td>\n",
       "      <td>8</td>\n",
       "      <td>2020</td>\n",
       "      <td>21</td>\n",
       "      <td>8</td>\n",
       "      <td>2020</td>\n",
       "      <td>0</td>\n",
       "      <td>...</td>\n",
       "      <td>0</td>\n",
       "      <td>0</td>\n",
       "      <td>0</td>\n",
       "      <td>0</td>\n",
       "      <td>0</td>\n",
       "      <td>0</td>\n",
       "      <td>0</td>\n",
       "      <td>0</td>\n",
       "      <td>0</td>\n",
       "      <td>0</td>\n",
       "      <td>0</td>\n",
       "      <td>0</td>\n",
       "      <td>0</td>\n",
       "      <td>0</td>\n",
       "      <td>0</td>\n",
       "      <td>0</td>\n",
       "      <td>0</td>\n",
       "      <td>0</td>\n",
       "      <td>0</td>\n",
       "      <td>0</td>\n",
       "    </tr>\n",
       "    <tr>\n",
       "      <th>3</th>\n",
       "      <td>34.2953</td>\n",
       "      <td>-118.4590</td>\n",
       "      <td>19</td>\n",
       "      <td>1924</td>\n",
       "      <td>1</td>\n",
       "      <td>61</td>\n",
       "      <td>1.0</td>\n",
       "      <td>101</td>\n",
       "      <td>400.0</td>\n",
       "      <td>55.0</td>\n",
       "      <td>4</td>\n",
       "      <td>18</td>\n",
       "      <td>0</td>\n",
       "      <td>6</td>\n",
       "      <td>11</td>\n",
       "      <td>2020</td>\n",
       "      <td>8</td>\n",
       "      <td>11</td>\n",
       "      <td>2020</td>\n",
       "      <td>0</td>\n",
       "      <td>...</td>\n",
       "      <td>0</td>\n",
       "      <td>0</td>\n",
       "      <td>0</td>\n",
       "      <td>0</td>\n",
       "      <td>0</td>\n",
       "      <td>0</td>\n",
       "      <td>0</td>\n",
       "      <td>0</td>\n",
       "      <td>0</td>\n",
       "      <td>0</td>\n",
       "      <td>0</td>\n",
       "      <td>0</td>\n",
       "      <td>0</td>\n",
       "      <td>0</td>\n",
       "      <td>0</td>\n",
       "      <td>0</td>\n",
       "      <td>0</td>\n",
       "      <td>0</td>\n",
       "      <td>0</td>\n",
       "      <td>0</td>\n",
       "    </tr>\n",
       "    <tr>\n",
       "      <th>4</th>\n",
       "      <td>33.9787</td>\n",
       "      <td>-118.2918</td>\n",
       "      <td>12</td>\n",
       "      <td>1245</td>\n",
       "      <td>1</td>\n",
       "      <td>0</td>\n",
       "      <td>2.0</td>\n",
       "      <td>401</td>\n",
       "      <td>400.0</td>\n",
       "      <td>47.0</td>\n",
       "      <td>4</td>\n",
       "      <td>11</td>\n",
       "      <td>30</td>\n",
       "      <td>25</td>\n",
       "      <td>2</td>\n",
       "      <td>2020</td>\n",
       "      <td>25</td>\n",
       "      <td>2</td>\n",
       "      <td>2020</td>\n",
       "      <td>0</td>\n",
       "      <td>...</td>\n",
       "      <td>0</td>\n",
       "      <td>0</td>\n",
       "      <td>0</td>\n",
       "      <td>0</td>\n",
       "      <td>0</td>\n",
       "      <td>0</td>\n",
       "      <td>0</td>\n",
       "      <td>0</td>\n",
       "      <td>0</td>\n",
       "      <td>0</td>\n",
       "      <td>0</td>\n",
       "      <td>0</td>\n",
       "      <td>0</td>\n",
       "      <td>0</td>\n",
       "      <td>0</td>\n",
       "      <td>0</td>\n",
       "      <td>0</td>\n",
       "      <td>0</td>\n",
       "      <td>0</td>\n",
       "      <td>0</td>\n",
       "    </tr>\n",
       "  </tbody>\n",
       "</table>\n",
       "<p>5 rows × 501 columns</p>\n",
       "</div>"
      ],
      "text/plain": [
       "   Latitude  Longitude  Area_ID  Reporting_District_no  Part 1-2  Victim_Age  \\\n",
       "0   34.1522  -118.3910       15                   1563         1          75   \n",
       "1   34.0028  -118.2391       13                   1367         1          41   \n",
       "2   34.0111  -118.2653       13                   1343         2          67   \n",
       "3   34.2953  -118.4590       19                   1924         1          61   \n",
       "4   33.9787  -118.2918       12                   1245         1           0   \n",
       "\n",
       "   Victim_Sex  Premise_Code  Weapon_Used_Code  Weapon_Description  \\\n",
       "0         1.0           101             400.0                55.0   \n",
       "1         1.0           216             400.0                47.0   \n",
       "2         1.0           501             400.0                55.0   \n",
       "3         1.0           101             400.0                55.0   \n",
       "4         2.0           401             400.0                47.0   \n",
       "\n",
       "   Crime_Category  Time_hours  Time_minutes  Day_Occurred  Month_Occurred  \\\n",
       "0               4          18             0             6               3   \n",
       "1               4          13            45            27               2   \n",
       "2               4           6             5            21               8   \n",
       "3               4          18             0             6              11   \n",
       "4               4          11            30            25               2   \n",
       "\n",
       "   Year_Occurred  Day_Reported  Month_Reported  Year_Reported  1229  ...  \\\n",
       "0           2020             9               3           2020     0  ...   \n",
       "1           2020            27               2           2020     0  ...   \n",
       "2           2020            21               8           2020     0  ...   \n",
       "3           2020             8              11           2020     0  ...   \n",
       "4           2020            25               2           2020     0  ...   \n",
       "\n",
       "   3003  1602  2108  1607  2047  1522  0410  0121  0902  0419  1238  1414  \\\n",
       "0     0     0     0     0     0     0     0     0     0     0     0     0   \n",
       "1     0     0     0     0     0     0     0     0     0     0     0     0   \n",
       "2     0     0     0     0     0     0     0     0     0     0     0     0   \n",
       "3     0     0     0     0     0     0     0     0     0     0     0     0   \n",
       "4     0     0     0     0     0     0     0     0     0     0     0     0   \n",
       "\n",
       "   0604  0304  0538  0944  0853  0402  1303  2104  \n",
       "0     0     0     0     0     0     0     0     0  \n",
       "1     0     0     0     0     0     0     0     0  \n",
       "2     0     0     0     0     0     0     0     0  \n",
       "3     0     0     0     0     0     0     0     0  \n",
       "4     0     0     0     0     0     0     0     0  \n",
       "\n",
       "[5 rows x 501 columns]"
      ]
     },
     "execution_count": 89,
     "metadata": {},
     "output_type": "execute_result"
    }
   ],
   "source": [
    "train_df.head()"
   ]
  },
  {
   "cell_type": "code",
   "execution_count": 90,
   "id": "4da7953c",
   "metadata": {
    "execution": {
     "iopub.execute_input": "2024-08-09T18:00:28.348710Z",
     "iopub.status.busy": "2024-08-09T18:00:28.348134Z",
     "iopub.status.idle": "2024-08-09T18:00:28.354202Z",
     "shell.execute_reply": "2024-08-09T18:00:28.352989Z"
    },
    "papermill": {
     "duration": 0.081469,
     "end_time": "2024-08-09T18:00:28.356849",
     "exception": false,
     "start_time": "2024-08-09T18:00:28.275380",
     "status": "completed"
    },
    "tags": []
   },
   "outputs": [],
   "source": [
    "pd.set_option('display.max_columns',1000)\n",
    "pd.set_option('display.max_rows',1000)"
   ]
  },
  {
   "cell_type": "markdown",
   "id": "d8dd673b",
   "metadata": {
    "papermill": {
     "duration": 0.072125,
     "end_time": "2024-08-09T18:00:28.499915",
     "exception": false,
     "start_time": "2024-08-09T18:00:28.427790",
     "status": "completed"
    },
    "tags": []
   },
   "source": [
    "****Outlier Removal****"
   ]
  },
  {
   "cell_type": "code",
   "execution_count": 91,
   "id": "d6ca031e",
   "metadata": {
    "execution": {
     "iopub.execute_input": "2024-08-09T18:00:28.648772Z",
     "iopub.status.busy": "2024-08-09T18:00:28.647529Z",
     "iopub.status.idle": "2024-08-09T18:00:28.659898Z",
     "shell.execute_reply": "2024-08-09T18:00:28.658558Z"
    },
    "papermill": {
     "duration": 0.090955,
     "end_time": "2024-08-09T18:00:28.662889",
     "exception": false,
     "start_time": "2024-08-09T18:00:28.571934",
     "status": "completed"
    },
    "tags": []
   },
   "outputs": [],
   "source": [
    "q1=train_df['Victim_Age'].quantile(0.25)\n",
    "q3=train_df['Victim_Age'].quantile(0.75)\n",
    "iqr=q3-q1\n",
    "upper_limit=q3+1.5*iqr\n",
    "lower_limit=q1-1.5*iqr\n",
    "train_df['Victim_Age']=np.where(train_df['Victim_Age']>upper_limit,upper_limit,np.where(train_df['Victim_Age']<lower_limit,lower_limit,train_df['Victim_Age']))\n"
   ]
  },
  {
   "cell_type": "code",
   "execution_count": 92,
   "id": "e2ce1992",
   "metadata": {
    "execution": {
     "iopub.execute_input": "2024-08-09T18:00:28.808575Z",
     "iopub.status.busy": "2024-08-09T18:00:28.808126Z",
     "iopub.status.idle": "2024-08-09T18:00:28.819804Z",
     "shell.execute_reply": "2024-08-09T18:00:28.818488Z"
    },
    "papermill": {
     "duration": 0.086729,
     "end_time": "2024-08-09T18:00:28.822597",
     "exception": false,
     "start_time": "2024-08-09T18:00:28.735868",
     "status": "completed"
    },
    "tags": []
   },
   "outputs": [],
   "source": [
    "q1=test_df['Victim_Age'].quantile(0.25)\n",
    "q3=test_df['Victim_Age'].quantile(0.75)\n",
    "iqr=q3-q1\n",
    "upper_limit=q3+1.5*iqr\n",
    "lower_limit=q1-1.5*iqr\n",
    "test_df['Victim_Age']=np.where(test_df['Victim_Age']>upper_limit,upper_limit,np.where(test_df['Victim_Age']<lower_limit,lower_limit,test_df['Victim_Age']))\n"
   ]
  },
  {
   "cell_type": "code",
   "execution_count": 93,
   "id": "fb3f649b",
   "metadata": {
    "execution": {
     "iopub.execute_input": "2024-08-09T18:00:28.967153Z",
     "iopub.status.busy": "2024-08-09T18:00:28.966745Z",
     "iopub.status.idle": "2024-08-09T18:00:28.996655Z",
     "shell.execute_reply": "2024-08-09T18:00:28.995305Z"
    },
    "papermill": {
     "duration": 0.106029,
     "end_time": "2024-08-09T18:00:28.999905",
     "exception": false,
     "start_time": "2024-08-09T18:00:28.893876",
     "status": "completed"
    },
    "tags": []
   },
   "outputs": [
    {
     "data": {
      "text/plain": [
       "Latitude                 0\n",
       "Longitude                0\n",
       "Area_ID                  0\n",
       "Reporting_District_no    0\n",
       "Part 1-2                 0\n",
       "Victim_Age               0\n",
       "Victim_Sex               0\n",
       "Premise_Code             0\n",
       "Weapon_Used_Code         0\n",
       "Weapon_Description       0\n",
       "Crime_Category           0\n",
       "Time_hours               0\n",
       "Time_minutes             0\n",
       "Day_Occurred             0\n",
       "Month_Occurred           0\n",
       "Year_Occurred            0\n",
       "Day_Reported             0\n",
       "Month_Reported           0\n",
       "Year_Reported            0\n",
       "1229                     0\n",
       "1022                     0\n",
       "0550                     0\n",
       "1913                     0\n",
       "1824                     0\n",
       "2020                     0\n",
       "2042                     0\n",
       "2051                     0\n",
       "1204                     0\n",
       "1026                     0\n",
       "0414                     0\n",
       "1275                     0\n",
       "0528                     0\n",
       "1311                     0\n",
       "0322                     0\n",
       "0105                     0\n",
       "0907                     0\n",
       "1218                     0\n",
       "0366                     0\n",
       "0434                     0\n",
       "1903                     0\n",
       "1821                     0\n",
       "0210                     0\n",
       "0407                     0\n",
       "1100                     0\n",
       "0326                     0\n",
       "2035                     0\n",
       "2007                     0\n",
       "1814                     0\n",
       "1260                     0\n",
       "0335                     0\n",
       "0383                     0\n",
       "0933                     0\n",
       "0417                     0\n",
       "2053                     0\n",
       "0603                     0\n",
       "0601                     0\n",
       "1510                     0\n",
       "2046                     0\n",
       "1900                     0\n",
       "2004                     0\n",
       "0947                     0\n",
       "0115                     0\n",
       "2201                     0\n",
       "0374                     0\n",
       "1307                     0\n",
       "1012                     0\n",
       "1910                     0\n",
       "2056                     0\n",
       "0324                     0\n",
       "1538                     0\n",
       "1224                     0\n",
       "1203                     0\n",
       "1305                     0\n",
       "1420                     0\n",
       "0206                     0\n",
       "0602                     0\n",
       "0316                     0\n",
       "0398                     0\n",
       "2025                     0\n",
       "0545                     0\n",
       "0448                     0\n",
       "0935                     0\n",
       "0421                     0\n",
       "1258                     0\n",
       "0323                     0\n",
       "1801                     0\n",
       "1409                     0\n",
       "0501                     0\n",
       "0343                     0\n",
       "1300                     0\n",
       "0365                     0\n",
       "0424                     0\n",
       "0425                     0\n",
       "0345                     0\n",
       "0344                     0\n",
       "0422                     0\n",
       "0927                     0\n",
       "1312                     0\n",
       "2027                     0\n",
       "0547                     0\n",
       "2033                     0\n",
       "0396                     0\n",
       "1261                     0\n",
       "0355                     0\n",
       "0303                     0\n",
       "1241                     0\n",
       "0387                     0\n",
       "1245                     0\n",
       "1028                     0\n",
       "1811                     0\n",
       "1419                     0\n",
       "2002                     0\n",
       "0375                     0\n",
       "0508                     0\n",
       "1215                     0\n",
       "0397                     0\n",
       "1202                     0\n",
       "1416                     0\n",
       "0429                     0\n",
       "2055                     0\n",
       "0443                     0\n",
       "0426                     0\n",
       "0359                     0\n",
       "0447                     0\n",
       "1281                     0\n",
       "1513                     0\n",
       "2052                     0\n",
       "0557                     0\n",
       "2028                     0\n",
       "1501                     0\n",
       "0207                     0\n",
       "0358                     0\n",
       "0440                     0\n",
       "0305                     0\n",
       "0349                     0\n",
       "0926                     0\n",
       "0516                     0\n",
       "0930                     0\n",
       "1415                     0\n",
       "0113                     0\n",
       "1902                     0\n",
       "1248                     0\n",
       "0332                     0\n",
       "0859                     0\n",
       "0551                     0\n",
       "1225                     0\n",
       "0923                     0\n",
       "1232                     0\n",
       "2058                     0\n",
       "1253                     0\n",
       "0942                     0\n",
       "0311                     0\n",
       "1915                     0\n",
       "0399                     0\n",
       "0525                     0\n",
       "0420                     0\n",
       "1236                     0\n",
       "1536                     0\n",
       "1270                     0\n",
       "3004                     0\n",
       "0377                     0\n",
       "1802                     0\n",
       "0341                     0\n",
       "0855                     0\n",
       "1211                     0\n",
       "1803                     0\n",
       "0217                     0\n",
       "0388                     0\n",
       "0924                     0\n",
       "0409                     0\n",
       "1405                     0\n",
       "1230                     0\n",
       "2021                     0\n",
       "1237                     0\n",
       "1213                     0\n",
       "0559                     0\n",
       "1271                     0\n",
       "0201                     0\n",
       "0510                     0\n",
       "1819                     0\n",
       "1315                     0\n",
       "1221                     0\n",
       "0363                     0\n",
       "0370                     0\n",
       "0542                     0\n",
       "0336                     0\n",
       "1402                     0\n",
       "1914                     0\n",
       "1252                     0\n",
       "0346                     0\n",
       "0327                     0\n",
       "1257                     0\n",
       "1008                     0\n",
       "1407                     0\n",
       "0534                     0\n",
       "0354                     0\n",
       "0378                     0\n",
       "1313                     0\n",
       "1227                     0\n",
       "1608                     0\n",
       "2303                     0\n",
       "0858                     0\n",
       "0513                     0\n",
       "2032                     0\n",
       "0416                     0\n",
       "0386                     0\n",
       "0505                     0\n",
       "0515                     0\n",
       "0925                     0\n",
       "1906                     0\n",
       "2157                     0\n",
       "0940                     0\n",
       "1609                     0\n",
       "2050                     0\n",
       "1512                     0\n",
       "1912                     0\n",
       "1233                     0\n",
       "1606                     0\n",
       "0368                     0\n",
       "1205                     0\n",
       "0922                     0\n",
       "0104                     0\n",
       "2013                     0\n",
       "0307                     0\n",
       "0507                     0\n",
       "1223                     0\n",
       "1612                     0\n",
       "1214                     0\n",
       "0554                     0\n",
       "1805                     0\n",
       "0340                     0\n",
       "0329                     0\n",
       "0337                     0\n",
       "1531                     0\n",
       "0556                     0\n",
       "1017                     0\n",
       "0389                     0\n",
       "0328                     0\n",
       "1404                     0\n",
       "0432                     0\n",
       "0946                     0\n",
       "1820                     0\n",
       "0380                     0\n",
       "1916                     0\n",
       "1239                     0\n",
       "0519                     0\n",
       "1701                     0\n",
       "0915                     0\n",
       "1514                     0\n",
       "2023                     0\n",
       "1000                     0\n",
       "1210                     0\n",
       "0100                     0\n",
       "0851                     0\n",
       "1306                     0\n",
       "0302                     0\n",
       "0929                     0\n",
       "2018                     0\n",
       "0319                     0\n",
       "1610                     0\n",
       "0309                     0\n",
       "2022                     0\n",
       "0552                     0\n",
       "0543                     0\n",
       "0385                     0\n",
       "0372                     0\n",
       "0526                     0\n",
       "2014                     0\n",
       "0394                     0\n",
       "2048                     0\n",
       "0450                     0\n",
       "0369                     0\n",
       "1804                     0\n",
       "0213                     0\n",
       "Unknown                  0\n",
       "2034                     0\n",
       "1519                     0\n",
       "2005                     0\n",
       "2060                     0\n",
       "0444                     0\n",
       "1901                     0\n",
       "1301                     0\n",
       "1274                     0\n",
       "0431                     0\n",
       "0437                     0\n",
       "0209                     0\n",
       "1308                     0\n",
       "0442                     0\n",
       "0917                     0\n",
       "0321                     0\n",
       "1267                     0\n",
       "0503                     0\n",
       "1276                     0\n",
       "1020                     0\n",
       "0938                     0\n",
       "4025                     0\n",
       "0350                     0\n",
       "0379                     0\n",
       "0911                     0\n",
       "2040                     0\n",
       "0561                     0\n",
       "0913                     0\n",
       "1302                     0\n",
       "0856                     0\n",
       "0200                     0\n",
       "2031                     0\n",
       "0562                     0\n",
       "0347                     0\n",
       "1516                     0\n",
       "1310                     0\n",
       "1408                     0\n",
       "0110                     0\n",
       "1212                     0\n",
       "0928                     0\n",
       "1810                     0\n",
       "0390                     0\n",
       "1277                     0\n",
       "0301                     0\n",
       "1006                     0\n",
       "0325                     0\n",
       "1222                     0\n",
       "2011                     0\n",
       "0701                     0\n",
       "0512                     0\n",
       "0315                     0\n",
       "0433                     0\n",
       "0509                     0\n",
       "1817                     0\n",
       "0330                     0\n",
       "1256                     0\n",
       "0533                     0\n",
       "1206                     0\n",
       "0384                     0\n",
       "0353                     0\n",
       "2006                     0\n",
       "0400                     0\n",
       "1815                     0\n",
       "0532                     0\n",
       "0338                     0\n",
       "1240                     0\n",
       "0910                     0\n",
       "2009                     0\n",
       "0310                     0\n",
       "0314                     0\n",
       "1304                     0\n",
       "1243                     0\n",
       "0308                     0\n",
       "2037                     0\n",
       "0531                     0\n",
       "1318                     0\n",
       "0908                     0\n",
       "0850                     0\n",
       "2030                     0\n",
       "1316                     0\n",
       "0520                     0\n",
       "2041                     0\n",
       "0381                     0\n",
       "0362                     0\n",
       "1411                     0\n",
       "0356                     0\n",
       "1406                     0\n",
       "0312                     0\n",
       "0527                     0\n",
       "0220                     0\n",
       "0536                     0\n",
       "0555                     0\n",
       "1265                     0\n",
       "0342                     0\n",
       "1309                     0\n",
       "0413                     0\n",
       "0445                     0\n",
       "0931                     0\n",
       "0351                     0\n",
       "1410                     0\n",
       "0395                     0\n",
       "0549                     0\n",
       "0401                     0\n",
       "1520                     0\n",
       "0120                     0\n",
       "1809                     0\n",
       "1818                     0\n",
       "0522                     0\n",
       "1279                     0\n",
       "0430                     0\n",
       "0605                     0\n",
       "0449                     0\n",
       "1262                     0\n",
       "0537                     0\n",
       "0912                     0\n",
       "0212                     0\n",
       "0405                     0\n",
       "2001                     0\n",
       "0945                     0\n",
       "0514                     0\n",
       "2019                     0\n",
       "1021                     0\n",
       "2045                     0\n",
       "0360                     0\n",
       "1908                     0\n",
       "0500                     0\n",
       "0857                     0\n",
       "1219                     0\n",
       "1604                     0\n",
       "0371                     0\n",
       "1013                     0\n",
       "0529                     0\n",
       "0202                     0\n",
       "0914                     0\n",
       "1018                     0\n",
       "0117                     0\n",
       "1813                     0\n",
       "0446                     0\n",
       "2049                     0\n",
       "1816                     0\n",
       "0411                     0\n",
       "0211                     0\n",
       "1403                     0\n",
       "0544                     0\n",
       "2126                     0\n",
       "2000                     0\n",
       "1273                     0\n",
       "2304                     0\n",
       "2204                     0\n",
       "1401                     0\n",
       "0352                     0\n",
       "0541                     0\n",
       "0906                     0\n",
       "2059                     0\n",
       "1807                     0\n",
       "0418                     0\n",
       "0112                     0\n",
       "0916                     0\n",
       "1009                     0\n",
       "1823                     0\n",
       "0334                     0\n",
       "0373                     0\n",
       "1605                     0\n",
       "0558                     0\n",
       "0404                     0\n",
       "0451                     0\n",
       "1278                     0\n",
       "0903                     0\n",
       "1528                     0\n",
       "2054                     0\n",
       "0216                     0\n",
       "1254                     0\n",
       "1601                     0\n",
       "0382                     0\n",
       "0392                     0\n",
       "0391                     0\n",
       "1259                     0\n",
       "1702                     0\n",
       "0408                     0\n",
       "2003                     0\n",
       "1251                     0\n",
       "2029                     0\n",
       "1268                     0\n",
       "0364                     0\n",
       "0406                     0\n",
       "1812                     0\n",
       "0553                     0\n",
       "1019                     0\n",
       "1216                     0\n",
       "0800                     0\n",
       "2036                     0\n",
       "1234                     0\n",
       "1242                     0\n",
       "1611                     0\n",
       "1517                     0\n",
       "0919                     0\n",
       "2038                     0\n",
       "0357                     0\n",
       "1317                     0\n",
       "9999                     0\n",
       "1822                     0\n",
       "2024                     0\n",
       "0339                     0\n",
       "0114                     0\n",
       "1266                     0\n",
       "1413                     0\n",
       "0361                     0\n",
       "3003                     0\n",
       "1602                     0\n",
       "2108                     0\n",
       "1607                     0\n",
       "2047                     0\n",
       "1522                     0\n",
       "0410                     0\n",
       "0121                     0\n",
       "0902                     0\n",
       "0419                     0\n",
       "1238                     0\n",
       "1414                     0\n",
       "0604                     0\n",
       "0304                     0\n",
       "0538                     0\n",
       "0944                     0\n",
       "0853                     0\n",
       "0402                     0\n",
       "1303                     0\n",
       "2104                     0\n",
       "dtype: int64"
      ]
     },
     "execution_count": 93,
     "metadata": {},
     "output_type": "execute_result"
    }
   ],
   "source": [
    "train_df.isna().sum()"
   ]
  },
  {
   "cell_type": "code",
   "execution_count": 94,
   "id": "061e542b",
   "metadata": {
    "execution": {
     "iopub.execute_input": "2024-08-09T18:00:29.150524Z",
     "iopub.status.busy": "2024-08-09T18:00:29.150101Z",
     "iopub.status.idle": "2024-08-09T18:00:29.161612Z",
     "shell.execute_reply": "2024-08-09T18:00:29.160325Z"
    },
    "papermill": {
     "duration": 0.092797,
     "end_time": "2024-08-09T18:00:29.164670",
     "exception": false,
     "start_time": "2024-08-09T18:00:29.071873",
     "status": "completed"
    },
    "tags": []
   },
   "outputs": [],
   "source": [
    "X=train_df.drop(columns=['Crime_Category'])\n",
    "Y=train_df[['Crime_Category']]"
   ]
  },
  {
   "cell_type": "markdown",
   "id": "cb311080",
   "metadata": {
    "papermill": {
     "duration": 0.085711,
     "end_time": "2024-08-09T18:00:29.324070",
     "exception": false,
     "start_time": "2024-08-09T18:00:29.238359",
     "status": "completed"
    },
    "tags": []
   },
   "source": [
    "****Polynomial Features****"
   ]
  },
  {
   "cell_type": "code",
   "execution_count": 95,
   "id": "d833e280",
   "metadata": {
    "execution": {
     "iopub.execute_input": "2024-08-09T18:00:29.483973Z",
     "iopub.status.busy": "2024-08-09T18:00:29.483547Z",
     "iopub.status.idle": "2024-08-09T18:00:29.491326Z",
     "shell.execute_reply": "2024-08-09T18:00:29.489944Z"
    },
    "papermill": {
     "duration": 0.086129,
     "end_time": "2024-08-09T18:00:29.493997",
     "exception": false,
     "start_time": "2024-08-09T18:00:29.407868",
     "status": "completed"
    },
    "tags": []
   },
   "outputs": [
    {
     "data": {
      "text/plain": [
       "'from sklearn.preprocessing import PolynomialFeatures\\npe=PolynomialFeatures(degree=2)\\npoly=pe.fit_transform(X)\\nX_p=pd.DataFrame(poly,columns=pe.get_feature_names_out())'"
      ]
     },
     "execution_count": 95,
     "metadata": {},
     "output_type": "execute_result"
    }
   ],
   "source": [
    "'''from sklearn.preprocessing import PolynomialFeatures\n",
    "pe=PolynomialFeatures(degree=2)\n",
    "poly=pe.fit_transform(X)\n",
    "X_p=pd.DataFrame(poly,columns=pe.get_feature_names_out())'''"
   ]
  },
  {
   "cell_type": "code",
   "execution_count": 96,
   "id": "14df928b",
   "metadata": {
    "execution": {
     "iopub.execute_input": "2024-08-09T18:00:29.646899Z",
     "iopub.status.busy": "2024-08-09T18:00:29.645305Z",
     "iopub.status.idle": "2024-08-09T18:00:29.653437Z",
     "shell.execute_reply": "2024-08-09T18:00:29.652235Z"
    },
    "papermill": {
     "duration": 0.088757,
     "end_time": "2024-08-09T18:00:29.656304",
     "exception": false,
     "start_time": "2024-08-09T18:00:29.567547",
     "status": "completed"
    },
    "tags": []
   },
   "outputs": [
    {
     "data": {
      "text/plain": [
       "'poly_te=pe.fit_transform(test_df)\\nX_pte=pd.DataFrame(poly_te,columns=pe.get_feature_names_out())'"
      ]
     },
     "execution_count": 96,
     "metadata": {},
     "output_type": "execute_result"
    }
   ],
   "source": [
    "'''poly_te=pe.fit_transform(test_df)\n",
    "X_pte=pd.DataFrame(poly_te,columns=pe.get_feature_names_out())'''"
   ]
  },
  {
   "cell_type": "code",
   "execution_count": 97,
   "id": "e7e06fcb",
   "metadata": {
    "execution": {
     "iopub.execute_input": "2024-08-09T18:00:29.808650Z",
     "iopub.status.busy": "2024-08-09T18:00:29.807512Z",
     "iopub.status.idle": "2024-08-09T18:00:29.813729Z",
     "shell.execute_reply": "2024-08-09T18:00:29.812349Z"
    },
    "papermill": {
     "duration": 0.086747,
     "end_time": "2024-08-09T18:00:29.816812",
     "exception": false,
     "start_time": "2024-08-09T18:00:29.730065",
     "status": "completed"
    },
    "tags": []
   },
   "outputs": [],
   "source": [
    "#X_p.shape"
   ]
  },
  {
   "cell_type": "markdown",
   "id": "46452c4f",
   "metadata": {
    "papermill": {
     "duration": 0.07424,
     "end_time": "2024-08-09T18:00:29.967164",
     "exception": false,
     "start_time": "2024-08-09T18:00:29.892924",
     "status": "completed"
    },
    "tags": []
   },
   "source": [
    "****PCA****"
   ]
  },
  {
   "cell_type": "code",
   "execution_count": 98,
   "id": "dd5115cb",
   "metadata": {
    "execution": {
     "iopub.execute_input": "2024-08-09T18:00:30.116368Z",
     "iopub.status.busy": "2024-08-09T18:00:30.115304Z",
     "iopub.status.idle": "2024-08-09T18:00:30.121987Z",
     "shell.execute_reply": "2024-08-09T18:00:30.120519Z"
    },
    "papermill": {
     "duration": 0.084028,
     "end_time": "2024-08-09T18:00:30.124695",
     "exception": false,
     "start_time": "2024-08-09T18:00:30.040667",
     "status": "completed"
    },
    "tags": []
   },
   "outputs": [],
   "source": [
    "X.columns=X.columns.astype(str)\n",
    "test_df.columns=test_df.columns.astype(str)"
   ]
  },
  {
   "cell_type": "code",
   "execution_count": 99,
   "id": "3376033b",
   "metadata": {
    "execution": {
     "iopub.execute_input": "2024-08-09T18:00:30.274831Z",
     "iopub.status.busy": "2024-08-09T18:00:30.274345Z",
     "iopub.status.idle": "2024-08-09T18:00:32.746795Z",
     "shell.execute_reply": "2024-08-09T18:00:32.744990Z"
    },
    "papermill": {
     "duration": 2.552299,
     "end_time": "2024-08-09T18:00:32.751386",
     "exception": false,
     "start_time": "2024-08-09T18:00:30.199087",
     "status": "completed"
    },
    "tags": []
   },
   "outputs": [],
   "source": [
    "from sklearn.decomposition import PCA\n",
    "pca=PCA(n_components=125)\n",
    "pcaarray=pca.fit_transform(X)\n",
    "X_pp=pd.DataFrame(pcaarray,columns=pca.get_feature_names_out())"
   ]
  },
  {
   "cell_type": "code",
   "execution_count": 100,
   "id": "c683b12f",
   "metadata": {
    "execution": {
     "iopub.execute_input": "2024-08-09T18:00:32.910790Z",
     "iopub.status.busy": "2024-08-09T18:00:32.910308Z",
     "iopub.status.idle": "2024-08-09T18:00:34.070956Z",
     "shell.execute_reply": "2024-08-09T18:00:34.068977Z"
    },
    "papermill": {
     "duration": 1.242364,
     "end_time": "2024-08-09T18:00:34.074611",
     "exception": false,
     "start_time": "2024-08-09T18:00:32.832247",
     "status": "completed"
    },
    "tags": []
   },
   "outputs": [],
   "source": [
    "pcaarray_te=pca.fit_transform(test_df)\n",
    "X_ppte=pd.DataFrame(pcaarray_te,columns=pca.get_feature_names_out())"
   ]
  },
  {
   "cell_type": "markdown",
   "id": "e46d98cf",
   "metadata": {
    "papermill": {
     "duration": 0.08288,
     "end_time": "2024-08-09T18:00:34.248802",
     "exception": false,
     "start_time": "2024-08-09T18:00:34.165922",
     "status": "completed"
    },
    "tags": []
   },
   "source": [
    "****Feature Scaling****"
   ]
  },
  {
   "cell_type": "code",
   "execution_count": 101,
   "id": "c8e5416f",
   "metadata": {
    "execution": {
     "iopub.execute_input": "2024-08-09T18:00:34.413867Z",
     "iopub.status.busy": "2024-08-09T18:00:34.413293Z",
     "iopub.status.idle": "2024-08-09T18:00:34.537847Z",
     "shell.execute_reply": "2024-08-09T18:00:34.536479Z"
    },
    "papermill": {
     "duration": 0.204028,
     "end_time": "2024-08-09T18:00:34.541823",
     "exception": false,
     "start_time": "2024-08-09T18:00:34.337795",
     "status": "completed"
    },
    "tags": []
   },
   "outputs": [
    {
     "data": {
      "text/html": [
       "<div>\n",
       "<style scoped>\n",
       "    .dataframe tbody tr th:only-of-type {\n",
       "        vertical-align: middle;\n",
       "    }\n",
       "\n",
       "    .dataframe tbody tr th {\n",
       "        vertical-align: top;\n",
       "    }\n",
       "\n",
       "    .dataframe thead th {\n",
       "        text-align: right;\n",
       "    }\n",
       "</style>\n",
       "<table border=\"1\" class=\"dataframe\">\n",
       "  <thead>\n",
       "    <tr style=\"text-align: right;\">\n",
       "      <th></th>\n",
       "      <th>pca0</th>\n",
       "      <th>pca1</th>\n",
       "      <th>pca2</th>\n",
       "      <th>pca3</th>\n",
       "      <th>pca4</th>\n",
       "      <th>pca5</th>\n",
       "      <th>pca6</th>\n",
       "      <th>pca7</th>\n",
       "      <th>pca8</th>\n",
       "      <th>pca9</th>\n",
       "      <th>pca10</th>\n",
       "      <th>pca11</th>\n",
       "      <th>pca12</th>\n",
       "      <th>pca13</th>\n",
       "      <th>pca14</th>\n",
       "      <th>pca15</th>\n",
       "      <th>pca16</th>\n",
       "      <th>pca17</th>\n",
       "      <th>pca18</th>\n",
       "      <th>pca19</th>\n",
       "      <th>pca20</th>\n",
       "      <th>pca21</th>\n",
       "      <th>pca22</th>\n",
       "      <th>pca23</th>\n",
       "      <th>pca24</th>\n",
       "      <th>pca25</th>\n",
       "      <th>pca26</th>\n",
       "      <th>pca27</th>\n",
       "      <th>pca28</th>\n",
       "      <th>pca29</th>\n",
       "      <th>pca30</th>\n",
       "      <th>pca31</th>\n",
       "      <th>pca32</th>\n",
       "      <th>pca33</th>\n",
       "      <th>pca34</th>\n",
       "      <th>pca35</th>\n",
       "      <th>pca36</th>\n",
       "      <th>pca37</th>\n",
       "      <th>pca38</th>\n",
       "      <th>pca39</th>\n",
       "      <th>pca40</th>\n",
       "      <th>pca41</th>\n",
       "      <th>pca42</th>\n",
       "      <th>pca43</th>\n",
       "      <th>pca44</th>\n",
       "      <th>pca45</th>\n",
       "      <th>pca46</th>\n",
       "      <th>pca47</th>\n",
       "      <th>pca48</th>\n",
       "      <th>pca49</th>\n",
       "      <th>pca50</th>\n",
       "      <th>pca51</th>\n",
       "      <th>pca52</th>\n",
       "      <th>pca53</th>\n",
       "      <th>pca54</th>\n",
       "      <th>pca55</th>\n",
       "      <th>pca56</th>\n",
       "      <th>pca57</th>\n",
       "      <th>pca58</th>\n",
       "      <th>pca59</th>\n",
       "      <th>pca60</th>\n",
       "      <th>pca61</th>\n",
       "      <th>pca62</th>\n",
       "      <th>pca63</th>\n",
       "      <th>pca64</th>\n",
       "      <th>pca65</th>\n",
       "      <th>pca66</th>\n",
       "      <th>pca67</th>\n",
       "      <th>pca68</th>\n",
       "      <th>pca69</th>\n",
       "      <th>pca70</th>\n",
       "      <th>pca71</th>\n",
       "      <th>pca72</th>\n",
       "      <th>pca73</th>\n",
       "      <th>pca74</th>\n",
       "      <th>pca75</th>\n",
       "      <th>pca76</th>\n",
       "      <th>pca77</th>\n",
       "      <th>pca78</th>\n",
       "      <th>pca79</th>\n",
       "      <th>pca80</th>\n",
       "      <th>pca81</th>\n",
       "      <th>pca82</th>\n",
       "      <th>pca83</th>\n",
       "      <th>pca84</th>\n",
       "      <th>pca85</th>\n",
       "      <th>pca86</th>\n",
       "      <th>pca87</th>\n",
       "      <th>pca88</th>\n",
       "      <th>pca89</th>\n",
       "      <th>pca90</th>\n",
       "      <th>pca91</th>\n",
       "      <th>pca92</th>\n",
       "      <th>pca93</th>\n",
       "      <th>pca94</th>\n",
       "      <th>pca95</th>\n",
       "      <th>pca96</th>\n",
       "      <th>pca97</th>\n",
       "      <th>pca98</th>\n",
       "      <th>pca99</th>\n",
       "      <th>pca100</th>\n",
       "      <th>pca101</th>\n",
       "      <th>pca102</th>\n",
       "      <th>pca103</th>\n",
       "      <th>pca104</th>\n",
       "      <th>pca105</th>\n",
       "      <th>pca106</th>\n",
       "      <th>pca107</th>\n",
       "      <th>pca108</th>\n",
       "      <th>pca109</th>\n",
       "      <th>pca110</th>\n",
       "      <th>pca111</th>\n",
       "      <th>pca112</th>\n",
       "      <th>pca113</th>\n",
       "      <th>pca114</th>\n",
       "      <th>pca115</th>\n",
       "      <th>pca116</th>\n",
       "      <th>pca117</th>\n",
       "      <th>pca118</th>\n",
       "      <th>pca119</th>\n",
       "      <th>pca120</th>\n",
       "      <th>pca121</th>\n",
       "      <th>pca122</th>\n",
       "      <th>pca123</th>\n",
       "      <th>pca124</th>\n",
       "    </tr>\n",
       "  </thead>\n",
       "  <tbody>\n",
       "    <tr>\n",
       "      <th>0</th>\n",
       "      <td>433.121757</td>\n",
       "      <td>-195.287585</td>\n",
       "      <td>-21.335887</td>\n",
       "      <td>47.118357</td>\n",
       "      <td>-20.296997</td>\n",
       "      <td>-10.949714</td>\n",
       "      <td>-0.225942</td>\n",
       "      <td>-3.297081</td>\n",
       "      <td>-4.768387</td>\n",
       "      <td>4.632068</td>\n",
       "      <td>-1.528834</td>\n",
       "      <td>-0.033552</td>\n",
       "      <td>-0.707187</td>\n",
       "      <td>-0.612112</td>\n",
       "      <td>-0.356668</td>\n",
       "      <td>-0.080753</td>\n",
       "      <td>0.214947</td>\n",
       "      <td>-0.181623</td>\n",
       "      <td>0.066173</td>\n",
       "      <td>0.023774</td>\n",
       "      <td>-0.001801</td>\n",
       "      <td>0.038303</td>\n",
       "      <td>0.146449</td>\n",
       "      <td>0.118635</td>\n",
       "      <td>0.021633</td>\n",
       "      <td>0.059609</td>\n",
       "      <td>0.223875</td>\n",
       "      <td>0.025286</td>\n",
       "      <td>0.280860</td>\n",
       "      <td>-0.310517</td>\n",
       "      <td>-0.109045</td>\n",
       "      <td>-0.145567</td>\n",
       "      <td>-0.002813</td>\n",
       "      <td>0.085021</td>\n",
       "      <td>0.087866</td>\n",
       "      <td>-0.025935</td>\n",
       "      <td>-0.070508</td>\n",
       "      <td>-0.069609</td>\n",
       "      <td>0.084940</td>\n",
       "      <td>-0.001752</td>\n",
       "      <td>0.150948</td>\n",
       "      <td>-0.247270</td>\n",
       "      <td>-0.091764</td>\n",
       "      <td>-0.228316</td>\n",
       "      <td>0.122778</td>\n",
       "      <td>-0.156677</td>\n",
       "      <td>-0.003629</td>\n",
       "      <td>-0.256512</td>\n",
       "      <td>-0.110317</td>\n",
       "      <td>0.156708</td>\n",
       "      <td>-0.123159</td>\n",
       "      <td>-0.024971</td>\n",
       "      <td>-0.097178</td>\n",
       "      <td>0.370590</td>\n",
       "      <td>0.434972</td>\n",
       "      <td>-0.214221</td>\n",
       "      <td>-0.215381</td>\n",
       "      <td>0.225398</td>\n",
       "      <td>-0.240954</td>\n",
       "      <td>0.069654</td>\n",
       "      <td>0.172617</td>\n",
       "      <td>-0.161376</td>\n",
       "      <td>0.005681</td>\n",
       "      <td>0.131579</td>\n",
       "      <td>-0.026255</td>\n",
       "      <td>-0.026703</td>\n",
       "      <td>0.049637</td>\n",
       "      <td>0.020461</td>\n",
       "      <td>0.041456</td>\n",
       "      <td>0.007134</td>\n",
       "      <td>-0.015089</td>\n",
       "      <td>-0.019852</td>\n",
       "      <td>0.044053</td>\n",
       "      <td>0.022320</td>\n",
       "      <td>0.047672</td>\n",
       "      <td>-0.002291</td>\n",
       "      <td>-0.005646</td>\n",
       "      <td>-0.006654</td>\n",
       "      <td>-0.026376</td>\n",
       "      <td>0.000836</td>\n",
       "      <td>-0.038153</td>\n",
       "      <td>0.005455</td>\n",
       "      <td>-0.001073</td>\n",
       "      <td>-0.030980</td>\n",
       "      <td>0.010095</td>\n",
       "      <td>0.028894</td>\n",
       "      <td>0.001616</td>\n",
       "      <td>-0.000458</td>\n",
       "      <td>0.017080</td>\n",
       "      <td>-0.005885</td>\n",
       "      <td>0.012920</td>\n",
       "      <td>-0.003911</td>\n",
       "      <td>-0.005891</td>\n",
       "      <td>0.009071</td>\n",
       "      <td>-0.012431</td>\n",
       "      <td>0.015213</td>\n",
       "      <td>-0.002333</td>\n",
       "      <td>-0.004945</td>\n",
       "      <td>-0.015099</td>\n",
       "      <td>-0.003525</td>\n",
       "      <td>0.013098</td>\n",
       "      <td>0.009318</td>\n",
       "      <td>-0.002660</td>\n",
       "      <td>-0.014359</td>\n",
       "      <td>0.003014</td>\n",
       "      <td>0.034909</td>\n",
       "      <td>-0.002254</td>\n",
       "      <td>0.017746</td>\n",
       "      <td>-0.010537</td>\n",
       "      <td>0.001597</td>\n",
       "      <td>-0.010994</td>\n",
       "      <td>-0.001730</td>\n",
       "      <td>-0.016588</td>\n",
       "      <td>0.002904</td>\n",
       "      <td>-0.003527</td>\n",
       "      <td>0.004166</td>\n",
       "      <td>-0.003319</td>\n",
       "      <td>0.001711</td>\n",
       "      <td>0.002317</td>\n",
       "      <td>-0.005696</td>\n",
       "      <td>-0.001430</td>\n",
       "      <td>-0.008114</td>\n",
       "      <td>0.013887</td>\n",
       "      <td>-0.002867</td>\n",
       "      <td>0.003772</td>\n",
       "    </tr>\n",
       "    <tr>\n",
       "      <th>1</th>\n",
       "      <td>237.273388</td>\n",
       "      <td>-80.699179</td>\n",
       "      <td>-15.104648</td>\n",
       "      <td>14.482292</td>\n",
       "      <td>27.578575</td>\n",
       "      <td>15.850087</td>\n",
       "      <td>-0.852829</td>\n",
       "      <td>3.227673</td>\n",
       "      <td>0.914661</td>\n",
       "      <td>6.215431</td>\n",
       "      <td>0.046639</td>\n",
       "      <td>-0.041049</td>\n",
       "      <td>-0.742668</td>\n",
       "      <td>0.601253</td>\n",
       "      <td>0.230160</td>\n",
       "      <td>-0.730735</td>\n",
       "      <td>-0.611848</td>\n",
       "      <td>0.163349</td>\n",
       "      <td>-0.517854</td>\n",
       "      <td>-0.186772</td>\n",
       "      <td>0.409772</td>\n",
       "      <td>-0.024012</td>\n",
       "      <td>0.311702</td>\n",
       "      <td>-0.135661</td>\n",
       "      <td>-0.254343</td>\n",
       "      <td>0.125312</td>\n",
       "      <td>-0.082229</td>\n",
       "      <td>-0.015981</td>\n",
       "      <td>-0.075264</td>\n",
       "      <td>-0.081449</td>\n",
       "      <td>-0.171830</td>\n",
       "      <td>0.031161</td>\n",
       "      <td>-0.143617</td>\n",
       "      <td>0.552170</td>\n",
       "      <td>-0.248999</td>\n",
       "      <td>0.182051</td>\n",
       "      <td>0.241773</td>\n",
       "      <td>0.129141</td>\n",
       "      <td>-0.103877</td>\n",
       "      <td>-0.309073</td>\n",
       "      <td>0.671621</td>\n",
       "      <td>0.279557</td>\n",
       "      <td>0.392124</td>\n",
       "      <td>0.372422</td>\n",
       "      <td>-0.142491</td>\n",
       "      <td>-0.055382</td>\n",
       "      <td>0.158762</td>\n",
       "      <td>0.888494</td>\n",
       "      <td>-0.176095</td>\n",
       "      <td>0.322728</td>\n",
       "      <td>0.103799</td>\n",
       "      <td>-0.418237</td>\n",
       "      <td>-0.014904</td>\n",
       "      <td>0.271631</td>\n",
       "      <td>-0.064089</td>\n",
       "      <td>-0.079049</td>\n",
       "      <td>-0.075576</td>\n",
       "      <td>0.153812</td>\n",
       "      <td>-0.041350</td>\n",
       "      <td>0.859850</td>\n",
       "      <td>0.220338</td>\n",
       "      <td>0.211480</td>\n",
       "      <td>0.202595</td>\n",
       "      <td>-0.032190</td>\n",
       "      <td>-0.004069</td>\n",
       "      <td>0.002726</td>\n",
       "      <td>-0.109887</td>\n",
       "      <td>0.004710</td>\n",
       "      <td>-0.007046</td>\n",
       "      <td>-0.173488</td>\n",
       "      <td>0.036653</td>\n",
       "      <td>-0.006858</td>\n",
       "      <td>-0.057770</td>\n",
       "      <td>0.002404</td>\n",
       "      <td>-0.025353</td>\n",
       "      <td>-0.060895</td>\n",
       "      <td>-0.043672</td>\n",
       "      <td>-0.039936</td>\n",
       "      <td>-0.036057</td>\n",
       "      <td>0.028257</td>\n",
       "      <td>-0.036956</td>\n",
       "      <td>0.038790</td>\n",
       "      <td>-0.075509</td>\n",
       "      <td>0.081397</td>\n",
       "      <td>0.040447</td>\n",
       "      <td>-0.080807</td>\n",
       "      <td>-0.024332</td>\n",
       "      <td>-0.018400</td>\n",
       "      <td>-0.049998</td>\n",
       "      <td>-0.004900</td>\n",
       "      <td>0.018498</td>\n",
       "      <td>0.047350</td>\n",
       "      <td>-0.005483</td>\n",
       "      <td>0.008699</td>\n",
       "      <td>0.036311</td>\n",
       "      <td>-0.016623</td>\n",
       "      <td>-0.036202</td>\n",
       "      <td>0.047185</td>\n",
       "      <td>0.004897</td>\n",
       "      <td>-0.017021</td>\n",
       "      <td>-0.080110</td>\n",
       "      <td>-0.023580</td>\n",
       "      <td>-0.001877</td>\n",
       "      <td>-0.006574</td>\n",
       "      <td>0.064359</td>\n",
       "      <td>-0.050793</td>\n",
       "      <td>0.002217</td>\n",
       "      <td>-0.024343</td>\n",
       "      <td>-0.048869</td>\n",
       "      <td>0.065755</td>\n",
       "      <td>0.101317</td>\n",
       "      <td>0.097317</td>\n",
       "      <td>0.043464</td>\n",
       "      <td>0.039978</td>\n",
       "      <td>-0.115694</td>\n",
       "      <td>-0.060357</td>\n",
       "      <td>0.034364</td>\n",
       "      <td>0.213630</td>\n",
       "      <td>-0.091573</td>\n",
       "      <td>-0.180366</td>\n",
       "      <td>-0.252805</td>\n",
       "      <td>-0.134458</td>\n",
       "      <td>0.379701</td>\n",
       "      <td>-0.030800</td>\n",
       "      <td>0.064021</td>\n",
       "    </tr>\n",
       "    <tr>\n",
       "      <th>2</th>\n",
       "      <td>213.760815</td>\n",
       "      <td>204.502870</td>\n",
       "      <td>-4.402579</td>\n",
       "      <td>31.440078</td>\n",
       "      <td>-14.777928</td>\n",
       "      <td>7.775199</td>\n",
       "      <td>-0.093906</td>\n",
       "      <td>-5.029370</td>\n",
       "      <td>6.724085</td>\n",
       "      <td>-2.554454</td>\n",
       "      <td>0.524494</td>\n",
       "      <td>-0.088142</td>\n",
       "      <td>-0.420129</td>\n",
       "      <td>-1.116434</td>\n",
       "      <td>0.247702</td>\n",
       "      <td>0.669860</td>\n",
       "      <td>-0.111728</td>\n",
       "      <td>-0.140130</td>\n",
       "      <td>-0.024167</td>\n",
       "      <td>-0.208319</td>\n",
       "      <td>0.218907</td>\n",
       "      <td>0.132291</td>\n",
       "      <td>0.011495</td>\n",
       "      <td>-0.070223</td>\n",
       "      <td>0.064654</td>\n",
       "      <td>0.028380</td>\n",
       "      <td>0.058238</td>\n",
       "      <td>0.053360</td>\n",
       "      <td>-0.420685</td>\n",
       "      <td>0.035898</td>\n",
       "      <td>0.574720</td>\n",
       "      <td>0.311184</td>\n",
       "      <td>0.015579</td>\n",
       "      <td>0.070107</td>\n",
       "      <td>0.001196</td>\n",
       "      <td>0.001217</td>\n",
       "      <td>-0.056975</td>\n",
       "      <td>0.018790</td>\n",
       "      <td>0.030188</td>\n",
       "      <td>0.004707</td>\n",
       "      <td>0.036199</td>\n",
       "      <td>-0.021738</td>\n",
       "      <td>0.029475</td>\n",
       "      <td>-0.008646</td>\n",
       "      <td>0.027201</td>\n",
       "      <td>-0.036307</td>\n",
       "      <td>-0.010744</td>\n",
       "      <td>-0.028201</td>\n",
       "      <td>-0.012004</td>\n",
       "      <td>0.012482</td>\n",
       "      <td>0.004237</td>\n",
       "      <td>0.016140</td>\n",
       "      <td>0.006592</td>\n",
       "      <td>0.031425</td>\n",
       "      <td>-0.015712</td>\n",
       "      <td>-0.025041</td>\n",
       "      <td>0.020072</td>\n",
       "      <td>-0.034232</td>\n",
       "      <td>0.011449</td>\n",
       "      <td>-0.009524</td>\n",
       "      <td>-0.008938</td>\n",
       "      <td>0.005518</td>\n",
       "      <td>-0.015481</td>\n",
       "      <td>-0.014605</td>\n",
       "      <td>-0.003154</td>\n",
       "      <td>0.018869</td>\n",
       "      <td>0.016718</td>\n",
       "      <td>-0.006045</td>\n",
       "      <td>-0.015474</td>\n",
       "      <td>-0.011086</td>\n",
       "      <td>0.013845</td>\n",
       "      <td>0.004862</td>\n",
       "      <td>0.002218</td>\n",
       "      <td>-0.006158</td>\n",
       "      <td>-0.003128</td>\n",
       "      <td>-0.005080</td>\n",
       "      <td>0.014030</td>\n",
       "      <td>0.004808</td>\n",
       "      <td>-0.029393</td>\n",
       "      <td>-0.000374</td>\n",
       "      <td>0.000751</td>\n",
       "      <td>-0.031804</td>\n",
       "      <td>-0.001218</td>\n",
       "      <td>0.011987</td>\n",
       "      <td>0.007951</td>\n",
       "      <td>-0.045639</td>\n",
       "      <td>0.028728</td>\n",
       "      <td>-0.004234</td>\n",
       "      <td>-0.027273</td>\n",
       "      <td>-0.001617</td>\n",
       "      <td>-0.008730</td>\n",
       "      <td>-0.004174</td>\n",
       "      <td>0.004484</td>\n",
       "      <td>0.000068</td>\n",
       "      <td>0.008925</td>\n",
       "      <td>-0.014601</td>\n",
       "      <td>0.002348</td>\n",
       "      <td>-0.011152</td>\n",
       "      <td>-0.012465</td>\n",
       "      <td>-0.019910</td>\n",
       "      <td>0.007597</td>\n",
       "      <td>-0.015543</td>\n",
       "      <td>0.000429</td>\n",
       "      <td>-0.010733</td>\n",
       "      <td>-0.009332</td>\n",
       "      <td>0.000642</td>\n",
       "      <td>0.020270</td>\n",
       "      <td>0.009471</td>\n",
       "      <td>-0.009868</td>\n",
       "      <td>0.001773</td>\n",
       "      <td>0.004187</td>\n",
       "      <td>0.007982</td>\n",
       "      <td>-0.001904</td>\n",
       "      <td>-0.011394</td>\n",
       "      <td>-0.010532</td>\n",
       "      <td>-0.015858</td>\n",
       "      <td>0.008177</td>\n",
       "      <td>-0.000308</td>\n",
       "      <td>-0.006005</td>\n",
       "      <td>-0.009663</td>\n",
       "      <td>-0.004860</td>\n",
       "      <td>0.001406</td>\n",
       "      <td>-0.001093</td>\n",
       "      <td>-0.017228</td>\n",
       "      <td>-0.026104</td>\n",
       "    </tr>\n",
       "    <tr>\n",
       "      <th>3</th>\n",
       "      <td>794.127846</td>\n",
       "      <td>-196.148564</td>\n",
       "      <td>-22.032612</td>\n",
       "      <td>32.750200</td>\n",
       "      <td>-19.295158</td>\n",
       "      <td>-11.695500</td>\n",
       "      <td>-0.038049</td>\n",
       "      <td>-2.790345</td>\n",
       "      <td>-4.663511</td>\n",
       "      <td>-6.626620</td>\n",
       "      <td>-1.395498</td>\n",
       "      <td>-0.049563</td>\n",
       "      <td>-0.382279</td>\n",
       "      <td>-0.455606</td>\n",
       "      <td>0.029301</td>\n",
       "      <td>0.824005</td>\n",
       "      <td>-0.276801</td>\n",
       "      <td>-0.095861</td>\n",
       "      <td>0.247417</td>\n",
       "      <td>0.619594</td>\n",
       "      <td>0.540875</td>\n",
       "      <td>-0.076475</td>\n",
       "      <td>-0.068124</td>\n",
       "      <td>0.210923</td>\n",
       "      <td>0.074849</td>\n",
       "      <td>-0.067458</td>\n",
       "      <td>0.202154</td>\n",
       "      <td>0.096241</td>\n",
       "      <td>0.087300</td>\n",
       "      <td>-0.303594</td>\n",
       "      <td>-0.084575</td>\n",
       "      <td>-0.047435</td>\n",
       "      <td>-0.017127</td>\n",
       "      <td>0.082859</td>\n",
       "      <td>0.057745</td>\n",
       "      <td>-0.012524</td>\n",
       "      <td>-0.019403</td>\n",
       "      <td>-0.060445</td>\n",
       "      <td>0.039981</td>\n",
       "      <td>0.025380</td>\n",
       "      <td>0.058288</td>\n",
       "      <td>-0.040512</td>\n",
       "      <td>-0.016294</td>\n",
       "      <td>-0.080384</td>\n",
       "      <td>0.050389</td>\n",
       "      <td>-0.043337</td>\n",
       "      <td>-0.066953</td>\n",
       "      <td>0.021590</td>\n",
       "      <td>0.023932</td>\n",
       "      <td>0.077169</td>\n",
       "      <td>0.041523</td>\n",
       "      <td>-0.012634</td>\n",
       "      <td>0.053314</td>\n",
       "      <td>-0.030396</td>\n",
       "      <td>-0.061896</td>\n",
       "      <td>0.037587</td>\n",
       "      <td>-0.031798</td>\n",
       "      <td>-0.057372</td>\n",
       "      <td>0.029688</td>\n",
       "      <td>0.018961</td>\n",
       "      <td>-0.111111</td>\n",
       "      <td>0.090409</td>\n",
       "      <td>-0.003843</td>\n",
       "      <td>-0.061918</td>\n",
       "      <td>-0.052332</td>\n",
       "      <td>0.010729</td>\n",
       "      <td>-0.048425</td>\n",
       "      <td>-0.015495</td>\n",
       "      <td>0.033746</td>\n",
       "      <td>-0.020066</td>\n",
       "      <td>0.037334</td>\n",
       "      <td>0.026100</td>\n",
       "      <td>0.001573</td>\n",
       "      <td>-0.021771</td>\n",
       "      <td>-0.035860</td>\n",
       "      <td>0.036817</td>\n",
       "      <td>0.012372</td>\n",
       "      <td>-0.033827</td>\n",
       "      <td>-0.018813</td>\n",
       "      <td>-0.016334</td>\n",
       "      <td>-0.082652</td>\n",
       "      <td>-0.006052</td>\n",
       "      <td>-0.008364</td>\n",
       "      <td>-0.081266</td>\n",
       "      <td>0.011889</td>\n",
       "      <td>0.080296</td>\n",
       "      <td>-0.041154</td>\n",
       "      <td>0.008744</td>\n",
       "      <td>0.016263</td>\n",
       "      <td>-0.014473</td>\n",
       "      <td>0.042520</td>\n",
       "      <td>-0.006730</td>\n",
       "      <td>-0.002386</td>\n",
       "      <td>0.024044</td>\n",
       "      <td>-0.019104</td>\n",
       "      <td>0.029661</td>\n",
       "      <td>-0.023045</td>\n",
       "      <td>0.021256</td>\n",
       "      <td>-0.018338</td>\n",
       "      <td>-0.000717</td>\n",
       "      <td>-0.008341</td>\n",
       "      <td>0.010129</td>\n",
       "      <td>-0.009570</td>\n",
       "      <td>0.012322</td>\n",
       "      <td>0.006589</td>\n",
       "      <td>0.013602</td>\n",
       "      <td>0.007020</td>\n",
       "      <td>0.031470</td>\n",
       "      <td>-0.003118</td>\n",
       "      <td>0.015275</td>\n",
       "      <td>-0.020221</td>\n",
       "      <td>-0.001523</td>\n",
       "      <td>-0.024234</td>\n",
       "      <td>0.000559</td>\n",
       "      <td>0.000085</td>\n",
       "      <td>0.009775</td>\n",
       "      <td>-0.003897</td>\n",
       "      <td>0.002062</td>\n",
       "      <td>0.000683</td>\n",
       "      <td>0.003907</td>\n",
       "      <td>-0.015986</td>\n",
       "      <td>-0.013038</td>\n",
       "      <td>0.015347</td>\n",
       "      <td>-0.014481</td>\n",
       "      <td>-0.008004</td>\n",
       "    </tr>\n",
       "    <tr>\n",
       "      <th>4</th>\n",
       "      <td>115.527674</td>\n",
       "      <td>103.459855</td>\n",
       "      <td>-7.905533</td>\n",
       "      <td>-31.094888</td>\n",
       "      <td>15.438049</td>\n",
       "      <td>12.866954</td>\n",
       "      <td>-0.967032</td>\n",
       "      <td>4.822954</td>\n",
       "      <td>2.952241</td>\n",
       "      <td>6.359189</td>\n",
       "      <td>0.155690</td>\n",
       "      <td>-0.005072</td>\n",
       "      <td>-0.952633</td>\n",
       "      <td>0.505285</td>\n",
       "      <td>0.373067</td>\n",
       "      <td>-0.725705</td>\n",
       "      <td>-0.982826</td>\n",
       "      <td>0.323078</td>\n",
       "      <td>-0.500229</td>\n",
       "      <td>-0.064631</td>\n",
       "      <td>0.178044</td>\n",
       "      <td>0.077981</td>\n",
       "      <td>-0.071233</td>\n",
       "      <td>0.051851</td>\n",
       "      <td>0.735193</td>\n",
       "      <td>-0.015064</td>\n",
       "      <td>-0.102875</td>\n",
       "      <td>-0.143269</td>\n",
       "      <td>-0.102904</td>\n",
       "      <td>-0.104959</td>\n",
       "      <td>-0.026839</td>\n",
       "      <td>0.116103</td>\n",
       "      <td>0.003754</td>\n",
       "      <td>0.065267</td>\n",
       "      <td>-0.029003</td>\n",
       "      <td>-0.046108</td>\n",
       "      <td>-0.141223</td>\n",
       "      <td>0.044687</td>\n",
       "      <td>-0.007556</td>\n",
       "      <td>0.047748</td>\n",
       "      <td>-0.073296</td>\n",
       "      <td>0.095052</td>\n",
       "      <td>-0.063067</td>\n",
       "      <td>-0.140894</td>\n",
       "      <td>-0.170737</td>\n",
       "      <td>-0.072315</td>\n",
       "      <td>0.206993</td>\n",
       "      <td>0.118104</td>\n",
       "      <td>-0.006861</td>\n",
       "      <td>-0.100380</td>\n",
       "      <td>-0.034788</td>\n",
       "      <td>-0.054839</td>\n",
       "      <td>0.032960</td>\n",
       "      <td>0.011491</td>\n",
       "      <td>0.004763</td>\n",
       "      <td>-0.094252</td>\n",
       "      <td>0.065626</td>\n",
       "      <td>-0.011201</td>\n",
       "      <td>0.038167</td>\n",
       "      <td>0.538085</td>\n",
       "      <td>0.325252</td>\n",
       "      <td>0.561034</td>\n",
       "      <td>-0.047465</td>\n",
       "      <td>0.177094</td>\n",
       "      <td>-0.018879</td>\n",
       "      <td>0.010947</td>\n",
       "      <td>-0.058603</td>\n",
       "      <td>-0.021915</td>\n",
       "      <td>-0.094606</td>\n",
       "      <td>-0.147211</td>\n",
       "      <td>0.010628</td>\n",
       "      <td>0.025162</td>\n",
       "      <td>-0.091928</td>\n",
       "      <td>0.042374</td>\n",
       "      <td>0.043131</td>\n",
       "      <td>-0.067130</td>\n",
       "      <td>-0.003554</td>\n",
       "      <td>0.014699</td>\n",
       "      <td>-0.060899</td>\n",
       "      <td>0.034905</td>\n",
       "      <td>0.004690</td>\n",
       "      <td>0.048872</td>\n",
       "      <td>-0.051964</td>\n",
       "      <td>0.064024</td>\n",
       "      <td>-0.004309</td>\n",
       "      <td>-0.080616</td>\n",
       "      <td>-0.034240</td>\n",
       "      <td>0.008440</td>\n",
       "      <td>-0.012269</td>\n",
       "      <td>-0.016196</td>\n",
       "      <td>-0.022246</td>\n",
       "      <td>0.046680</td>\n",
       "      <td>0.061530</td>\n",
       "      <td>-0.065686</td>\n",
       "      <td>0.041243</td>\n",
       "      <td>-0.042993</td>\n",
       "      <td>-0.052378</td>\n",
       "      <td>0.015487</td>\n",
       "      <td>-0.072963</td>\n",
       "      <td>0.024803</td>\n",
       "      <td>-0.132974</td>\n",
       "      <td>0.116226</td>\n",
       "      <td>0.058060</td>\n",
       "      <td>-0.098173</td>\n",
       "      <td>0.081380</td>\n",
       "      <td>0.187302</td>\n",
       "      <td>-0.177103</td>\n",
       "      <td>0.673018</td>\n",
       "      <td>0.250506</td>\n",
       "      <td>0.026336</td>\n",
       "      <td>-0.013920</td>\n",
       "      <td>0.038827</td>\n",
       "      <td>-0.057370</td>\n",
       "      <td>0.035591</td>\n",
       "      <td>-0.104106</td>\n",
       "      <td>-0.280248</td>\n",
       "      <td>0.164779</td>\n",
       "      <td>-0.068770</td>\n",
       "      <td>0.067044</td>\n",
       "      <td>-0.130338</td>\n",
       "      <td>0.068770</td>\n",
       "      <td>-0.056609</td>\n",
       "      <td>-0.097458</td>\n",
       "      <td>0.095925</td>\n",
       "      <td>0.016176</td>\n",
       "    </tr>\n",
       "  </tbody>\n",
       "</table>\n",
       "</div>"
      ],
      "text/plain": [
       "         pca0        pca1       pca2       pca3       pca4       pca5  \\\n",
       "0  433.121757 -195.287585 -21.335887  47.118357 -20.296997 -10.949714   \n",
       "1  237.273388  -80.699179 -15.104648  14.482292  27.578575  15.850087   \n",
       "2  213.760815  204.502870  -4.402579  31.440078 -14.777928   7.775199   \n",
       "3  794.127846 -196.148564 -22.032612  32.750200 -19.295158 -11.695500   \n",
       "4  115.527674  103.459855  -7.905533 -31.094888  15.438049  12.866954   \n",
       "\n",
       "       pca6      pca7      pca8      pca9     pca10     pca11     pca12  \\\n",
       "0 -0.225942 -3.297081 -4.768387  4.632068 -1.528834 -0.033552 -0.707187   \n",
       "1 -0.852829  3.227673  0.914661  6.215431  0.046639 -0.041049 -0.742668   \n",
       "2 -0.093906 -5.029370  6.724085 -2.554454  0.524494 -0.088142 -0.420129   \n",
       "3 -0.038049 -2.790345 -4.663511 -6.626620 -1.395498 -0.049563 -0.382279   \n",
       "4 -0.967032  4.822954  2.952241  6.359189  0.155690 -0.005072 -0.952633   \n",
       "\n",
       "      pca13     pca14     pca15     pca16     pca17     pca18     pca19  \\\n",
       "0 -0.612112 -0.356668 -0.080753  0.214947 -0.181623  0.066173  0.023774   \n",
       "1  0.601253  0.230160 -0.730735 -0.611848  0.163349 -0.517854 -0.186772   \n",
       "2 -1.116434  0.247702  0.669860 -0.111728 -0.140130 -0.024167 -0.208319   \n",
       "3 -0.455606  0.029301  0.824005 -0.276801 -0.095861  0.247417  0.619594   \n",
       "4  0.505285  0.373067 -0.725705 -0.982826  0.323078 -0.500229 -0.064631   \n",
       "\n",
       "      pca20     pca21     pca22     pca23     pca24     pca25     pca26  \\\n",
       "0 -0.001801  0.038303  0.146449  0.118635  0.021633  0.059609  0.223875   \n",
       "1  0.409772 -0.024012  0.311702 -0.135661 -0.254343  0.125312 -0.082229   \n",
       "2  0.218907  0.132291  0.011495 -0.070223  0.064654  0.028380  0.058238   \n",
       "3  0.540875 -0.076475 -0.068124  0.210923  0.074849 -0.067458  0.202154   \n",
       "4  0.178044  0.077981 -0.071233  0.051851  0.735193 -0.015064 -0.102875   \n",
       "\n",
       "      pca27     pca28     pca29     pca30     pca31     pca32     pca33  \\\n",
       "0  0.025286  0.280860 -0.310517 -0.109045 -0.145567 -0.002813  0.085021   \n",
       "1 -0.015981 -0.075264 -0.081449 -0.171830  0.031161 -0.143617  0.552170   \n",
       "2  0.053360 -0.420685  0.035898  0.574720  0.311184  0.015579  0.070107   \n",
       "3  0.096241  0.087300 -0.303594 -0.084575 -0.047435 -0.017127  0.082859   \n",
       "4 -0.143269 -0.102904 -0.104959 -0.026839  0.116103  0.003754  0.065267   \n",
       "\n",
       "      pca34     pca35     pca36     pca37     pca38     pca39     pca40  \\\n",
       "0  0.087866 -0.025935 -0.070508 -0.069609  0.084940 -0.001752  0.150948   \n",
       "1 -0.248999  0.182051  0.241773  0.129141 -0.103877 -0.309073  0.671621   \n",
       "2  0.001196  0.001217 -0.056975  0.018790  0.030188  0.004707  0.036199   \n",
       "3  0.057745 -0.012524 -0.019403 -0.060445  0.039981  0.025380  0.058288   \n",
       "4 -0.029003 -0.046108 -0.141223  0.044687 -0.007556  0.047748 -0.073296   \n",
       "\n",
       "      pca41     pca42     pca43     pca44     pca45     pca46     pca47  \\\n",
       "0 -0.247270 -0.091764 -0.228316  0.122778 -0.156677 -0.003629 -0.256512   \n",
       "1  0.279557  0.392124  0.372422 -0.142491 -0.055382  0.158762  0.888494   \n",
       "2 -0.021738  0.029475 -0.008646  0.027201 -0.036307 -0.010744 -0.028201   \n",
       "3 -0.040512 -0.016294 -0.080384  0.050389 -0.043337 -0.066953  0.021590   \n",
       "4  0.095052 -0.063067 -0.140894 -0.170737 -0.072315  0.206993  0.118104   \n",
       "\n",
       "      pca48     pca49     pca50     pca51     pca52     pca53     pca54  \\\n",
       "0 -0.110317  0.156708 -0.123159 -0.024971 -0.097178  0.370590  0.434972   \n",
       "1 -0.176095  0.322728  0.103799 -0.418237 -0.014904  0.271631 -0.064089   \n",
       "2 -0.012004  0.012482  0.004237  0.016140  0.006592  0.031425 -0.015712   \n",
       "3  0.023932  0.077169  0.041523 -0.012634  0.053314 -0.030396 -0.061896   \n",
       "4 -0.006861 -0.100380 -0.034788 -0.054839  0.032960  0.011491  0.004763   \n",
       "\n",
       "      pca55     pca56     pca57     pca58     pca59     pca60     pca61  \\\n",
       "0 -0.214221 -0.215381  0.225398 -0.240954  0.069654  0.172617 -0.161376   \n",
       "1 -0.079049 -0.075576  0.153812 -0.041350  0.859850  0.220338  0.211480   \n",
       "2 -0.025041  0.020072 -0.034232  0.011449 -0.009524 -0.008938  0.005518   \n",
       "3  0.037587 -0.031798 -0.057372  0.029688  0.018961 -0.111111  0.090409   \n",
       "4 -0.094252  0.065626 -0.011201  0.038167  0.538085  0.325252  0.561034   \n",
       "\n",
       "      pca62     pca63     pca64     pca65     pca66     pca67     pca68  \\\n",
       "0  0.005681  0.131579 -0.026255 -0.026703  0.049637  0.020461  0.041456   \n",
       "1  0.202595 -0.032190 -0.004069  0.002726 -0.109887  0.004710 -0.007046   \n",
       "2 -0.015481 -0.014605 -0.003154  0.018869  0.016718 -0.006045 -0.015474   \n",
       "3 -0.003843 -0.061918 -0.052332  0.010729 -0.048425 -0.015495  0.033746   \n",
       "4 -0.047465  0.177094 -0.018879  0.010947 -0.058603 -0.021915 -0.094606   \n",
       "\n",
       "      pca69     pca70     pca71     pca72     pca73     pca74     pca75  \\\n",
       "0  0.007134 -0.015089 -0.019852  0.044053  0.022320  0.047672 -0.002291   \n",
       "1 -0.173488  0.036653 -0.006858 -0.057770  0.002404 -0.025353 -0.060895   \n",
       "2 -0.011086  0.013845  0.004862  0.002218 -0.006158 -0.003128 -0.005080   \n",
       "3 -0.020066  0.037334  0.026100  0.001573 -0.021771 -0.035860  0.036817   \n",
       "4 -0.147211  0.010628  0.025162 -0.091928  0.042374  0.043131 -0.067130   \n",
       "\n",
       "      pca76     pca77     pca78     pca79     pca80     pca81     pca82  \\\n",
       "0 -0.005646 -0.006654 -0.026376  0.000836 -0.038153  0.005455 -0.001073   \n",
       "1 -0.043672 -0.039936 -0.036057  0.028257 -0.036956  0.038790 -0.075509   \n",
       "2  0.014030  0.004808 -0.029393 -0.000374  0.000751 -0.031804 -0.001218   \n",
       "3  0.012372 -0.033827 -0.018813 -0.016334 -0.082652 -0.006052 -0.008364   \n",
       "4 -0.003554  0.014699 -0.060899  0.034905  0.004690  0.048872 -0.051964   \n",
       "\n",
       "      pca83     pca84     pca85     pca86     pca87     pca88     pca89  \\\n",
       "0 -0.030980  0.010095  0.028894  0.001616 -0.000458  0.017080 -0.005885   \n",
       "1  0.081397  0.040447 -0.080807 -0.024332 -0.018400 -0.049998 -0.004900   \n",
       "2  0.011987  0.007951 -0.045639  0.028728 -0.004234 -0.027273 -0.001617   \n",
       "3 -0.081266  0.011889  0.080296 -0.041154  0.008744  0.016263 -0.014473   \n",
       "4  0.064024 -0.004309 -0.080616 -0.034240  0.008440 -0.012269 -0.016196   \n",
       "\n",
       "      pca90     pca91     pca92     pca93     pca94     pca95     pca96  \\\n",
       "0  0.012920 -0.003911 -0.005891  0.009071 -0.012431  0.015213 -0.002333   \n",
       "1  0.018498  0.047350 -0.005483  0.008699  0.036311 -0.016623 -0.036202   \n",
       "2 -0.008730 -0.004174  0.004484  0.000068  0.008925 -0.014601  0.002348   \n",
       "3  0.042520 -0.006730 -0.002386  0.024044 -0.019104  0.029661 -0.023045   \n",
       "4 -0.022246  0.046680  0.061530 -0.065686  0.041243 -0.042993 -0.052378   \n",
       "\n",
       "      pca97     pca98     pca99    pca100    pca101    pca102    pca103  \\\n",
       "0 -0.004945 -0.015099 -0.003525  0.013098  0.009318 -0.002660 -0.014359   \n",
       "1  0.047185  0.004897 -0.017021 -0.080110 -0.023580 -0.001877 -0.006574   \n",
       "2 -0.011152 -0.012465 -0.019910  0.007597 -0.015543  0.000429 -0.010733   \n",
       "3  0.021256 -0.018338 -0.000717 -0.008341  0.010129 -0.009570  0.012322   \n",
       "4  0.015487 -0.072963  0.024803 -0.132974  0.116226  0.058060 -0.098173   \n",
       "\n",
       "     pca104    pca105    pca106    pca107    pca108    pca109    pca110  \\\n",
       "0  0.003014  0.034909 -0.002254  0.017746 -0.010537  0.001597 -0.010994   \n",
       "1  0.064359 -0.050793  0.002217 -0.024343 -0.048869  0.065755  0.101317   \n",
       "2 -0.009332  0.000642  0.020270  0.009471 -0.009868  0.001773  0.004187   \n",
       "3  0.006589  0.013602  0.007020  0.031470 -0.003118  0.015275 -0.020221   \n",
       "4  0.081380  0.187302 -0.177103  0.673018  0.250506  0.026336 -0.013920   \n",
       "\n",
       "     pca111    pca112    pca113    pca114    pca115    pca116    pca117  \\\n",
       "0 -0.001730 -0.016588  0.002904 -0.003527  0.004166 -0.003319  0.001711   \n",
       "1  0.097317  0.043464  0.039978 -0.115694 -0.060357  0.034364  0.213630   \n",
       "2  0.007982 -0.001904 -0.011394 -0.010532 -0.015858  0.008177 -0.000308   \n",
       "3 -0.001523 -0.024234  0.000559  0.000085  0.009775 -0.003897  0.002062   \n",
       "4  0.038827 -0.057370  0.035591 -0.104106 -0.280248  0.164779 -0.068770   \n",
       "\n",
       "     pca118    pca119    pca120    pca121    pca122    pca123    pca124  \n",
       "0  0.002317 -0.005696 -0.001430 -0.008114  0.013887 -0.002867  0.003772  \n",
       "1 -0.091573 -0.180366 -0.252805 -0.134458  0.379701 -0.030800  0.064021  \n",
       "2 -0.006005 -0.009663 -0.004860  0.001406 -0.001093 -0.017228 -0.026104  \n",
       "3  0.000683  0.003907 -0.015986 -0.013038  0.015347 -0.014481 -0.008004  \n",
       "4  0.067044 -0.130338  0.068770 -0.056609 -0.097458  0.095925  0.016176  "
      ]
     },
     "execution_count": 101,
     "metadata": {},
     "output_type": "execute_result"
    }
   ],
   "source": [
    "X_pp.head()"
   ]
  },
  {
   "cell_type": "code",
   "execution_count": 102,
   "id": "2a9f1156",
   "metadata": {
    "execution": {
     "iopub.execute_input": "2024-08-09T18:00:34.701004Z",
     "iopub.status.busy": "2024-08-09T18:00:34.700424Z",
     "iopub.status.idle": "2024-08-09T18:00:34.707015Z",
     "shell.execute_reply": "2024-08-09T18:00:34.705819Z"
    },
    "papermill": {
     "duration": 0.0883,
     "end_time": "2024-08-09T18:00:34.710265",
     "exception": false,
     "start_time": "2024-08-09T18:00:34.621965",
     "status": "completed"
    },
    "tags": []
   },
   "outputs": [],
   "source": [
    "#columns=['Latitude', 'Longitude', 'Victim_Age', 'Time_hours', 'Time_minutes','Reporting_District_no','Weapon_Used_Code']                                                                                                            "
   ]
  },
  {
   "cell_type": "code",
   "execution_count": 103,
   "id": "72e03e6f",
   "metadata": {
    "execution": {
     "iopub.execute_input": "2024-08-09T18:00:34.868714Z",
     "iopub.status.busy": "2024-08-09T18:00:34.868101Z",
     "iopub.status.idle": "2024-08-09T18:00:34.875218Z",
     "shell.execute_reply": "2024-08-09T18:00:34.873745Z"
    },
    "papermill": {
     "duration": 0.087517,
     "end_time": "2024-08-09T18:00:34.877983",
     "exception": false,
     "start_time": "2024-08-09T18:00:34.790466",
     "status": "completed"
    },
    "tags": []
   },
   "outputs": [],
   "source": [
    "from sklearn.preprocessing import StandardScaler\n",
    "sc=StandardScaler()\n",
    "\n"
   ]
  },
  {
   "cell_type": "code",
   "execution_count": 104,
   "id": "79e0f207",
   "metadata": {
    "execution": {
     "iopub.execute_input": "2024-08-09T18:00:35.033421Z",
     "iopub.status.busy": "2024-08-09T18:00:35.033007Z",
     "iopub.status.idle": "2024-08-09T18:00:35.092560Z",
     "shell.execute_reply": "2024-08-09T18:00:35.091225Z"
    },
    "papermill": {
     "duration": 0.142512,
     "end_time": "2024-08-09T18:00:35.095337",
     "exception": false,
     "start_time": "2024-08-09T18:00:34.952825",
     "status": "completed"
    },
    "tags": []
   },
   "outputs": [],
   "source": [
    "X_sc=sc.fit_transform(X_pp)\n",
    "x_tr=pd.DataFrame(X_sc,columns=X_pp.columns)"
   ]
  },
  {
   "cell_type": "code",
   "execution_count": 105,
   "id": "fa75d4d4",
   "metadata": {
    "execution": {
     "iopub.execute_input": "2024-08-09T18:00:35.245100Z",
     "iopub.status.busy": "2024-08-09T18:00:35.244697Z",
     "iopub.status.idle": "2024-08-09T18:00:35.277288Z",
     "shell.execute_reply": "2024-08-09T18:00:35.275686Z"
    },
    "papermill": {
     "duration": 0.111642,
     "end_time": "2024-08-09T18:00:35.280162",
     "exception": false,
     "start_time": "2024-08-09T18:00:35.168520",
     "status": "completed"
    },
    "tags": []
   },
   "outputs": [
    {
     "name": "stdout",
     "output_type": "stream",
     "text": [
      "<class 'pandas.core.frame.DataFrame'>\n",
      "RangeIndex: 5000 entries, 0 to 4999\n",
      "Columns: 387 entries, Latitude to 0853\n",
      "dtypes: float64(6), int32(4), int64(8), int8(369)\n",
      "memory usage: 2.4 MB\n"
     ]
    }
   ],
   "source": [
    "test_df.info()"
   ]
  },
  {
   "cell_type": "code",
   "execution_count": 106,
   "id": "d6583646",
   "metadata": {
    "execution": {
     "iopub.execute_input": "2024-08-09T18:00:35.432082Z",
     "iopub.status.busy": "2024-08-09T18:00:35.431658Z",
     "iopub.status.idle": "2024-08-09T18:00:35.456000Z",
     "shell.execute_reply": "2024-08-09T18:00:35.454700Z"
    },
    "papermill": {
     "duration": 0.102259,
     "end_time": "2024-08-09T18:00:35.459033",
     "exception": false,
     "start_time": "2024-08-09T18:00:35.356774",
     "status": "completed"
    },
    "tags": []
   },
   "outputs": [],
   "source": [
    "X_tesc=sc.fit_transform(X_ppte)\n",
    "x_te=pd.DataFrame(X_tesc,columns=X_ppte.columns)"
   ]
  },
  {
   "cell_type": "code",
   "execution_count": 107,
   "id": "dfdc7152",
   "metadata": {
    "execution": {
     "iopub.execute_input": "2024-08-09T18:00:35.612607Z",
     "iopub.status.busy": "2024-08-09T18:00:35.612177Z",
     "iopub.status.idle": "2024-08-09T18:00:35.630387Z",
     "shell.execute_reply": "2024-08-09T18:00:35.629216Z"
    },
    "papermill": {
     "duration": 0.098156,
     "end_time": "2024-08-09T18:00:35.633755",
     "exception": false,
     "start_time": "2024-08-09T18:00:35.535599",
     "status": "completed"
    },
    "tags": []
   },
   "outputs": [],
   "source": [
    "x_train, x_val, y_train, y_val = train_test_split(\n",
    "    x_tr,Y, test_size=0.3, random_state=42)"
   ]
  },
  {
   "cell_type": "code",
   "execution_count": 108,
   "id": "d0ea896e",
   "metadata": {
    "execution": {
     "iopub.execute_input": "2024-08-09T18:00:35.787601Z",
     "iopub.status.busy": "2024-08-09T18:00:35.787107Z",
     "iopub.status.idle": "2024-08-09T18:00:35.805908Z",
     "shell.execute_reply": "2024-08-09T18:00:35.804437Z"
    },
    "papermill": {
     "duration": 0.099302,
     "end_time": "2024-08-09T18:00:35.808992",
     "exception": false,
     "start_time": "2024-08-09T18:00:35.709690",
     "status": "completed"
    },
    "tags": []
   },
   "outputs": [
    {
     "name": "stdout",
     "output_type": "stream",
     "text": [
      "<class 'pandas.core.frame.DataFrame'>\n",
      "Index: 14000 entries, 17218 to 15795\n",
      "Columns: 125 entries, pca0 to pca124\n",
      "dtypes: float64(125)\n",
      "memory usage: 13.5 MB\n"
     ]
    }
   ],
   "source": [
    "x_train.info()"
   ]
  },
  {
   "cell_type": "code",
   "execution_count": 109,
   "id": "f82b098e",
   "metadata": {
    "execution": {
     "iopub.execute_input": "2024-08-09T18:00:35.960913Z",
     "iopub.status.busy": "2024-08-09T18:00:35.960300Z",
     "iopub.status.idle": "2024-08-09T18:00:38.326145Z",
     "shell.execute_reply": "2024-08-09T18:00:38.324800Z"
    },
    "papermill": {
     "duration": 2.445701,
     "end_time": "2024-08-09T18:00:38.329302",
     "exception": false,
     "start_time": "2024-08-09T18:00:35.883601",
     "status": "completed"
    },
    "tags": []
   },
   "outputs": [
    {
     "data": {
      "text/plain": [
       "<Axes: >"
      ]
     },
     "execution_count": 109,
     "metadata": {},
     "output_type": "execute_result"
    },
    {
     "data": {
      "image/png": "[encoded data removed]",
      "text/plain": [
       "<Figure size 640x480 with 2 Axes>"
      ]
     },
     "metadata": {},
     "output_type": "display_data"
    }
   ],
   "source": [
    "corr=x_train.corr()\n",
    "sns.heatmap(corr)"
   ]
  },
  {
   "cell_type": "markdown",
   "id": "38228ad1",
   "metadata": {
    "papermill": {
     "duration": 0.076794,
     "end_time": "2024-08-09T18:00:38.484011",
     "exception": false,
     "start_time": "2024-08-09T18:00:38.407217",
     "status": "completed"
    },
    "tags": []
   },
   "source": [
    "# Model Training"
   ]
  },
  {
   "cell_type": "markdown",
   "id": "95dcec62",
   "metadata": {
    "papermill": {
     "duration": 0.074025,
     "end_time": "2024-08-09T18:00:38.633607",
     "exception": false,
     "start_time": "2024-08-09T18:00:38.559582",
     "status": "completed"
    },
    "tags": []
   },
   "source": [
    "# Logistic Regression"
   ]
  },
  {
   "cell_type": "code",
   "execution_count": 110,
   "id": "66160529",
   "metadata": {
    "execution": {
     "iopub.execute_input": "2024-08-09T18:00:38.792010Z",
     "iopub.status.busy": "2024-08-09T18:00:38.791556Z",
     "iopub.status.idle": "2024-08-09T18:00:38.799030Z",
     "shell.execute_reply": "2024-08-09T18:00:38.797630Z"
    },
    "papermill": {
     "duration": 0.091226,
     "end_time": "2024-08-09T18:00:38.802006",
     "exception": false,
     "start_time": "2024-08-09T18:00:38.710780",
     "status": "completed"
    },
    "tags": []
   },
   "outputs": [
    {
     "data": {
      "text/plain": [
       "'from sklearn.linear_model import LogisticRegression\\nle=LogisticRegression(max_iter=1000,n_jobs=-1)'"
      ]
     },
     "execution_count": 110,
     "metadata": {},
     "output_type": "execute_result"
    }
   ],
   "source": [
    "'''from sklearn.linear_model import LogisticRegression\n",
    "le=LogisticRegression(max_iter=1000,n_jobs=-1)'''"
   ]
  },
  {
   "cell_type": "code",
   "execution_count": 111,
   "id": "1693fab1",
   "metadata": {
    "execution": {
     "iopub.execute_input": "2024-08-09T18:00:38.958668Z",
     "iopub.status.busy": "2024-08-09T18:00:38.957530Z",
     "iopub.status.idle": "2024-08-09T18:00:38.965695Z",
     "shell.execute_reply": "2024-08-09T18:00:38.964491Z"
    },
    "papermill": {
     "duration": 0.088033,
     "end_time": "2024-08-09T18:00:38.968212",
     "exception": false,
     "start_time": "2024-08-09T18:00:38.880179",
     "status": "completed"
    },
    "tags": []
   },
   "outputs": [
    {
     "data": {
      "text/plain": [
       "'le.fit(x_train,y_train.values.ravel())\\nle.score(x_train,y_train.values.ravel())'"
      ]
     },
     "execution_count": 111,
     "metadata": {},
     "output_type": "execute_result"
    }
   ],
   "source": [
    "'''le.fit(x_train,y_train.values.ravel())\n",
    "le.score(x_train,y_train.values.ravel())'''"
   ]
  },
  {
   "cell_type": "code",
   "execution_count": 112,
   "id": "f6ce77c5",
   "metadata": {
    "_kg_hide-output": true,
    "execution": {
     "iopub.execute_input": "2024-08-09T18:00:39.128100Z",
     "iopub.status.busy": "2024-08-09T18:00:39.127704Z",
     "iopub.status.idle": "2024-08-09T18:00:39.135315Z",
     "shell.execute_reply": "2024-08-09T18:00:39.134115Z"
    },
    "papermill": {
     "duration": 0.092468,
     "end_time": "2024-08-09T18:00:39.138212",
     "exception": false,
     "start_time": "2024-08-09T18:00:39.045744",
     "status": "completed"
    },
    "tags": []
   },
   "outputs": [
    {
     "data": {
      "text/plain": [
       "\"from sklearn.model_selection import cross_val_score\\nx=cross_val_score(le,x_train,y_train.values.ravel(),cv=10,scoring='accuracy')\\nx.mean()\""
      ]
     },
     "execution_count": 112,
     "metadata": {},
     "output_type": "execute_result"
    }
   ],
   "source": [
    "'''from sklearn.model_selection import cross_val_score\n",
    "x=cross_val_score(le,x_train,y_train.values.ravel(),cv=10,scoring='accuracy')\n",
    "x.mean()'''"
   ]
  },
  {
   "cell_type": "code",
   "execution_count": 113,
   "id": "6fe5e19a",
   "metadata": {
    "execution": {
     "iopub.execute_input": "2024-08-09T18:00:39.299216Z",
     "iopub.status.busy": "2024-08-09T18:00:39.298779Z",
     "iopub.status.idle": "2024-08-09T18:00:39.304760Z",
     "shell.execute_reply": "2024-08-09T18:00:39.303541Z"
    },
    "papermill": {
     "duration": 0.091122,
     "end_time": "2024-08-09T18:00:39.307318",
     "exception": false,
     "start_time": "2024-08-09T18:00:39.216196",
     "status": "completed"
    },
    "tags": []
   },
   "outputs": [],
   "source": [
    "from sklearn.model_selection import ShuffleSplit\n",
    "ss=ShuffleSplit(n_splits=3,test_size=0.3,random_state=34)"
   ]
  },
  {
   "cell_type": "code",
   "execution_count": 114,
   "id": "eeff0c2c",
   "metadata": {
    "execution": {
     "iopub.execute_input": "2024-08-09T18:00:39.481206Z",
     "iopub.status.busy": "2024-08-09T18:00:39.480813Z",
     "iopub.status.idle": "2024-08-09T18:00:39.488370Z",
     "shell.execute_reply": "2024-08-09T18:00:39.487112Z"
    },
    "papermill": {
     "duration": 0.088731,
     "end_time": "2024-08-09T18:00:39.491352",
     "exception": false,
     "start_time": "2024-08-09T18:00:39.402621",
     "status": "completed"
    },
    "tags": []
   },
   "outputs": [
    {
     "data": {
      "text/plain": [
       "\"from sklearn.model_selection import cross_validate\\nscores=cross_validate(le,X_tr,Y.values.ravel(),cv=ss,scoring='accuracy',return_estimator=True,return_train_score=True)\""
      ]
     },
     "execution_count": 114,
     "metadata": {},
     "output_type": "execute_result"
    }
   ],
   "source": [
    "'''from sklearn.model_selection import cross_validate\n",
    "scores=cross_validate(le,X_tr,Y.values.ravel(),cv=ss,scoring='accuracy',return_estimator=True,return_train_score=True)'''"
   ]
  },
  {
   "cell_type": "code",
   "execution_count": 115,
   "id": "09da01f4",
   "metadata": {
    "execution": {
     "iopub.execute_input": "2024-08-09T18:00:39.647346Z",
     "iopub.status.busy": "2024-08-09T18:00:39.646913Z",
     "iopub.status.idle": "2024-08-09T18:00:39.654789Z",
     "shell.execute_reply": "2024-08-09T18:00:39.653576Z"
    },
    "papermill": {
     "duration": 0.088947,
     "end_time": "2024-08-09T18:00:39.657314",
     "exception": false,
     "start_time": "2024-08-09T18:00:39.568367",
     "status": "completed"
    },
    "tags": []
   },
   "outputs": [
    {
     "data": {
      "text/plain": [
       "\"errors=-scores['test_score']\\nid=np.argmin(errors)\\nbestmodel=scores['estimator'][id]\\nbestmodel.score(x_val,y_val)\""
      ]
     },
     "execution_count": 115,
     "metadata": {},
     "output_type": "execute_result"
    }
   ],
   "source": [
    "'''errors=-scores['test_score']\n",
    "id=np.argmin(errors)\n",
    "bestmodel=scores['estimator'][id]\n",
    "bestmodel.score(x_val,y_val)'''"
   ]
  },
  {
   "cell_type": "markdown",
   "id": "4e3677b1",
   "metadata": {
    "papermill": {
     "duration": 0.077512,
     "end_time": "2024-08-09T18:00:39.814402",
     "exception": false,
     "start_time": "2024-08-09T18:00:39.736890",
     "status": "completed"
    },
    "tags": []
   },
   "source": [
    "# Decision Tree"
   ]
  },
  {
   "cell_type": "code",
   "execution_count": 116,
   "id": "30bb48b6",
   "metadata": {
    "execution": {
     "iopub.execute_input": "2024-08-09T18:00:39.972509Z",
     "iopub.status.busy": "2024-08-09T18:00:39.971115Z",
     "iopub.status.idle": "2024-08-09T18:00:39.979619Z",
     "shell.execute_reply": "2024-08-09T18:00:39.978261Z"
    },
    "papermill": {
     "duration": 0.089479,
     "end_time": "2024-08-09T18:00:39.982294",
     "exception": false,
     "start_time": "2024-08-09T18:00:39.892815",
     "status": "completed"
    },
    "tags": []
   },
   "outputs": [
    {
     "data": {
      "text/plain": [
       "'from sklearn.tree import DecisionTreeClassifier\\nde=DecisionTreeClassifier()\\nde.fit(x_train,y_train)\\nde.score(x_val,y_val)'"
      ]
     },
     "execution_count": 116,
     "metadata": {},
     "output_type": "execute_result"
    }
   ],
   "source": [
    "'''from sklearn.tree import DecisionTreeClassifier\n",
    "de=DecisionTreeClassifier()\n",
    "de.fit(x_train,y_train)\n",
    "de.score(x_val,y_val)'''\n"
   ]
  },
  {
   "cell_type": "code",
   "execution_count": 117,
   "id": "44e78526",
   "metadata": {
    "execution": {
     "iopub.execute_input": "2024-08-09T18:00:40.141086Z",
     "iopub.status.busy": "2024-08-09T18:00:40.140182Z",
     "iopub.status.idle": "2024-08-09T18:00:40.148081Z",
     "shell.execute_reply": "2024-08-09T18:00:40.146561Z"
    },
    "papermill": {
     "duration": 0.090297,
     "end_time": "2024-08-09T18:00:40.151091",
     "exception": false,
     "start_time": "2024-08-09T18:00:40.060794",
     "status": "completed"
    },
    "tags": []
   },
   "outputs": [
    {
     "data": {
      "text/plain": [
       "\"from sklearn.model_selection import cross_val_score\\nx=cross_val_score(de,x_train,y_train.values.ravel(),cv=10,scoring='accuracy')\\nx.mean()\""
      ]
     },
     "execution_count": 117,
     "metadata": {},
     "output_type": "execute_result"
    }
   ],
   "source": [
    "'''from sklearn.model_selection import cross_val_score\n",
    "x=cross_val_score(de,x_train,y_train.values.ravel(),cv=10,scoring='accuracy')\n",
    "x.mean()'''"
   ]
  },
  {
   "cell_type": "code",
   "execution_count": 118,
   "id": "62cd947e",
   "metadata": {
    "execution": {
     "iopub.execute_input": "2024-08-09T18:00:40.381945Z",
     "iopub.status.busy": "2024-08-09T18:00:40.380871Z",
     "iopub.status.idle": "2024-08-09T18:00:40.389113Z",
     "shell.execute_reply": "2024-08-09T18:00:40.387893Z"
    },
    "papermill": {
     "duration": 0.16236,
     "end_time": "2024-08-09T18:00:40.391910",
     "exception": false,
     "start_time": "2024-08-09T18:00:40.229550",
     "status": "completed"
    },
    "tags": []
   },
   "outputs": [
    {
     "data": {
      "text/plain": [
       "\"from sklearn.model_selection import cross_validate\\nscoresdt=cross_validate(de,x_train,y_train.values.ravel(),cv=ss,scoring='accuracy',return_estimator=True,return_train_score=True,verbose=1,n_jobs=-1)\""
      ]
     },
     "execution_count": 118,
     "metadata": {},
     "output_type": "execute_result"
    }
   ],
   "source": [
    "'''from sklearn.model_selection import cross_validate\n",
    "scoresdt=cross_validate(de,x_train,y_train.values.ravel(),cv=ss,scoring='accuracy',return_estimator=True,return_train_score=True,verbose=1,n_jobs=-1)'''"
   ]
  },
  {
   "cell_type": "code",
   "execution_count": 119,
   "id": "776b0cf4",
   "metadata": {
    "execution": {
     "iopub.execute_input": "2024-08-09T18:00:40.549598Z",
     "iopub.status.busy": "2024-08-09T18:00:40.549164Z",
     "iopub.status.idle": "2024-08-09T18:00:40.557083Z",
     "shell.execute_reply": "2024-08-09T18:00:40.555762Z"
    },
    "papermill": {
     "duration": 0.090947,
     "end_time": "2024-08-09T18:00:40.560161",
     "exception": false,
     "start_time": "2024-08-09T18:00:40.469214",
     "status": "completed"
    },
    "tags": []
   },
   "outputs": [
    {
     "data": {
      "text/plain": [
       "\"errors=-scoresdt['test_score']\\nidd=np.argmin(errors)\\nbestmodeldt=scoresdt['estimator'][idd]\\nbestmodeldt.score(x_val,y_val)\""
      ]
     },
     "execution_count": 119,
     "metadata": {},
     "output_type": "execute_result"
    }
   ],
   "source": [
    "'''errors=-scoresdt['test_score']\n",
    "idd=np.argmin(errors)\n",
    "bestmodeldt=scoresdt['estimator'][idd]\n",
    "bestmodeldt.score(x_val,y_val)'''"
   ]
  },
  {
   "cell_type": "code",
   "execution_count": 120,
   "id": "3a3639a5",
   "metadata": {
    "execution": {
     "iopub.execute_input": "2024-08-09T18:00:40.721548Z",
     "iopub.status.busy": "2024-08-09T18:00:40.720238Z",
     "iopub.status.idle": "2024-08-09T18:00:40.728344Z",
     "shell.execute_reply": "2024-08-09T18:00:40.727134Z"
    },
    "papermill": {
     "duration": 0.092603,
     "end_time": "2024-08-09T18:00:40.731049",
     "exception": false,
     "start_time": "2024-08-09T18:00:40.638446",
     "status": "completed"
    },
    "tags": []
   },
   "outputs": [
    {
     "data": {
      "text/plain": [
       "\"param_grid={'criterion':['gini','entropy'],\\n           'max_depth':[5,10,15],\\n           'min_impurity_decrease':[0.1,0.01,0.001],\\n           'min_samples_split':range(10,15),\\n           'min_samples_leaf':range(5,10),\\n            'max_features':[1,0.5],\\n            }\""
      ]
     },
     "execution_count": 120,
     "metadata": {},
     "output_type": "execute_result"
    }
   ],
   "source": [
    "'''param_grid={'criterion':['gini','entropy'],\n",
    "           'max_depth':[5,10,15],\n",
    "           'min_impurity_decrease':[0.1,0.01,0.001],\n",
    "           'min_samples_split':range(10,15),\n",
    "           'min_samples_leaf':range(5,10),\n",
    "            'max_features':[1,0.5],\n",
    "            }'''"
   ]
  },
  {
   "cell_type": "code",
   "execution_count": 121,
   "id": "374d8b33",
   "metadata": {
    "execution": {
     "iopub.execute_input": "2024-08-09T18:00:40.891544Z",
     "iopub.status.busy": "2024-08-09T18:00:40.891035Z",
     "iopub.status.idle": "2024-08-09T18:00:40.897097Z",
     "shell.execute_reply": "2024-08-09T18:00:40.895818Z"
    },
    "papermill": {
     "duration": 0.08899,
     "end_time": "2024-08-09T18:00:40.900025",
     "exception": false,
     "start_time": "2024-08-09T18:00:40.811035",
     "status": "completed"
    },
    "tags": []
   },
   "outputs": [],
   "source": [
    "#from sklearn.model_selection import GridSearchCV\n",
    "#cvmodeld=GridSearchCV(de,param_grid,cv=ss,scoring='accuracy',verbose=1,n_jobs=-1)"
   ]
  },
  {
   "cell_type": "code",
   "execution_count": 122,
   "id": "a670ea16",
   "metadata": {
    "execution": {
     "iopub.execute_input": "2024-08-09T18:00:41.058212Z",
     "iopub.status.busy": "2024-08-09T18:00:41.057781Z",
     "iopub.status.idle": "2024-08-09T18:00:41.062986Z",
     "shell.execute_reply": "2024-08-09T18:00:41.061767Z"
    },
    "papermill": {
     "duration": 0.087886,
     "end_time": "2024-08-09T18:00:41.065600",
     "exception": false,
     "start_time": "2024-08-09T18:00:40.977714",
     "status": "completed"
    },
    "tags": []
   },
   "outputs": [],
   "source": [
    "#cvmodeld.fit(x_train,y_train.values.ravel())"
   ]
  },
  {
   "cell_type": "code",
   "execution_count": 123,
   "id": "a200dd6c",
   "metadata": {
    "execution": {
     "iopub.execute_input": "2024-08-09T18:00:41.224627Z",
     "iopub.status.busy": "2024-08-09T18:00:41.224186Z",
     "iopub.status.idle": "2024-08-09T18:00:41.229666Z",
     "shell.execute_reply": "2024-08-09T18:00:41.228346Z"
    },
    "papermill": {
     "duration": 0.087931,
     "end_time": "2024-08-09T18:00:41.232213",
     "exception": false,
     "start_time": "2024-08-09T18:00:41.144282",
     "status": "completed"
    },
    "tags": []
   },
   "outputs": [],
   "source": [
    "#cvmodeld.best_params_"
   ]
  },
  {
   "cell_type": "code",
   "execution_count": 124,
   "id": "4ce01ea8",
   "metadata": {
    "execution": {
     "iopub.execute_input": "2024-08-09T18:00:41.391419Z",
     "iopub.status.busy": "2024-08-09T18:00:41.390984Z",
     "iopub.status.idle": "2024-08-09T18:00:41.396119Z",
     "shell.execute_reply": "2024-08-09T18:00:41.394913Z"
    },
    "papermill": {
     "duration": 0.08829,
     "end_time": "2024-08-09T18:00:41.398988",
     "exception": false,
     "start_time": "2024-08-09T18:00:41.310698",
     "status": "completed"
    },
    "tags": []
   },
   "outputs": [],
   "source": [
    "#bestmodeldcv=cvmodeld.best_estimator_\n",
    "#bestmodeldcv.score(x_val,y_val)"
   ]
  },
  {
   "cell_type": "markdown",
   "id": "a54bdf4e",
   "metadata": {
    "papermill": {
     "duration": 0.080193,
     "end_time": "2024-08-09T18:00:41.557956",
     "exception": false,
     "start_time": "2024-08-09T18:00:41.477763",
     "status": "completed"
    },
    "tags": []
   },
   "source": [
    "# Voting Classifier"
   ]
  },
  {
   "cell_type": "code",
   "execution_count": 125,
   "id": "892029eb",
   "metadata": {
    "execution": {
     "iopub.execute_input": "2024-08-09T18:00:41.717538Z",
     "iopub.status.busy": "2024-08-09T18:00:41.717088Z",
     "iopub.status.idle": "2024-08-09T18:00:41.722419Z",
     "shell.execute_reply": "2024-08-09T18:00:41.721184Z"
    },
    "papermill": {
     "duration": 0.089402,
     "end_time": "2024-08-09T18:00:41.725236",
     "exception": false,
     "start_time": "2024-08-09T18:00:41.635834",
     "status": "completed"
    },
    "tags": []
   },
   "outputs": [],
   "source": [
    "#from sklearn.ensemble import VotingClassifier"
   ]
  },
  {
   "cell_type": "code",
   "execution_count": 126,
   "id": "afca515f",
   "metadata": {
    "execution": {
     "iopub.execute_input": "2024-08-09T18:00:41.883764Z",
     "iopub.status.busy": "2024-08-09T18:00:41.883303Z",
     "iopub.status.idle": "2024-08-09T18:00:41.891265Z",
     "shell.execute_reply": "2024-08-09T18:00:41.890074Z"
    },
    "papermill": {
     "duration": 0.090006,
     "end_time": "2024-08-09T18:00:41.894051",
     "exception": false,
     "start_time": "2024-08-09T18:00:41.804045",
     "status": "completed"
    },
    "tags": []
   },
   "outputs": [
    {
     "data": {
      "text/plain": [
       "\"from sklearn.linear_model import LogisticRegression\\nfrom sklearn.ensemble import RandomForestClassifier\\nfrom sklearn.tree import DecisionTreeClassifier\\nlr=LogisticRegression(max_iter=1000,n_jobs=-1)\\nrf=RandomForestClassifier()\\ndtc=DecisionTreeClassifier(criterion='entropy',max_depth=15,max_features=0.5,min_impurity_decrease=0.001,min_samples_leaf=6,min_samples_split=11)\""
      ]
     },
     "execution_count": 126,
     "metadata": {},
     "output_type": "execute_result"
    }
   ],
   "source": [
    "'''from sklearn.linear_model import LogisticRegression\n",
    "from sklearn.ensemble import RandomForestClassifier\n",
    "from sklearn.tree import DecisionTreeClassifier\n",
    "lr=LogisticRegression(max_iter=1000,n_jobs=-1)\n",
    "rf=RandomForestClassifier()\n",
    "dtc=DecisionTreeClassifier(criterion='entropy',max_depth=15,max_features=0.5,min_impurity_decrease=0.001,min_samples_leaf=6,min_samples_split=11)'''"
   ]
  },
  {
   "cell_type": "code",
   "execution_count": 127,
   "id": "f53a569b",
   "metadata": {
    "execution": {
     "iopub.execute_input": "2024-08-09T18:00:42.054139Z",
     "iopub.status.busy": "2024-08-09T18:00:42.053079Z",
     "iopub.status.idle": "2024-08-09T18:00:42.058409Z",
     "shell.execute_reply": "2024-08-09T18:00:42.057162Z"
    },
    "papermill": {
     "duration": 0.088146,
     "end_time": "2024-08-09T18:00:42.060892",
     "exception": false,
     "start_time": "2024-08-09T18:00:41.972746",
     "status": "completed"
    },
    "tags": []
   },
   "outputs": [],
   "source": [
    "#estimators=[('lr',lr),('dtc',dtc),('rfc',rf)]"
   ]
  },
  {
   "cell_type": "code",
   "execution_count": 128,
   "id": "7eb3774c",
   "metadata": {
    "execution": {
     "iopub.execute_input": "2024-08-09T18:00:42.222229Z",
     "iopub.status.busy": "2024-08-09T18:00:42.221075Z",
     "iopub.status.idle": "2024-08-09T18:00:42.226375Z",
     "shell.execute_reply": "2024-08-09T18:00:42.225323Z"
    },
    "papermill": {
     "duration": 0.088765,
     "end_time": "2024-08-09T18:00:42.229354",
     "exception": false,
     "start_time": "2024-08-09T18:00:42.140589",
     "status": "completed"
    },
    "tags": []
   },
   "outputs": [],
   "source": [
    "#vc=VotingClassifier(estimators,weights=[1,2,1])"
   ]
  },
  {
   "cell_type": "code",
   "execution_count": 129,
   "id": "1d7c94f3",
   "metadata": {
    "execution": {
     "iopub.execute_input": "2024-08-09T18:00:42.393130Z",
     "iopub.status.busy": "2024-08-09T18:00:42.392654Z",
     "iopub.status.idle": "2024-08-09T18:00:42.398214Z",
     "shell.execute_reply": "2024-08-09T18:00:42.396926Z"
    },
    "papermill": {
     "duration": 0.09008,
     "end_time": "2024-08-09T18:00:42.400797",
     "exception": false,
     "start_time": "2024-08-09T18:00:42.310717",
     "status": "completed"
    },
    "tags": []
   },
   "outputs": [],
   "source": [
    "#y_train.values"
   ]
  },
  {
   "cell_type": "code",
   "execution_count": 130,
   "id": "28aebb73",
   "metadata": {
    "execution": {
     "iopub.execute_input": "2024-08-09T18:00:42.559830Z",
     "iopub.status.busy": "2024-08-09T18:00:42.559367Z",
     "iopub.status.idle": "2024-08-09T18:00:42.564697Z",
     "shell.execute_reply": "2024-08-09T18:00:42.563380Z"
    },
    "papermill": {
     "duration": 0.088,
     "end_time": "2024-08-09T18:00:42.567546",
     "exception": false,
     "start_time": "2024-08-09T18:00:42.479546",
     "status": "completed"
    },
    "tags": []
   },
   "outputs": [],
   "source": [
    "#vc.fit(x_train,y_train.values.ravel())"
   ]
  },
  {
   "cell_type": "code",
   "execution_count": 131,
   "id": "b85bb940",
   "metadata": {
    "execution": {
     "iopub.execute_input": "2024-08-09T18:00:42.728867Z",
     "iopub.status.busy": "2024-08-09T18:00:42.728119Z",
     "iopub.status.idle": "2024-08-09T18:00:42.733192Z",
     "shell.execute_reply": "2024-08-09T18:00:42.732013Z"
    },
    "papermill": {
     "duration": 0.090193,
     "end_time": "2024-08-09T18:00:42.735952",
     "exception": false,
     "start_time": "2024-08-09T18:00:42.645759",
     "status": "completed"
    },
    "tags": []
   },
   "outputs": [],
   "source": [
    "#vc.score(x_val,y_val)"
   ]
  },
  {
   "cell_type": "code",
   "execution_count": 132,
   "id": "0c55eea8",
   "metadata": {
    "execution": {
     "iopub.execute_input": "2024-08-09T18:00:42.898362Z",
     "iopub.status.busy": "2024-08-09T18:00:42.897926Z",
     "iopub.status.idle": "2024-08-09T18:00:42.905524Z",
     "shell.execute_reply": "2024-08-09T18:00:42.904398Z"
    },
    "papermill": {
     "duration": 0.091133,
     "end_time": "2024-08-09T18:00:42.908120",
     "exception": false,
     "start_time": "2024-08-09T18:00:42.816987",
     "status": "completed"
    },
    "tags": []
   },
   "outputs": [
    {
     "data": {
      "text/plain": [
       "\"from sklearn.model_selection import cross_validate\\nscoresvc=cross_validate(vc,x_train,y_train.values.ravel(),cv=ss,scoring='accuracy',return_estimator=True,return_train_score=True,verbose=1,n_jobs=-1)\""
      ]
     },
     "execution_count": 132,
     "metadata": {},
     "output_type": "execute_result"
    }
   ],
   "source": [
    "'''from sklearn.model_selection import cross_validate\n",
    "scoresvc=cross_validate(vc,x_train,y_train.values.ravel(),cv=ss,scoring='accuracy',return_estimator=True,return_train_score=True,verbose=1,n_jobs=-1)'''"
   ]
  },
  {
   "cell_type": "code",
   "execution_count": 133,
   "id": "9365507c",
   "metadata": {
    "execution": {
     "iopub.execute_input": "2024-08-09T18:00:43.070384Z",
     "iopub.status.busy": "2024-08-09T18:00:43.069607Z",
     "iopub.status.idle": "2024-08-09T18:00:43.077298Z",
     "shell.execute_reply": "2024-08-09T18:00:43.076004Z"
    },
    "papermill": {
     "duration": 0.091497,
     "end_time": "2024-08-09T18:00:43.079920",
     "exception": false,
     "start_time": "2024-08-09T18:00:42.988423",
     "status": "completed"
    },
    "tags": []
   },
   "outputs": [
    {
     "data": {
      "text/plain": [
       "\"errors=-scoresvc['test_score']\\nidd=np.argmin(errors)\\nbestmodelvc=scoresvc['estimator'][idd]\\nbestmodelvc.score(x_val,y_val)\""
      ]
     },
     "execution_count": 133,
     "metadata": {},
     "output_type": "execute_result"
    }
   ],
   "source": [
    "'''errors=-scoresvc['test_score']\n",
    "idd=np.argmin(errors)\n",
    "bestmodelvc=scoresvc['estimator'][idd]\n",
    "bestmodelvc.score(x_val,y_val)'''"
   ]
  },
  {
   "cell_type": "code",
   "execution_count": 134,
   "id": "edce9ed5",
   "metadata": {
    "execution": {
     "iopub.execute_input": "2024-08-09T18:00:43.241249Z",
     "iopub.status.busy": "2024-08-09T18:00:43.240803Z",
     "iopub.status.idle": "2024-08-09T18:00:43.246103Z",
     "shell.execute_reply": "2024-08-09T18:00:43.244895Z"
    },
    "papermill": {
     "duration": 0.089659,
     "end_time": "2024-08-09T18:00:43.248906",
     "exception": false,
     "start_time": "2024-08-09T18:00:43.159247",
     "status": "completed"
    },
    "tags": []
   },
   "outputs": [],
   "source": [
    "#param_grid={'weights':[[1,2,2],[1,1,2],[1,2,3],[1,3,3],[1,2,1],[1,3,2],[2,2,2],[3,2,2]]}"
   ]
  },
  {
   "cell_type": "code",
   "execution_count": 135,
   "id": "c3b4445f",
   "metadata": {
    "execution": {
     "iopub.execute_input": "2024-08-09T18:00:43.411553Z",
     "iopub.status.busy": "2024-08-09T18:00:43.411062Z",
     "iopub.status.idle": "2024-08-09T18:00:43.417041Z",
     "shell.execute_reply": "2024-08-09T18:00:43.415560Z"
    },
    "papermill": {
     "duration": 0.091058,
     "end_time": "2024-08-09T18:00:43.419674",
     "exception": false,
     "start_time": "2024-08-09T18:00:43.328616",
     "status": "completed"
    },
    "tags": []
   },
   "outputs": [],
   "source": [
    "#from sklearn.model_selection import GridSearchCV\n",
    "#cvmodelvc=GridSearchCV(vc,param_grid,cv=ss,scoring='accuracy',verbose=1,n_jobs=-1)"
   ]
  },
  {
   "cell_type": "code",
   "execution_count": 136,
   "id": "68c77f74",
   "metadata": {
    "execution": {
     "iopub.execute_input": "2024-08-09T18:00:43.583898Z",
     "iopub.status.busy": "2024-08-09T18:00:43.583477Z",
     "iopub.status.idle": "2024-08-09T18:00:43.589025Z",
     "shell.execute_reply": "2024-08-09T18:00:43.587773Z"
    },
    "papermill": {
     "duration": 0.091834,
     "end_time": "2024-08-09T18:00:43.592072",
     "exception": false,
     "start_time": "2024-08-09T18:00:43.500238",
     "status": "completed"
    },
    "tags": []
   },
   "outputs": [],
   "source": [
    "#cvmodelvc.fit(x_train,y_train.values.ravel())"
   ]
  },
  {
   "cell_type": "code",
   "execution_count": 137,
   "id": "7207a47a",
   "metadata": {
    "execution": {
     "iopub.execute_input": "2024-08-09T18:00:43.756163Z",
     "iopub.status.busy": "2024-08-09T18:00:43.755721Z",
     "iopub.status.idle": "2024-08-09T18:00:43.761239Z",
     "shell.execute_reply": "2024-08-09T18:00:43.759919Z"
    },
    "papermill": {
     "duration": 0.09205,
     "end_time": "2024-08-09T18:00:43.764053",
     "exception": false,
     "start_time": "2024-08-09T18:00:43.672003",
     "status": "completed"
    },
    "tags": []
   },
   "outputs": [],
   "source": [
    "#bestmodelcvvc=cvmodelvc.best_estimator_\n",
    "#bestmodelcvvc.score(x_val,y_val)"
   ]
  },
  {
   "cell_type": "markdown",
   "id": "78704b93",
   "metadata": {
    "papermill": {
     "duration": 0.080472,
     "end_time": "2024-08-09T18:00:43.927087",
     "exception": false,
     "start_time": "2024-08-09T18:00:43.846615",
     "status": "completed"
    },
    "tags": []
   },
   "source": [
    "# Bagging Classifier"
   ]
  },
  {
   "cell_type": "code",
   "execution_count": 138,
   "id": "017df3cc",
   "metadata": {
    "execution": {
     "iopub.execute_input": "2024-08-09T18:00:44.090987Z",
     "iopub.status.busy": "2024-08-09T18:00:44.090487Z",
     "iopub.status.idle": "2024-08-09T18:00:44.097976Z",
     "shell.execute_reply": "2024-08-09T18:00:44.096774Z"
    },
    "papermill": {
     "duration": 0.093419,
     "end_time": "2024-08-09T18:00:44.100669",
     "exception": false,
     "start_time": "2024-08-09T18:00:44.007250",
     "status": "completed"
    },
    "tags": []
   },
   "outputs": [
    {
     "data": {
      "text/plain": [
       "'from sklearn.ensemble import BaggingClassifier\\nfrom sklearn.tree import DecisionTreeClassifier\\ndccb=DecisionTreeClassifier()\\nbc=BaggingClassifier()'"
      ]
     },
     "execution_count": 138,
     "metadata": {},
     "output_type": "execute_result"
    }
   ],
   "source": [
    "'''from sklearn.ensemble import BaggingClassifier\n",
    "from sklearn.tree import DecisionTreeClassifier\n",
    "dccb=DecisionTreeClassifier()\n",
    "bc=BaggingClassifier()'''"
   ]
  },
  {
   "cell_type": "code",
   "execution_count": 139,
   "id": "5aa833f8",
   "metadata": {
    "execution": {
     "iopub.execute_input": "2024-08-09T18:00:44.264025Z",
     "iopub.status.busy": "2024-08-09T18:00:44.263615Z",
     "iopub.status.idle": "2024-08-09T18:00:44.269131Z",
     "shell.execute_reply": "2024-08-09T18:00:44.267596Z"
    },
    "papermill": {
     "duration": 0.090147,
     "end_time": "2024-08-09T18:00:44.271900",
     "exception": false,
     "start_time": "2024-08-09T18:00:44.181753",
     "status": "completed"
    },
    "tags": []
   },
   "outputs": [],
   "source": [
    "#bc.fit(x_train,y_train.values.ravel())"
   ]
  },
  {
   "cell_type": "code",
   "execution_count": 140,
   "id": "f6be44d1",
   "metadata": {
    "execution": {
     "iopub.execute_input": "2024-08-09T18:00:44.435617Z",
     "iopub.status.busy": "2024-08-09T18:00:44.435137Z",
     "iopub.status.idle": "2024-08-09T18:00:44.440578Z",
     "shell.execute_reply": "2024-08-09T18:00:44.439333Z"
    },
    "papermill": {
     "duration": 0.091657,
     "end_time": "2024-08-09T18:00:44.443620",
     "exception": false,
     "start_time": "2024-08-09T18:00:44.351963",
     "status": "completed"
    },
    "tags": []
   },
   "outputs": [],
   "source": [
    "#bc.score(x_val,y_val)"
   ]
  },
  {
   "cell_type": "code",
   "execution_count": 141,
   "id": "fe8cbea5",
   "metadata": {
    "execution": {
     "iopub.execute_input": "2024-08-09T18:00:44.607404Z",
     "iopub.status.busy": "2024-08-09T18:00:44.606942Z",
     "iopub.status.idle": "2024-08-09T18:00:44.615045Z",
     "shell.execute_reply": "2024-08-09T18:00:44.613546Z"
    },
    "papermill": {
     "duration": 0.093407,
     "end_time": "2024-08-09T18:00:44.617778",
     "exception": false,
     "start_time": "2024-08-09T18:00:44.524371",
     "status": "completed"
    },
    "tags": []
   },
   "outputs": [
    {
     "data": {
      "text/plain": [
       "\"from sklearn.model_selection import cross_validate\\nscoresbc=cross_validate(bc,x_train,y_train.values.ravel(),cv=ss,scoring='accuracy',return_estimator=True,return_train_score=True,verbose=1,n_jobs=-1)\""
      ]
     },
     "execution_count": 141,
     "metadata": {},
     "output_type": "execute_result"
    }
   ],
   "source": [
    "'''from sklearn.model_selection import cross_validate\n",
    "scoresbc=cross_validate(bc,x_train,y_train.values.ravel(),cv=ss,scoring='accuracy',return_estimator=True,return_train_score=True,verbose=1,n_jobs=-1)'''"
   ]
  },
  {
   "cell_type": "code",
   "execution_count": 142,
   "id": "d1b699dd",
   "metadata": {
    "execution": {
     "iopub.execute_input": "2024-08-09T18:00:44.781148Z",
     "iopub.status.busy": "2024-08-09T18:00:44.780719Z",
     "iopub.status.idle": "2024-08-09T18:00:44.788557Z",
     "shell.execute_reply": "2024-08-09T18:00:44.787022Z"
    },
    "papermill": {
     "duration": 0.091606,
     "end_time": "2024-08-09T18:00:44.791252",
     "exception": false,
     "start_time": "2024-08-09T18:00:44.699646",
     "status": "completed"
    },
    "tags": []
   },
   "outputs": [
    {
     "data": {
      "text/plain": [
       "\"errors=-scoresbc['test_score']\\nidd=np.argmin(errors)\\nbestmodelbc=scoresbc['estimator'][idd]\\nbestmodelbc.score(x_val,y_val)\""
      ]
     },
     "execution_count": 142,
     "metadata": {},
     "output_type": "execute_result"
    }
   ],
   "source": [
    "'''errors=-scoresbc['test_score']\n",
    "idd=np.argmin(errors)\n",
    "bestmodelbc=scoresbc['estimator'][idd]\n",
    "bestmodelbc.score(x_val,y_val)'''"
   ]
  },
  {
   "cell_type": "code",
   "execution_count": 143,
   "id": "980b09e8",
   "metadata": {
    "execution": {
     "iopub.execute_input": "2024-08-09T18:00:44.956972Z",
     "iopub.status.busy": "2024-08-09T18:00:44.956524Z",
     "iopub.status.idle": "2024-08-09T18:00:44.964216Z",
     "shell.execute_reply": "2024-08-09T18:00:44.962921Z"
    },
    "papermill": {
     "duration": 0.093659,
     "end_time": "2024-08-09T18:00:44.967065",
     "exception": false,
     "start_time": "2024-08-09T18:00:44.873406",
     "status": "completed"
    },
    "tags": []
   },
   "outputs": [
    {
     "data": {
      "text/plain": [
       "\"param_grid={'max_samples':[1,0.75,0.5,0.25],\\n           'bootstrap':[True,False],\\n            'max_features':[1,0.75,0.50,0.25],\\n             'bootstrap_features':[True,False]}\""
      ]
     },
     "execution_count": 143,
     "metadata": {},
     "output_type": "execute_result"
    }
   ],
   "source": [
    "'''param_grid={'max_samples':[1,0.75,0.5,0.25],\n",
    "           'bootstrap':[True,False],\n",
    "            'max_features':[1,0.75,0.50,0.25],\n",
    "             'bootstrap_features':[True,False]}'''"
   ]
  },
  {
   "cell_type": "code",
   "execution_count": 144,
   "id": "d5d067cf",
   "metadata": {
    "execution": {
     "iopub.execute_input": "2024-08-09T18:00:45.131107Z",
     "iopub.status.busy": "2024-08-09T18:00:45.130687Z",
     "iopub.status.idle": "2024-08-09T18:00:45.136192Z",
     "shell.execute_reply": "2024-08-09T18:00:45.134819Z"
    },
    "papermill": {
     "duration": 0.091057,
     "end_time": "2024-08-09T18:00:45.139008",
     "exception": false,
     "start_time": "2024-08-09T18:00:45.047951",
     "status": "completed"
    },
    "tags": []
   },
   "outputs": [],
   "source": [
    "#from sklearn.model_selection import GridSearchCV"
   ]
  },
  {
   "cell_type": "code",
   "execution_count": 145,
   "id": "aa91dec3",
   "metadata": {
    "execution": {
     "iopub.execute_input": "2024-08-09T18:00:45.302958Z",
     "iopub.status.busy": "2024-08-09T18:00:45.302544Z",
     "iopub.status.idle": "2024-08-09T18:00:45.309931Z",
     "shell.execute_reply": "2024-08-09T18:00:45.308573Z"
    },
    "papermill": {
     "duration": 0.091518,
     "end_time": "2024-08-09T18:00:45.312534",
     "exception": false,
     "start_time": "2024-08-09T18:00:45.221016",
     "status": "completed"
    },
    "tags": []
   },
   "outputs": [
    {
     "data": {
      "text/plain": [
       "\"from sklearn.model_selection import GridSearchCV\\ncvmodelbc=GridSearchCV(bc,param_grid,cv=ss,scoring='accuracy',n_jobs=-1)\""
      ]
     },
     "execution_count": 145,
     "metadata": {},
     "output_type": "execute_result"
    }
   ],
   "source": [
    "'''from sklearn.model_selection import GridSearchCV\n",
    "cvmodelbc=GridSearchCV(bc,param_grid,cv=ss,scoring='accuracy',n_jobs=-1)'''"
   ]
  },
  {
   "cell_type": "code",
   "execution_count": 146,
   "id": "c5cf9714",
   "metadata": {
    "execution": {
     "iopub.execute_input": "2024-08-09T18:00:45.480720Z",
     "iopub.status.busy": "2024-08-09T18:00:45.480057Z",
     "iopub.status.idle": "2024-08-09T18:00:45.486751Z",
     "shell.execute_reply": "2024-08-09T18:00:45.484975Z"
    },
    "papermill": {
     "duration": 0.095301,
     "end_time": "2024-08-09T18:00:45.489967",
     "exception": false,
     "start_time": "2024-08-09T18:00:45.394666",
     "status": "completed"
    },
    "tags": []
   },
   "outputs": [],
   "source": [
    "#cvmodelbc.fit(x_train,y_train.values.ravel())"
   ]
  },
  {
   "cell_type": "code",
   "execution_count": 147,
   "id": "a1a62be6",
   "metadata": {
    "execution": {
     "iopub.execute_input": "2024-08-09T18:00:45.654660Z",
     "iopub.status.busy": "2024-08-09T18:00:45.654169Z",
     "iopub.status.idle": "2024-08-09T18:00:45.659531Z",
     "shell.execute_reply": "2024-08-09T18:00:45.658270Z"
    },
    "papermill": {
     "duration": 0.090212,
     "end_time": "2024-08-09T18:00:45.662311",
     "exception": false,
     "start_time": "2024-08-09T18:00:45.572099",
     "status": "completed"
    },
    "tags": []
   },
   "outputs": [],
   "source": [
    "#cvmodelbc.best_params_"
   ]
  },
  {
   "cell_type": "code",
   "execution_count": 148,
   "id": "8c714b64",
   "metadata": {
    "execution": {
     "iopub.execute_input": "2024-08-09T18:00:45.828692Z",
     "iopub.status.busy": "2024-08-09T18:00:45.828206Z",
     "iopub.status.idle": "2024-08-09T18:00:45.833895Z",
     "shell.execute_reply": "2024-08-09T18:00:45.832490Z"
    },
    "papermill": {
     "duration": 0.091335,
     "end_time": "2024-08-09T18:00:45.836643",
     "exception": false,
     "start_time": "2024-08-09T18:00:45.745308",
     "status": "completed"
    },
    "tags": []
   },
   "outputs": [],
   "source": [
    "#bestmodelbccv=cvmodelbc.best_estimator_\n",
    "#bestmodelbccv.score(x_val,y_val)"
   ]
  },
  {
   "cell_type": "markdown",
   "id": "74238016",
   "metadata": {
    "papermill": {
     "duration": 0.080455,
     "end_time": "2024-08-09T18:00:45.999611",
     "exception": false,
     "start_time": "2024-08-09T18:00:45.919156",
     "status": "completed"
    },
    "tags": []
   },
   "source": [
    "# Random Forest Classifier"
   ]
  },
  {
   "cell_type": "code",
   "execution_count": 149,
   "id": "c494e6f8",
   "metadata": {
    "execution": {
     "iopub.execute_input": "2024-08-09T18:00:46.163561Z",
     "iopub.status.busy": "2024-08-09T18:00:46.163074Z",
     "iopub.status.idle": "2024-08-09T18:00:46.170776Z",
     "shell.execute_reply": "2024-08-09T18:00:46.169445Z"
    },
    "papermill": {
     "duration": 0.093142,
     "end_time": "2024-08-09T18:00:46.173482",
     "exception": false,
     "start_time": "2024-08-09T18:00:46.080340",
     "status": "completed"
    },
    "tags": []
   },
   "outputs": [
    {
     "data": {
      "text/plain": [
       "'from sklearn.ensemble import RandomForestClassifier\\nre=RandomForestClassifier()\\nre.fit(x_train,y_train.values.ravel())\\nre.score(x_val,y_val)'"
      ]
     },
     "execution_count": 149,
     "metadata": {},
     "output_type": "execute_result"
    }
   ],
   "source": [
    "'''from sklearn.ensemble import RandomForestClassifier\n",
    "re=RandomForestClassifier()\n",
    "re.fit(x_train,y_train.values.ravel())\n",
    "re.score(x_val,y_val)'''"
   ]
  },
  {
   "cell_type": "code",
   "execution_count": 150,
   "id": "94ee0558",
   "metadata": {
    "execution": {
     "iopub.execute_input": "2024-08-09T18:00:46.338926Z",
     "iopub.status.busy": "2024-08-09T18:00:46.338294Z",
     "iopub.status.idle": "2024-08-09T18:00:46.346427Z",
     "shell.execute_reply": "2024-08-09T18:00:46.345121Z"
    },
    "papermill": {
     "duration": 0.093893,
     "end_time": "2024-08-09T18:00:46.348967",
     "exception": false,
     "start_time": "2024-08-09T18:00:46.255074",
     "status": "completed"
    },
    "tags": []
   },
   "outputs": [
    {
     "data": {
      "text/plain": [
       "\"from sklearn.model_selection import cross_val_score,cross_validate\\nscores1=cross_validate(re,x_train,y_train.values.ravel(),cv=ss,scoring='accuracy',return_train_score=True,return_estimator=True)\""
      ]
     },
     "execution_count": 150,
     "metadata": {},
     "output_type": "execute_result"
    }
   ],
   "source": [
    "'''from sklearn.model_selection import cross_val_score,cross_validate\n",
    "scores1=cross_validate(re,x_train,y_train.values.ravel(),cv=ss,scoring='accuracy',return_train_score=True,return_estimator=True)'''"
   ]
  },
  {
   "cell_type": "code",
   "execution_count": 151,
   "id": "baa295d1",
   "metadata": {
    "execution": {
     "iopub.execute_input": "2024-08-09T18:00:46.518687Z",
     "iopub.status.busy": "2024-08-09T18:00:46.518233Z",
     "iopub.status.idle": "2024-08-09T18:00:46.527071Z",
     "shell.execute_reply": "2024-08-09T18:00:46.525716Z"
    },
    "papermill": {
     "duration": 0.097135,
     "end_time": "2024-08-09T18:00:46.529797",
     "exception": false,
     "start_time": "2024-08-09T18:00:46.432662",
     "status": "completed"
    },
    "tags": []
   },
   "outputs": [
    {
     "data": {
      "text/plain": [
       "\"errors=-scores1['test_score']\\nid=np.argmin(errors)\\nbestmodelrf=scores1['estimator'][id]\\nbestmodelrf.score(x_val,y_val)\""
      ]
     },
     "execution_count": 151,
     "metadata": {},
     "output_type": "execute_result"
    }
   ],
   "source": [
    "'''errors=-scores1['test_score']\n",
    "id=np.argmin(errors)\n",
    "bestmodelrf=scores1['estimator'][id]\n",
    "bestmodelrf.score(x_val,y_val)'''"
   ]
  },
  {
   "cell_type": "code",
   "execution_count": 152,
   "id": "59fca403",
   "metadata": {
    "execution": {
     "iopub.execute_input": "2024-08-09T18:00:46.699131Z",
     "iopub.status.busy": "2024-08-09T18:00:46.698706Z",
     "iopub.status.idle": "2024-08-09T18:00:46.706577Z",
     "shell.execute_reply": "2024-08-09T18:00:46.705300Z"
    },
    "papermill": {
     "duration": 0.095846,
     "end_time": "2024-08-09T18:00:46.709268",
     "exception": false,
     "start_time": "2024-08-09T18:00:46.613422",
     "status": "completed"
    },
    "tags": []
   },
   "outputs": [
    {
     "data": {
      "text/plain": [
       "\"param_grid={'n_estimators':[20,50,100,150],\\n            'max_samples':[None,0.25,0.5,0.75,1],\\n             'bootstrap':[True],\\n            'max_features':[0.5,1],\\n             'min_samples_split':[10,15],\\n              'min_samples_leaf':[5,10],\\n            'min_impurity_decrease':[0.01,0.001]}\""
      ]
     },
     "execution_count": 152,
     "metadata": {},
     "output_type": "execute_result"
    }
   ],
   "source": [
    "'''param_grid={'n_estimators':[20,50,100,150],\n",
    "            'max_samples':[None,0.25,0.5,0.75,1],\n",
    "             'bootstrap':[True],\n",
    "            'max_features':[0.5,1],\n",
    "             'min_samples_split':[10,15],\n",
    "              'min_samples_leaf':[5,10],\n",
    "            'min_impurity_decrease':[0.01,0.001]}'''"
   ]
  },
  {
   "cell_type": "code",
   "execution_count": 153,
   "id": "1559028b",
   "metadata": {
    "execution": {
     "iopub.execute_input": "2024-08-09T18:00:46.876132Z",
     "iopub.status.busy": "2024-08-09T18:00:46.875676Z",
     "iopub.status.idle": "2024-08-09T18:00:46.884139Z",
     "shell.execute_reply": "2024-08-09T18:00:46.882819Z"
    },
    "papermill": {
     "duration": 0.095524,
     "end_time": "2024-08-09T18:00:46.887149",
     "exception": false,
     "start_time": "2024-08-09T18:00:46.791625",
     "status": "completed"
    },
    "tags": []
   },
   "outputs": [
    {
     "data": {
      "text/plain": [
       "\"from sklearn.model_selection import RandomizedSearchCV\\ncvmodelre=RandomizedSearchCV(re,param_distributions=param_grid,cv=7,scoring='accuracy',verbose=1,n_jobs=-1,random_state=41)\""
      ]
     },
     "execution_count": 153,
     "metadata": {},
     "output_type": "execute_result"
    }
   ],
   "source": [
    "'''from sklearn.model_selection import RandomizedSearchCV\n",
    "cvmodelre=RandomizedSearchCV(re,param_distributions=param_grid,cv=7,scoring='accuracy',verbose=1,n_jobs=-1,random_state=41)'''"
   ]
  },
  {
   "cell_type": "code",
   "execution_count": 154,
   "id": "5309d32c",
   "metadata": {
    "execution": {
     "iopub.execute_input": "2024-08-09T18:00:47.053568Z",
     "iopub.status.busy": "2024-08-09T18:00:47.053111Z",
     "iopub.status.idle": "2024-08-09T18:00:47.060702Z",
     "shell.execute_reply": "2024-08-09T18:00:47.059587Z"
    },
    "papermill": {
     "duration": 0.093512,
     "end_time": "2024-08-09T18:00:47.063144",
     "exception": false,
     "start_time": "2024-08-09T18:00:46.969632",
     "status": "completed"
    },
    "tags": []
   },
   "outputs": [
    {
     "data": {
      "text/plain": [
       "'cvmodelre.fit(x_train,y_train.values.ravel())\\nbestmodelcvre=cvmodelre.best_estimator_\\nbestmodelcvre.score(x_val,y_val)'"
      ]
     },
     "execution_count": 154,
     "metadata": {},
     "output_type": "execute_result"
    }
   ],
   "source": [
    "'''cvmodelre.fit(x_train,y_train.values.ravel())\n",
    "bestmodelcvre=cvmodelre.best_estimator_\n",
    "bestmodelcvre.score(x_val,y_val)'''"
   ]
  },
  {
   "cell_type": "markdown",
   "id": "f6791f01",
   "metadata": {
    "papermill": {
     "duration": 0.083632,
     "end_time": "2024-08-09T18:00:47.228297",
     "exception": false,
     "start_time": "2024-08-09T18:00:47.144665",
     "status": "completed"
    },
    "tags": []
   },
   "source": [
    "# Boosting"
   ]
  },
  {
   "cell_type": "code",
   "execution_count": 155,
   "id": "9dcd61ab",
   "metadata": {
    "execution": {
     "iopub.execute_input": "2024-08-09T18:00:47.394583Z",
     "iopub.status.busy": "2024-08-09T18:00:47.394137Z",
     "iopub.status.idle": "2024-08-09T18:00:47.401585Z",
     "shell.execute_reply": "2024-08-09T18:00:47.400488Z"
    },
    "papermill": {
     "duration": 0.093487,
     "end_time": "2024-08-09T18:00:47.404419",
     "exception": false,
     "start_time": "2024-08-09T18:00:47.310932",
     "status": "completed"
    },
    "tags": []
   },
   "outputs": [
    {
     "data": {
      "text/plain": [
       "'from sklearn.ensemble import AdaBoostClassifier\\nada=AdaBoostClassifier()\\nada.fit(x_train,y_train.values.ravel())'"
      ]
     },
     "execution_count": 155,
     "metadata": {},
     "output_type": "execute_result"
    }
   ],
   "source": [
    "'''from sklearn.ensemble import AdaBoostClassifier\n",
    "ada=AdaBoostClassifier()\n",
    "ada.fit(x_train,y_train.values.ravel())'''"
   ]
  },
  {
   "cell_type": "code",
   "execution_count": 156,
   "id": "209cbce5",
   "metadata": {
    "execution": {
     "iopub.execute_input": "2024-08-09T18:00:47.573251Z",
     "iopub.status.busy": "2024-08-09T18:00:47.572841Z",
     "iopub.status.idle": "2024-08-09T18:00:47.578169Z",
     "shell.execute_reply": "2024-08-09T18:00:47.576876Z"
    },
    "papermill": {
     "duration": 0.09229,
     "end_time": "2024-08-09T18:00:47.581059",
     "exception": false,
     "start_time": "2024-08-09T18:00:47.488769",
     "status": "completed"
    },
    "tags": []
   },
   "outputs": [],
   "source": [
    "#ada.score(x_val,y_val)"
   ]
  },
  {
   "cell_type": "code",
   "execution_count": 157,
   "id": "267fb38b",
   "metadata": {
    "execution": {
     "iopub.execute_input": "2024-08-09T18:00:47.754128Z",
     "iopub.status.busy": "2024-08-09T18:00:47.753726Z",
     "iopub.status.idle": "2024-08-09T18:00:47.762442Z",
     "shell.execute_reply": "2024-08-09T18:00:47.760771Z"
    },
    "papermill": {
     "duration": 0.102376,
     "end_time": "2024-08-09T18:00:47.765624",
     "exception": false,
     "start_time": "2024-08-09T18:00:47.663248",
     "status": "completed"
    },
    "tags": []
   },
   "outputs": [
    {
     "data": {
      "text/plain": [
       "\"param_grid={'n_estimators':[10,50,100,150],\\n           'learning_rate':[0.001,0.01,0.1,1],\\n           'algorithm':['SAMME','SAMME.R']}\""
      ]
     },
     "execution_count": 157,
     "metadata": {},
     "output_type": "execute_result"
    }
   ],
   "source": [
    "'''param_grid={'n_estimators':[10,50,100,150],\n",
    "           'learning_rate':[0.001,0.01,0.1,1],\n",
    "           'algorithm':['SAMME','SAMME.R']}'''"
   ]
  },
  {
   "cell_type": "code",
   "execution_count": 158,
   "id": "5dd936b6",
   "metadata": {
    "execution": {
     "iopub.execute_input": "2024-08-09T18:00:47.938230Z",
     "iopub.status.busy": "2024-08-09T18:00:47.937837Z",
     "iopub.status.idle": "2024-08-09T18:00:47.945690Z",
     "shell.execute_reply": "2024-08-09T18:00:47.944216Z"
    },
    "papermill": {
     "duration": 0.095562,
     "end_time": "2024-08-09T18:00:47.948281",
     "exception": false,
     "start_time": "2024-08-09T18:00:47.852719",
     "status": "completed"
    },
    "tags": []
   },
   "outputs": [
    {
     "data": {
      "text/plain": [
       "\"from sklearn.model_selection import GridSearchCV\\ncvmodelada=GridSearchCV(ada,param_grid,scoring='accuracy',n_jobs=-1,verbose=1)\\ncvmodelada.fit(x_train,y_train.values.ravel())\""
      ]
     },
     "execution_count": 158,
     "metadata": {},
     "output_type": "execute_result"
    }
   ],
   "source": [
    "'''from sklearn.model_selection import GridSearchCV\n",
    "cvmodelada=GridSearchCV(ada,param_grid,scoring='accuracy',n_jobs=-1,verbose=1)\n",
    "cvmodelada.fit(x_train,y_train.values.ravel())'''"
   ]
  },
  {
   "cell_type": "code",
   "execution_count": 159,
   "id": "81b5b9f2",
   "metadata": {
    "execution": {
     "iopub.execute_input": "2024-08-09T18:00:48.123848Z",
     "iopub.status.busy": "2024-08-09T18:00:48.122819Z",
     "iopub.status.idle": "2024-08-09T18:00:48.348364Z",
     "shell.execute_reply": "2024-08-09T18:00:48.347153Z"
    },
    "papermill": {
     "duration": 0.318115,
     "end_time": "2024-08-09T18:00:48.351634",
     "exception": false,
     "start_time": "2024-08-09T18:00:48.033519",
     "status": "completed"
    },
    "tags": []
   },
   "outputs": [],
   "source": [
    "import xgboost as xgb\n",
    "xgb_model = xgb.XGBClassifier()"
   ]
  },
  {
   "cell_type": "code",
   "execution_count": 160,
   "id": "4decfcb9",
   "metadata": {
    "execution": {
     "iopub.execute_input": "2024-08-09T18:00:48.522008Z",
     "iopub.status.busy": "2024-08-09T18:00:48.521554Z",
     "iopub.status.idle": "2024-08-09T18:00:59.696967Z",
     "shell.execute_reply": "2024-08-09T18:00:59.695621Z"
    },
    "papermill": {
     "duration": 11.265769,
     "end_time": "2024-08-09T18:00:59.699964",
     "exception": false,
     "start_time": "2024-08-09T18:00:48.434195",
     "status": "completed"
    },
    "tags": []
   },
   "outputs": [
    {
     "data": {
      "text/html": [
       "<style>#sk-container-id-1 {color: black;background-color: white;}#sk-container-id-1 pre{padding: 0;}#sk-container-id-1 div.sk-toggleable {background-color: white;}#sk-container-id-1 label.sk-toggleable__label {cursor: pointer;display: block;width: 100%;margin-bottom: 0;padding: 0.3em;box-sizing: border-box;text-align: center;}#sk-container-id-1 label.sk-toggleable__label-arrow:before {content: \"▸\";float: left;margin-right: 0.25em;color: #696969;}#sk-container-id-1 label.sk-toggleable__label-arrow:hover:before {color: black;}#sk-container-id-1 div.sk-estimator:hover label.sk-toggleable__label-arrow:before {color: black;}#sk-container-id-1 div.sk-toggleable__content {max-height: 0;max-width: 0;overflow: hidden;text-align: left;background-color: #f0f8ff;}#sk-container-id-1 div.sk-toggleable__content pre {margin: 0.2em;color: black;border-radius: 0.25em;background-color: #f0f8ff;}#sk-container-id-1 input.sk-toggleable__control:checked~div.sk-toggleable__content {max-height: 200px;max-width: 100%;overflow: auto;}#sk-container-id-1 input.sk-toggleable__control:checked~label.sk-toggleable__label-arrow:before {content: \"▾\";}#sk-container-id-1 div.sk-estimator input.sk-toggleable__control:checked~label.sk-toggleable__label {background-color: #d4ebff;}#sk-container-id-1 div.sk-label input.sk-toggleable__control:checked~label.sk-toggleable__label {background-color: #d4ebff;}#sk-container-id-1 input.sk-hidden--visually {border: 0;clip: rect(1px 1px 1px 1px);clip: rect(1px, 1px, 1px, 1px);height: 1px;margin: -1px;overflow: hidden;padding: 0;position: absolute;width: 1px;}#sk-container-id-1 div.sk-estimator {font-family: monospace;background-color: #f0f8ff;border: 1px dotted black;border-radius: 0.25em;box-sizing: border-box;margin-bottom: 0.5em;}#sk-container-id-1 div.sk-estimator:hover {background-color: #d4ebff;}#sk-container-id-1 div.sk-parallel-item::after {content: \"\";width: 100%;border-bottom: 1px solid gray;flex-grow: 1;}#sk-container-id-1 div.sk-label:hover label.sk-toggleable__label {background-color: #d4ebff;}#sk-container-id-1 div.sk-serial::before {content: \"\";position: absolute;border-left: 1px solid gray;box-sizing: border-box;top: 0;bottom: 0;left: 50%;z-index: 0;}#sk-container-id-1 div.sk-serial {display: flex;flex-direction: column;align-items: center;background-color: white;padding-right: 0.2em;padding-left: 0.2em;position: relative;}#sk-container-id-1 div.sk-item {position: relative;z-index: 1;}#sk-container-id-1 div.sk-parallel {display: flex;align-items: stretch;justify-content: center;background-color: white;position: relative;}#sk-container-id-1 div.sk-item::before, #sk-container-id-1 div.sk-parallel-item::before {content: \"\";position: absolute;border-left: 1px solid gray;box-sizing: border-box;top: 0;bottom: 0;left: 50%;z-index: -1;}#sk-container-id-1 div.sk-parallel-item {display: flex;flex-direction: column;z-index: 1;position: relative;background-color: white;}#sk-container-id-1 div.sk-parallel-item:first-child::after {align-self: flex-end;width: 50%;}#sk-container-id-1 div.sk-parallel-item:last-child::after {align-self: flex-start;width: 50%;}#sk-container-id-1 div.sk-parallel-item:only-child::after {width: 0;}#sk-container-id-1 div.sk-dashed-wrapped {border: 1px dashed gray;margin: 0 0.4em 0.5em 0.4em;box-sizing: border-box;padding-bottom: 0.4em;background-color: white;}#sk-container-id-1 div.sk-label label {font-family: monospace;font-weight: bold;display: inline-block;line-height: 1.2em;}#sk-container-id-1 div.sk-label-container {text-align: center;}#sk-container-id-1 div.sk-container {/* jupyter's `normalize.less` sets `[hidden] { display: none; }` but bootstrap.min.css set `[hidden] { display: none !important; }` so we also need the `!important` here to be able to override the default hidden behavior on the sphinx rendered scikit-learn.org. See: https://github.com/scikit-learn/scikit-learn/issues/21755 */display: inline-block !important;position: relative;}#sk-container-id-1 div.sk-text-repr-fallback {display: none;}</style><div id=\"sk-container-id-1\" class=\"sk-top-container\"><div class=\"sk-text-repr-fallback\"><pre>XGBClassifier(base_score=None, booster=None, callbacks=None,\n",
       "              colsample_bylevel=None, colsample_bynode=None,\n",
       "              colsample_bytree=None, device=None, early_stopping_rounds=None,\n",
       "              enable_categorical=False, eval_metric=None, feature_types=None,\n",
       "              gamma=None, grow_policy=None, importance_type=None,\n",
       "              interaction_constraints=None, learning_rate=None, max_bin=None,\n",
       "              max_cat_threshold=None, max_cat_to_onehot=None,\n",
       "              max_delta_step=None, max_depth=None, max_leaves=None,\n",
       "              min_child_weight=None, missing=nan, monotone_constraints=None,\n",
       "              multi_strategy=None, n_estimators=None, n_jobs=None,\n",
       "              num_parallel_tree=None, objective=&#x27;multi:softprob&#x27;, ...)</pre><b>In a Jupyter environment, please rerun this cell to show the HTML representation or trust the notebook. <br />On GitHub, the HTML representation is unable to render, please try loading this page with nbviewer.org.</b></div><div class=\"sk-container\" hidden><div class=\"sk-item\"><div class=\"sk-estimator sk-toggleable\"><input class=\"sk-toggleable__control sk-hidden--visually\" id=\"sk-estimator-id-1\" type=\"checkbox\" checked><label for=\"sk-estimator-id-1\" class=\"sk-toggleable__label sk-toggleable__label-arrow\">XGBClassifier</label><div class=\"sk-toggleable__content\"><pre>XGBClassifier(base_score=None, booster=None, callbacks=None,\n",
       "              colsample_bylevel=None, colsample_bynode=None,\n",
       "              colsample_bytree=None, device=None, early_stopping_rounds=None,\n",
       "              enable_categorical=False, eval_metric=None, feature_types=None,\n",
       "              gamma=None, grow_policy=None, importance_type=None,\n",
       "              interaction_constraints=None, learning_rate=None, max_bin=None,\n",
       "              max_cat_threshold=None, max_cat_to_onehot=None,\n",
       "              max_delta_step=None, max_depth=None, max_leaves=None,\n",
       "              min_child_weight=None, missing=nan, monotone_constraints=None,\n",
       "              multi_strategy=None, n_estimators=None, n_jobs=None,\n",
       "              num_parallel_tree=None, objective=&#x27;multi:softprob&#x27;, ...)</pre></div></div></div></div></div>"
      ],
      "text/plain": [
       "XGBClassifier(base_score=None, booster=None, callbacks=None,\n",
       "              colsample_bylevel=None, colsample_bynode=None,\n",
       "              colsample_bytree=None, device=None, early_stopping_rounds=None,\n",
       "              enable_categorical=False, eval_metric=None, feature_types=None,\n",
       "              gamma=None, grow_policy=None, importance_type=None,\n",
       "              interaction_constraints=None, learning_rate=None, max_bin=None,\n",
       "              max_cat_threshold=None, max_cat_to_onehot=None,\n",
       "              max_delta_step=None, max_depth=None, max_leaves=None,\n",
       "              min_child_weight=None, missing=nan, monotone_constraints=None,\n",
       "              multi_strategy=None, n_estimators=None, n_jobs=None,\n",
       "              num_parallel_tree=None, objective='multi:softprob', ...)"
      ]
     },
     "execution_count": 160,
     "metadata": {},
     "output_type": "execute_result"
    }
   ],
   "source": [
    "xgb_model.fit(x_train,y_train.values.ravel())"
   ]
  },
  {
   "cell_type": "code",
   "execution_count": 161,
   "id": "b43f6557",
   "metadata": {
    "execution": {
     "iopub.execute_input": "2024-08-09T18:00:59.875257Z",
     "iopub.status.busy": "2024-08-09T18:00:59.874795Z",
     "iopub.status.idle": "2024-08-09T18:00:59.958986Z",
     "shell.execute_reply": "2024-08-09T18:00:59.957605Z"
    },
    "papermill": {
     "duration": 0.174838,
     "end_time": "2024-08-09T18:00:59.961885",
     "exception": false,
     "start_time": "2024-08-09T18:00:59.787047",
     "status": "completed"
    },
    "tags": []
   },
   "outputs": [
    {
     "data": {
      "text/plain": [
       "0.9501666666666667"
      ]
     },
     "execution_count": 161,
     "metadata": {},
     "output_type": "execute_result"
    }
   ],
   "source": [
    "xgb_model.score(x_val,y_val)"
   ]
  },
  {
   "cell_type": "code",
   "execution_count": 162,
   "id": "eed5e47c",
   "metadata": {
    "execution": {
     "iopub.execute_input": "2024-08-09T18:01:00.138081Z",
     "iopub.status.busy": "2024-08-09T18:01:00.137620Z",
     "iopub.status.idle": "2024-08-09T18:01:00.144297Z",
     "shell.execute_reply": "2024-08-09T18:01:00.142766Z"
    },
    "papermill": {
     "duration": 0.09825,
     "end_time": "2024-08-09T18:01:00.147241",
     "exception": false,
     "start_time": "2024-08-09T18:01:00.048991",
     "status": "completed"
    },
    "tags": []
   },
   "outputs": [],
   "source": [
    "from sklearn.model_selection import RandomizedSearchCV"
   ]
  },
  {
   "cell_type": "code",
   "execution_count": 163,
   "id": "427df248",
   "metadata": {
    "execution": {
     "iopub.execute_input": "2024-08-09T18:01:00.321559Z",
     "iopub.status.busy": "2024-08-09T18:01:00.320406Z",
     "iopub.status.idle": "2024-08-09T18:01:00.328968Z",
     "shell.execute_reply": "2024-08-09T18:01:00.327542Z"
    },
    "papermill": {
     "duration": 0.09866,
     "end_time": "2024-08-09T18:01:00.331545",
     "exception": false,
     "start_time": "2024-08-09T18:01:00.232885",
     "status": "completed"
    },
    "tags": []
   },
   "outputs": [
    {
     "data": {
      "text/plain": [
       "\"xgb_refined_params = {\\n    'n_estimators': [90, 100, 110],\\n    'learning_rate': [0.05, 0.1, 0.15],\\n    'max_depth': [6, 7, 8],\\n    'subsample': [0.9, 1.0],\\n    'colsample_bytree': [0.5, 0.6, 0.7]\\n}\\n\\ngrid_search_xgb_refined =RandomizedSearchCV(estimator=xgb_model,param_distributions=xgb_refined_params,cv=5,verbose=1,n_jobs=-1)\\ngrid_search_xgb_refined.fit(x_train, y_train.values.ravel())\""
      ]
     },
     "execution_count": 163,
     "metadata": {},
     "output_type": "execute_result"
    }
   ],
   "source": [
    "'''xgb_refined_params = {\n",
    "    'n_estimators': [90, 100, 110],\n",
    "    'learning_rate': [0.05, 0.1, 0.15],\n",
    "    'max_depth': [6, 7, 8],\n",
    "    'subsample': [0.9, 1.0],\n",
    "    'colsample_bytree': [0.5, 0.6, 0.7]\n",
    "}\n",
    "\n",
    "grid_search_xgb_refined =RandomizedSearchCV(estimator=xgb_model,param_distributions=xgb_refined_params,cv=5,verbose=1,n_jobs=-1)\n",
    "grid_search_xgb_refined.fit(x_train, y_train.values.ravel())'''\n"
   ]
  },
  {
   "cell_type": "code",
   "execution_count": 164,
   "id": "2355652f",
   "metadata": {
    "execution": {
     "iopub.execute_input": "2024-08-09T18:01:00.511882Z",
     "iopub.status.busy": "2024-08-09T18:01:00.510307Z",
     "iopub.status.idle": "2024-08-09T18:01:00.516853Z",
     "shell.execute_reply": "2024-08-09T18:01:00.515407Z"
    },
    "papermill": {
     "duration": 0.100852,
     "end_time": "2024-08-09T18:01:00.519691",
     "exception": false,
     "start_time": "2024-08-09T18:01:00.418839",
     "status": "completed"
    },
    "tags": []
   },
   "outputs": [],
   "source": [
    "#grid_search_xgb_refined.best_params_"
   ]
  },
  {
   "cell_type": "code",
   "execution_count": 165,
   "id": "d03341df",
   "metadata": {
    "execution": {
     "iopub.execute_input": "2024-08-09T18:01:00.694620Z",
     "iopub.status.busy": "2024-08-09T18:01:00.694111Z",
     "iopub.status.idle": "2024-08-09T18:01:00.700665Z",
     "shell.execute_reply": "2024-08-09T18:01:00.698850Z"
    },
    "papermill": {
     "duration": 0.099498,
     "end_time": "2024-08-09T18:01:00.703771",
     "exception": false,
     "start_time": "2024-08-09T18:01:00.604273",
     "status": "completed"
    },
    "tags": []
   },
   "outputs": [],
   "source": [
    "#best_xgb_refined_model = grid_search_xgb_refined.best_estimator_\n",
    "#best_xgb_refined_model.score(x_val,y_val)"
   ]
  },
  {
   "cell_type": "code",
   "execution_count": 166,
   "id": "43e6ad49",
   "metadata": {
    "execution": {
     "iopub.execute_input": "2024-08-09T18:01:00.884559Z",
     "iopub.status.busy": "2024-08-09T18:01:00.884087Z",
     "iopub.status.idle": "2024-08-09T18:01:00.889932Z",
     "shell.execute_reply": "2024-08-09T18:01:00.888311Z"
    },
    "papermill": {
     "duration": 0.096682,
     "end_time": "2024-08-09T18:01:00.892780",
     "exception": false,
     "start_time": "2024-08-09T18:01:00.796098",
     "status": "completed"
    },
    "tags": []
   },
   "outputs": [],
   "source": [
    "#from sklearn.metrics import classification_report,confusion_matrix,accuracy_score"
   ]
  },
  {
   "cell_type": "code",
   "execution_count": 167,
   "id": "866a5157",
   "metadata": {
    "execution": {
     "iopub.execute_input": "2024-08-09T18:01:01.138853Z",
     "iopub.status.busy": "2024-08-09T18:01:01.138402Z",
     "iopub.status.idle": "2024-08-09T18:01:01.147336Z",
     "shell.execute_reply": "2024-08-09T18:01:01.146082Z"
    },
    "papermill": {
     "duration": 0.100029,
     "end_time": "2024-08-09T18:01:01.150021",
     "exception": false,
     "start_time": "2024-08-09T18:01:01.049992",
     "status": "completed"
    },
    "tags": []
   },
   "outputs": [
    {
     "data": {
      "text/plain": [
       "'def evaluate_model(model, X_train, y_train, X_val, y_val):\\n    model.fit(X_train, y_train)\\n    y_val_pred = model.predict(X_val)\\n    \\n    accuracy = accuracy_score(y_val, y_val_pred)\\n    report = classification_report(y_val, y_val_pred)\\n    conf_matrix = confusion_matrix(y_val, y_val_pred)\\n    \\n    return accuracy, report, conf_matrix'"
      ]
     },
     "execution_count": 167,
     "metadata": {},
     "output_type": "execute_result"
    }
   ],
   "source": [
    "'''def evaluate_model(model, X_train, y_train, X_val, y_val):\n",
    "    model.fit(X_train, y_train)\n",
    "    y_val_pred = model.predict(X_val)\n",
    "    \n",
    "    accuracy = accuracy_score(y_val, y_val_pred)\n",
    "    report = classification_report(y_val, y_val_pred)\n",
    "    conf_matrix = confusion_matrix(y_val, y_val_pred)\n",
    "    \n",
    "    return accuracy, report, conf_matrix'''"
   ]
  },
  {
   "cell_type": "code",
   "execution_count": 168,
   "id": "041503ac",
   "metadata": {
    "execution": {
     "iopub.execute_input": "2024-08-09T18:01:01.323814Z",
     "iopub.status.busy": "2024-08-09T18:01:01.323302Z",
     "iopub.status.idle": "2024-08-09T18:01:01.331092Z",
     "shell.execute_reply": "2024-08-09T18:01:01.329839Z"
    },
    "papermill": {
     "duration": 0.097792,
     "end_time": "2024-08-09T18:01:01.334035",
     "exception": false,
     "start_time": "2024-08-09T18:01:01.236243",
     "status": "completed"
    },
    "tags": []
   },
   "outputs": [
    {
     "data": {
      "text/plain": [
       "\"models = {\\n    'bagging':bestmodelbccv,\\n    'XGBoost Refined': best_xgb_refined_model,\\n    'RandomForest':re\\n}\""
      ]
     },
     "execution_count": 168,
     "metadata": {},
     "output_type": "execute_result"
    }
   ],
   "source": [
    "'''models = {\n",
    "    'bagging':bestmodelbccv,\n",
    "    'XGBoost Refined': best_xgb_refined_model,\n",
    "    'RandomForest':re\n",
    "}'''"
   ]
  },
  {
   "cell_type": "code",
   "execution_count": 169,
   "id": "fce6cc60",
   "metadata": {
    "execution": {
     "iopub.execute_input": "2024-08-09T18:01:01.515661Z",
     "iopub.status.busy": "2024-08-09T18:01:01.515154Z",
     "iopub.status.idle": "2024-08-09T18:01:01.524499Z",
     "shell.execute_reply": "2024-08-09T18:01:01.523114Z"
    },
    "papermill": {
     "duration": 0.104233,
     "end_time": "2024-08-09T18:01:01.527216",
     "exception": false,
     "start_time": "2024-08-09T18:01:01.422983",
     "status": "completed"
    },
    "tags": []
   },
   "outputs": [
    {
     "data": {
      "text/plain": [
       "'for name, model in models.items():\\n    accuracy, report, conf_matrix = evaluate_model(model,x_train, y_train, x_val, y_val)\\n    \\n    \\n    print(f\"{name} Accuracy: {accuracy:.4f}\")\\n    print(f\"{name} Classification Report:\\n{report}\")\\n    print(f\"{name} Confusion Matrix:\\n{conf_matrix}\\n\")\\n    sns.heatmap(conf_matrix)'"
      ]
     },
     "execution_count": 169,
     "metadata": {},
     "output_type": "execute_result"
    }
   ],
   "source": [
    "'''for name, model in models.items():\n",
    "    accuracy, report, conf_matrix = evaluate_model(model,x_train, y_train, x_val, y_val)\n",
    "    \n",
    "    \n",
    "    print(f\"{name} Accuracy: {accuracy:.4f}\")\n",
    "    print(f\"{name} Classification Report:\\n{report}\")\n",
    "    print(f\"{name} Confusion Matrix:\\n{conf_matrix}\\n\")\n",
    "    sns.heatmap(conf_matrix)'''"
   ]
  },
  {
   "cell_type": "markdown",
   "id": "fce47280",
   "metadata": {
    "papermill": {
     "duration": 0.089063,
     "end_time": "2024-08-09T18:01:01.707859",
     "exception": false,
     "start_time": "2024-08-09T18:01:01.618796",
     "status": "completed"
    },
    "tags": []
   },
   "source": [
    "1-Crimes against Public Order\n",
    "\n",
    "2-Fraud and White-Collar Crimes\n",
    "\n",
    "3-Other Crimes\n",
    "\n",
    "4-Property Crimes\n",
    "\n",
    "5-Violent Crimes\n",
    "\n",
    "\n"
   ]
  },
  {
   "cell_type": "markdown",
   "id": "26312ba6",
   "metadata": {
    "papermill": {
     "duration": 0.08948,
     "end_time": "2024-08-09T18:01:01.890642",
     "exception": false,
     "start_time": "2024-08-09T18:01:01.801162",
     "status": "completed"
    },
    "tags": []
   },
   "source": [
    "****Insights From Model****"
   ]
  },
  {
   "cell_type": "markdown",
   "id": "7500b5ae",
   "metadata": {
    "papermill": {
     "duration": 0.087045,
     "end_time": "2024-08-09T18:01:02.065565",
     "exception": false,
     "start_time": "2024-08-09T18:01:01.978520",
     "status": "completed"
    },
    "tags": []
   },
   "source": [
    "1.XGBoost Giving More Accuracy Compared to Other Models\n",
    "\n",
    "2.Random Forest Base Model Giving More Accuracy Compared its Best Parameters\n",
    "\n",
    "3.Bagging giving similar Accuracy of Random Forest\n",
    "\n",
    "4.Property Crimes are More Correctly predicted followed by Violent Crimes"
   ]
  },
  {
   "cell_type": "markdown",
   "id": "102b1a1b",
   "metadata": {
    "papermill": {
     "duration": 0.088127,
     "end_time": "2024-08-09T18:01:02.244161",
     "exception": false,
     "start_time": "2024-08-09T18:01:02.156034",
     "status": "completed"
    },
    "tags": []
   },
   "source": [
    "****Insights From Data****"
   ]
  },
  {
   "cell_type": "markdown",
   "id": "5921c991",
   "metadata": {
    "papermill": {
     "duration": 0.087017,
     "end_time": "2024-08-09T18:01:02.419301",
     "exception": false,
     "start_time": "2024-08-09T18:01:02.332284",
     "status": "completed"
    },
    "tags": []
   },
   "source": [
    "1.Modus Operandi Playing a Key Role in accuracy\n",
    "\n",
    "\n",
    "2.Data was not properly Scaled ,Scaling is Important"
   ]
  },
  {
   "cell_type": "code",
   "execution_count": null,
   "id": "cab0299b",
   "metadata": {
    "papermill": {
     "duration": 0.086136,
     "end_time": "2024-08-09T18:01:02.593530",
     "exception": false,
     "start_time": "2024-08-09T18:01:02.507394",
     "status": "completed"
    },
    "tags": []
   },
   "outputs": [],
   "source": []
  },
  {
   "cell_type": "markdown",
   "id": "8eef581d",
   "metadata": {
    "papermill": {
     "duration": 0.087697,
     "end_time": "2024-08-09T18:01:02.768734",
     "exception": false,
     "start_time": "2024-08-09T18:01:02.681037",
     "status": "completed"
    },
    "tags": []
   },
   "source": [
    "# Test Data Prediction"
   ]
  },
  {
   "cell_type": "code",
   "execution_count": 170,
   "id": "5a1f2887",
   "metadata": {
    "execution": {
     "iopub.execute_input": "2024-08-09T18:01:02.946555Z",
     "iopub.status.busy": "2024-08-09T18:01:02.946041Z",
     "iopub.status.idle": "2024-08-09T18:01:02.951670Z",
     "shell.execute_reply": "2024-08-09T18:01:02.950424Z"
    },
    "papermill": {
     "duration": 0.096821,
     "end_time": "2024-08-09T18:01:02.954073",
     "exception": false,
     "start_time": "2024-08-09T18:01:02.857252",
     "status": "completed"
    },
    "tags": []
   },
   "outputs": [],
   "source": [
    "columns=x_train.columns"
   ]
  },
  {
   "cell_type": "code",
   "execution_count": null,
   "id": "d503d98b",
   "metadata": {
    "papermill": {
     "duration": 0.086366,
     "end_time": "2024-08-09T18:01:03.127169",
     "exception": false,
     "start_time": "2024-08-09T18:01:03.040803",
     "status": "completed"
    },
    "tags": []
   },
   "outputs": [],
   "source": []
  },
  {
   "cell_type": "code",
   "execution_count": 171,
   "id": "cbed281c",
   "metadata": {
    "execution": {
     "iopub.execute_input": "2024-08-09T18:01:03.302664Z",
     "iopub.status.busy": "2024-08-09T18:01:03.302181Z",
     "iopub.status.idle": "2024-08-09T18:01:03.369697Z",
     "shell.execute_reply": "2024-08-09T18:01:03.368478Z"
    },
    "papermill": {
     "duration": 0.160323,
     "end_time": "2024-08-09T18:01:03.373606",
     "exception": false,
     "start_time": "2024-08-09T18:01:03.213283",
     "status": "completed"
    },
    "tags": []
   },
   "outputs": [],
   "source": [
    "pred=xgb_model.predict(x_te)"
   ]
  },
  {
   "cell_type": "code",
   "execution_count": 172,
   "id": "2c8ea399",
   "metadata": {
    "execution": {
     "iopub.execute_input": "2024-08-09T18:01:03.554760Z",
     "iopub.status.busy": "2024-08-09T18:01:03.553681Z",
     "iopub.status.idle": "2024-08-09T18:01:03.561235Z",
     "shell.execute_reply": "2024-08-09T18:01:03.560046Z"
    },
    "papermill": {
     "duration": 0.101892,
     "end_time": "2024-08-09T18:01:03.563791",
     "exception": false,
     "start_time": "2024-08-09T18:01:03.461899",
     "status": "completed"
    },
    "tags": []
   },
   "outputs": [],
   "source": [
    "le_label_encoder = joblib.load('le_label_encoder.pkl')\n",
    "y_test_pred_decoded =le_label_encoder.inverse_transform(pred)\n"
   ]
  },
  {
   "cell_type": "code",
   "execution_count": 173,
   "id": "ca51710d",
   "metadata": {
    "execution": {
     "iopub.execute_input": "2024-08-09T18:01:03.741244Z",
     "iopub.status.busy": "2024-08-09T18:01:03.740798Z",
     "iopub.status.idle": "2024-08-09T18:01:03.749089Z",
     "shell.execute_reply": "2024-08-09T18:01:03.747600Z"
    },
    "papermill": {
     "duration": 0.101767,
     "end_time": "2024-08-09T18:01:03.752166",
     "exception": false,
     "start_time": "2024-08-09T18:01:03.650399",
     "status": "completed"
    },
    "tags": []
   },
   "outputs": [
    {
     "data": {
      "text/plain": [
       "(5000,)"
      ]
     },
     "execution_count": 173,
     "metadata": {},
     "output_type": "execute_result"
    }
   ],
   "source": [
    "y_test_pred_decoded.shape"
   ]
  },
  {
   "cell_type": "code",
   "execution_count": 174,
   "id": "8400ebfc",
   "metadata": {
    "execution": {
     "iopub.execute_input": "2024-08-09T18:01:03.929987Z",
     "iopub.status.busy": "2024-08-09T18:01:03.929003Z",
     "iopub.status.idle": "2024-08-09T18:01:03.950706Z",
     "shell.execute_reply": "2024-08-09T18:01:03.949354Z"
    },
    "papermill": {
     "duration": 0.113705,
     "end_time": "2024-08-09T18:01:03.953848",
     "exception": false,
     "start_time": "2024-08-09T18:01:03.840143",
     "status": "completed"
    },
    "tags": []
   },
   "outputs": [
    {
     "name": "stdout",
     "output_type": "stream",
     "text": [
      "done\n"
     ]
    }
   ],
   "source": [
    "submission=pd.DataFrame({\"ID\":np.arange(1,5001),\"Crime_Category\":y_test_pred_decoded})\n",
    "submission.to_csv('submission.csv',index=False)\n",
    "print('done')"
   ]
  },
  {
   "cell_type": "code",
   "execution_count": 175,
   "id": "ebdcfe5e",
   "metadata": {
    "execution": {
     "iopub.execute_input": "2024-08-09T18:01:04.130244Z",
     "iopub.status.busy": "2024-08-09T18:01:04.129796Z",
     "iopub.status.idle": "2024-08-09T18:01:04.143191Z",
     "shell.execute_reply": "2024-08-09T18:01:04.141913Z"
    },
    "papermill": {
     "duration": 0.105,
     "end_time": "2024-08-09T18:01:04.146023",
     "exception": false,
     "start_time": "2024-08-09T18:01:04.041023",
     "status": "completed"
    },
    "tags": []
   },
   "outputs": [
    {
     "data": {
      "text/html": [
       "<div>\n",
       "<style scoped>\n",
       "    .dataframe tbody tr th:only-of-type {\n",
       "        vertical-align: middle;\n",
       "    }\n",
       "\n",
       "    .dataframe tbody tr th {\n",
       "        vertical-align: top;\n",
       "    }\n",
       "\n",
       "    .dataframe thead th {\n",
       "        text-align: right;\n",
       "    }\n",
       "</style>\n",
       "<table border=\"1\" class=\"dataframe\">\n",
       "  <thead>\n",
       "    <tr style=\"text-align: right;\">\n",
       "      <th></th>\n",
       "      <th>ID</th>\n",
       "      <th>Crime_Category</th>\n",
       "    </tr>\n",
       "  </thead>\n",
       "  <tbody>\n",
       "    <tr>\n",
       "      <th>0</th>\n",
       "      <td>1</td>\n",
       "      <td>Property Crimes</td>\n",
       "    </tr>\n",
       "    <tr>\n",
       "      <th>1</th>\n",
       "      <td>2</td>\n",
       "      <td>Property Crimes</td>\n",
       "    </tr>\n",
       "    <tr>\n",
       "      <th>2</th>\n",
       "      <td>3</td>\n",
       "      <td>Fraud and White-Collar Crimes</td>\n",
       "    </tr>\n",
       "    <tr>\n",
       "      <th>3</th>\n",
       "      <td>4</td>\n",
       "      <td>Property Crimes</td>\n",
       "    </tr>\n",
       "    <tr>\n",
       "      <th>4</th>\n",
       "      <td>5</td>\n",
       "      <td>Property Crimes</td>\n",
       "    </tr>\n",
       "    <tr>\n",
       "      <th>...</th>\n",
       "      <td>...</td>\n",
       "      <td>...</td>\n",
       "    </tr>\n",
       "    <tr>\n",
       "      <th>4995</th>\n",
       "      <td>4996</td>\n",
       "      <td>Property Crimes</td>\n",
       "    </tr>\n",
       "    <tr>\n",
       "      <th>4996</th>\n",
       "      <td>4997</td>\n",
       "      <td>Property Crimes</td>\n",
       "    </tr>\n",
       "    <tr>\n",
       "      <th>4997</th>\n",
       "      <td>4998</td>\n",
       "      <td>Violent Crimes</td>\n",
       "    </tr>\n",
       "    <tr>\n",
       "      <th>4998</th>\n",
       "      <td>4999</td>\n",
       "      <td>Violent Crimes</td>\n",
       "    </tr>\n",
       "    <tr>\n",
       "      <th>4999</th>\n",
       "      <td>5000</td>\n",
       "      <td>Property Crimes</td>\n",
       "    </tr>\n",
       "  </tbody>\n",
       "</table>\n",
       "<p>5000 rows × 2 columns</p>\n",
       "</div>"
      ],
      "text/plain": [
       "        ID                 Crime_Category\n",
       "0        1                Property Crimes\n",
       "1        2                Property Crimes\n",
       "2        3  Fraud and White-Collar Crimes\n",
       "3        4                Property Crimes\n",
       "4        5                Property Crimes\n",
       "...    ...                            ...\n",
       "4995  4996                Property Crimes\n",
       "4996  4997                Property Crimes\n",
       "4997  4998                 Violent Crimes\n",
       "4998  4999                 Violent Crimes\n",
       "4999  5000                Property Crimes\n",
       "\n",
       "[5000 rows x 2 columns]"
      ]
     },
     "execution_count": 175,
     "metadata": {},
     "output_type": "execute_result"
    }
   ],
   "source": [
    "submission"
   ]
  },
  {
   "cell_type": "markdown",
   "id": "a9c32689",
   "metadata": {
    "papermill": {
     "duration": 0.08894,
     "end_time": "2024-08-09T18:01:04.323494",
     "exception": false,
     "start_time": "2024-08-09T18:01:04.234554",
     "status": "completed"
    },
    "tags": []
   },
   "source": [
    "Import the `iris` dataset and drop the rows where `class=Iris-setosa`. Apply a pipeline containing a `MinMaxScaler()`function called`Scaler` and a `svm.svc()` called `classifier`. Split the `iris` dataset into 75:25 ratio with `random_state=0`. Mark the correct precision score"
   ]
  },
  {
   "cell_type": "code",
   "execution_count": 176,
   "id": "0ebcfcf5",
   "metadata": {
    "execution": {
     "iopub.execute_input": "2024-08-09T18:01:04.498412Z",
     "iopub.status.busy": "2024-08-09T18:01:04.498016Z",
     "iopub.status.idle": "2024-08-09T18:01:04.636547Z",
     "shell.execute_reply": "2024-08-09T18:01:04.635246Z"
    },
    "papermill": {
     "duration": 0.229722,
     "end_time": "2024-08-09T18:01:04.639494",
     "exception": false,
     "start_time": "2024-08-09T18:01:04.409772",
     "status": "completed"
    },
    "tags": []
   },
   "outputs": [],
   "source": [
    "from sklearn.datasets import load_iris\n",
    "data=load_iris(return_X_y=True,as_frame=True)\n"
   ]
  },
  {
   "cell_type": "code",
   "execution_count": 177,
   "id": "7dc2d712",
   "metadata": {
    "execution": {
     "iopub.execute_input": "2024-08-09T18:01:04.819277Z",
     "iopub.status.busy": "2024-08-09T18:01:04.818728Z",
     "iopub.status.idle": "2024-08-09T18:01:04.825338Z",
     "shell.execute_reply": "2024-08-09T18:01:04.823827Z"
    },
    "papermill": {
     "duration": 0.100743,
     "end_time": "2024-08-09T18:01:04.828149",
     "exception": false,
     "start_time": "2024-08-09T18:01:04.727406",
     "status": "completed"
    },
    "tags": []
   },
   "outputs": [],
   "source": [
    "from sklearn.preprocessing import MinMaxScaler\n",
    "from sklearn.svm import SVC\n",
    "minmax=MinMaxScaler()\n",
    "svmmodel=SVC()"
   ]
  },
  {
   "cell_type": "code",
   "execution_count": 178,
   "id": "be2c1669",
   "metadata": {
    "execution": {
     "iopub.execute_input": "2024-08-09T18:01:05.008430Z",
     "iopub.status.busy": "2024-08-09T18:01:05.007980Z",
     "iopub.status.idle": "2024-08-09T18:01:05.016210Z",
     "shell.execute_reply": "2024-08-09T18:01:05.015073Z"
    },
    "papermill": {
     "duration": 0.099034,
     "end_time": "2024-08-09T18:01:05.019311",
     "exception": false,
     "start_time": "2024-08-09T18:01:04.920277",
     "status": "completed"
    },
    "tags": []
   },
   "outputs": [],
   "source": [
    "from sklearn.pipeline import Pipeline\n",
    "pipe=Pipeline(steps=[('minmax',minmax),('svm',svmmodel)])"
   ]
  }
 ],
 "metadata": {
  "kaggle": {
   "accelerator": "none",
   "dataSources": [
    {
     "databundleVersionId": 8446444,
     "sourceId": 77420,
     "sourceType": "competition"
    }
   ],
   "dockerImageVersionId": 30732,
   "isGpuEnabled": false,
   "isInternetEnabled": false,
   "language": "python",
   "sourceType": "notebook"
  },
  "kernelspec": {
   "display_name": "Python 3",
   "language": "python",
   "name": "python3"
  },
  "language_info": {
   "codemirror_mode": {
    "name": "ipython",
    "version": 3
   },
   "file_extension": ".py",
   "mimetype": "text/x-python",
   "name": "python",
   "nbconvert_exporter": "python",
   "pygments_lexer": "ipython3",
   "version": "3.10.13"
  },
  "papermill": {
   "default_parameters": {},
   "duration": 152.71406,
   "end_time": "2024-08-09T18:01:06.032109",
   "environment_variables": {},
   "exception": null,
   "input_path": "__notebook__.ipynb",
   "output_path": "__notebook__.ipynb",
   "parameters": {},
   "start_time": "2024-08-09T17:58:33.318049",
   "version": "2.5.0"
  }
 },
 "nbformat": 4,
 "nbformat_minor": 5
}
